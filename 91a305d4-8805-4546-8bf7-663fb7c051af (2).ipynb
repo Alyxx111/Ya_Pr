{
 "cells": [
  {
   "cell_type": "markdown",
   "id": "96a983d8",
   "metadata": {},
   "source": [
    "# КОММЕНТАРИЙ РЕВЬЮВЕРА\n",
    "Привет Саша 👋!)\n",
    "\n",
    "Меня зовут Сибирев Владислав, я осуществлял проверку проекта. Может перейдем сразу на <b>ты</b>? Если это неприемлемо, то обязательно дай знать)\n",
    "\n",
    "Далее по ходу работы ты сможешь встретить мои комментарии, они будут отмечены разными цветами:\n",
    "\n",
    "<div class=\"alert alert-block alert-success\">\n",
    " ✔️ Похвала и возможности развития\n",
    "</div>\n",
    "<div class=\"alert alert-block alert-warning\">\n",
    "⚠️ Некритичные замечания, но стоит обратить внимание\n",
    "</div>\n",
    "<div class=\"alert alert-block alert-danger\">\n",
    "❌ Грубая ошибка, необходимо исправить\n",
    "</div>\n",
    "\n",
    "\n",
    "Заранее прошу не удалять мои комментарии, это важно. Если у тебя возникнут вопросы, обозначь их, я с радостью тебе помогу!)\n",
    "\n",
    "Как вариант, можешь обозначить их так:\n",
    "<div class=\"alert alert-block alert-info\">\n",
    "<b>КОММЕНТАРИЙ СТУДЕНТА:</b> Владислав, добрый день! Выводы я писал, но видимо какие-то технические моменты не позволили тебе их увидеть, жаль конечно. \n",
    "</div>"
   ]
  },
  {
   "cell_type": "markdown",
   "id": "0f32c384",
   "metadata": {
    "deletable": false,
    "editable": false,
    "id": "c81daeeb"
   },
   "source": [
    "# Исследование надежности заемщиков\n"
   ]
  },
  {
   "cell_type": "markdown",
   "id": "f8543cd6",
   "metadata": {
    "deletable": false,
    "editable": false,
    "id": "827c20bf"
   },
   "source": [
    "Во второй части проекта вы выполните шаги 3 и 4. Их вручную проверит ревьюер.\n",
    "Чтобы вам не пришлось писать код заново для шагов 1 и 2, мы добавили авторские решения в ячейки с кодом. \n",
    "\n"
   ]
  },
  {
   "cell_type": "markdown",
   "id": "2ebd7cf4",
   "metadata": {},
   "source": [
    "<div class=\"alert alert-block alert-success\">\n",
    "<b>Комментарий ревьюера:</b> \n",
    "\n",
    "✔️ Так как первая часть является автоматической, то я просто буду в ней давать рекомендации, которые ты можешь использовать в дальнейшем))<br>\n",
    "P.S. Любой проект нужно начинать с описания)) \n",
    "  </div>"
   ]
  },
  {
   "cell_type": "markdown",
   "id": "9c424b1e",
   "metadata": {
    "deletable": false,
    "editable": false,
    "id": "744d7639"
   },
   "source": [
    "## Откройте таблицу и изучите общую информацию о данных"
   ]
  },
  {
   "cell_type": "markdown",
   "id": "4efdd84d",
   "metadata": {
    "deletable": false,
    "editable": false,
    "id": "e7a14c31"
   },
   "source": [
    "**Задание 1. Импортируйте библиотеку pandas. Считайте данные из csv-файла в датафрейм и сохраните в переменную `data`. Путь к файлу:**\n",
    "\n",
    "`/datasets/data.csv`"
   ]
  },
  {
   "cell_type": "code",
   "execution_count": 1,
   "id": "e5d698e8",
   "metadata": {
    "deletable": false,
    "id": "7bcf75c9"
   },
   "outputs": [],
   "source": [
    "import pandas as pd\n",
    "\n",
    "try:\n",
    "    data = pd.read_csv('/datasets/data.csv')\n",
    "except:\n",
    "    data = pd.read_csv('https://code.s3.yandex.net/datasets/data.csv')"
   ]
  },
  {
   "cell_type": "markdown",
   "id": "09912610",
   "metadata": {},
   "source": [
    "<div class=\"alert alert-block alert-success\">\n",
    "<b>Комментарий ревьюера:</b> \n",
    "\n",
    "✔️ Молодец, что используешь конструкцию __try и except__<br>\n",
    "P.S. Для следующих проектов нужно импортировать библиотеки в отдельной ячейке) Это позволяет быстро сориентироваться, что нужно для запуска проекта, если кто-то будет запускать его в другом окружении.\n",
    "  </div>"
   ]
  },
  {
   "cell_type": "markdown",
   "id": "33c24b8b",
   "metadata": {
    "deletable": false,
    "editable": false,
    "id": "b8038fe3"
   },
   "source": [
    "**Задание 2. Выведите первые 20 строчек датафрейма `data` на экран.**"
   ]
  },
  {
   "cell_type": "code",
   "execution_count": 2,
   "id": "58df9440",
   "metadata": {
    "deletable": false,
    "id": "2a7cab99",
    "outputId": "1a8f3ef2-d323-4ec2-ddf7-89670b5944c4"
   },
   "outputs": [
    {
     "data": {
      "text/html": [
       "<div>\n",
       "<style scoped>\n",
       "    .dataframe tbody tr th:only-of-type {\n",
       "        vertical-align: middle;\n",
       "    }\n",
       "\n",
       "    .dataframe tbody tr th {\n",
       "        vertical-align: top;\n",
       "    }\n",
       "\n",
       "    .dataframe thead th {\n",
       "        text-align: right;\n",
       "    }\n",
       "</style>\n",
       "<table border=\"1\" class=\"dataframe\">\n",
       "  <thead>\n",
       "    <tr style=\"text-align: right;\">\n",
       "      <th></th>\n",
       "      <th>children</th>\n",
       "      <th>days_employed</th>\n",
       "      <th>dob_years</th>\n",
       "      <th>education</th>\n",
       "      <th>education_id</th>\n",
       "      <th>family_status</th>\n",
       "      <th>family_status_id</th>\n",
       "      <th>gender</th>\n",
       "      <th>income_type</th>\n",
       "      <th>debt</th>\n",
       "      <th>total_income</th>\n",
       "      <th>purpose</th>\n",
       "    </tr>\n",
       "  </thead>\n",
       "  <tbody>\n",
       "    <tr>\n",
       "      <th>0</th>\n",
       "      <td>1</td>\n",
       "      <td>-8437.673028</td>\n",
       "      <td>42</td>\n",
       "      <td>высшее</td>\n",
       "      <td>0</td>\n",
       "      <td>женат / замужем</td>\n",
       "      <td>0</td>\n",
       "      <td>F</td>\n",
       "      <td>сотрудник</td>\n",
       "      <td>0</td>\n",
       "      <td>253875.639453</td>\n",
       "      <td>покупка жилья</td>\n",
       "    </tr>\n",
       "    <tr>\n",
       "      <th>1</th>\n",
       "      <td>1</td>\n",
       "      <td>-4024.803754</td>\n",
       "      <td>36</td>\n",
       "      <td>среднее</td>\n",
       "      <td>1</td>\n",
       "      <td>женат / замужем</td>\n",
       "      <td>0</td>\n",
       "      <td>F</td>\n",
       "      <td>сотрудник</td>\n",
       "      <td>0</td>\n",
       "      <td>112080.014102</td>\n",
       "      <td>приобретение автомобиля</td>\n",
       "    </tr>\n",
       "    <tr>\n",
       "      <th>2</th>\n",
       "      <td>0</td>\n",
       "      <td>-5623.422610</td>\n",
       "      <td>33</td>\n",
       "      <td>Среднее</td>\n",
       "      <td>1</td>\n",
       "      <td>женат / замужем</td>\n",
       "      <td>0</td>\n",
       "      <td>M</td>\n",
       "      <td>сотрудник</td>\n",
       "      <td>0</td>\n",
       "      <td>145885.952297</td>\n",
       "      <td>покупка жилья</td>\n",
       "    </tr>\n",
       "    <tr>\n",
       "      <th>3</th>\n",
       "      <td>3</td>\n",
       "      <td>-4124.747207</td>\n",
       "      <td>32</td>\n",
       "      <td>среднее</td>\n",
       "      <td>1</td>\n",
       "      <td>женат / замужем</td>\n",
       "      <td>0</td>\n",
       "      <td>M</td>\n",
       "      <td>сотрудник</td>\n",
       "      <td>0</td>\n",
       "      <td>267628.550329</td>\n",
       "      <td>дополнительное образование</td>\n",
       "    </tr>\n",
       "    <tr>\n",
       "      <th>4</th>\n",
       "      <td>0</td>\n",
       "      <td>340266.072047</td>\n",
       "      <td>53</td>\n",
       "      <td>среднее</td>\n",
       "      <td>1</td>\n",
       "      <td>гражданский брак</td>\n",
       "      <td>1</td>\n",
       "      <td>F</td>\n",
       "      <td>пенсионер</td>\n",
       "      <td>0</td>\n",
       "      <td>158616.077870</td>\n",
       "      <td>сыграть свадьбу</td>\n",
       "    </tr>\n",
       "    <tr>\n",
       "      <th>5</th>\n",
       "      <td>0</td>\n",
       "      <td>-926.185831</td>\n",
       "      <td>27</td>\n",
       "      <td>высшее</td>\n",
       "      <td>0</td>\n",
       "      <td>гражданский брак</td>\n",
       "      <td>1</td>\n",
       "      <td>M</td>\n",
       "      <td>компаньон</td>\n",
       "      <td>0</td>\n",
       "      <td>255763.565419</td>\n",
       "      <td>покупка жилья</td>\n",
       "    </tr>\n",
       "    <tr>\n",
       "      <th>6</th>\n",
       "      <td>0</td>\n",
       "      <td>-2879.202052</td>\n",
       "      <td>43</td>\n",
       "      <td>высшее</td>\n",
       "      <td>0</td>\n",
       "      <td>женат / замужем</td>\n",
       "      <td>0</td>\n",
       "      <td>F</td>\n",
       "      <td>компаньон</td>\n",
       "      <td>0</td>\n",
       "      <td>240525.971920</td>\n",
       "      <td>операции с жильем</td>\n",
       "    </tr>\n",
       "    <tr>\n",
       "      <th>7</th>\n",
       "      <td>0</td>\n",
       "      <td>-152.779569</td>\n",
       "      <td>50</td>\n",
       "      <td>СРЕДНЕЕ</td>\n",
       "      <td>1</td>\n",
       "      <td>женат / замужем</td>\n",
       "      <td>0</td>\n",
       "      <td>M</td>\n",
       "      <td>сотрудник</td>\n",
       "      <td>0</td>\n",
       "      <td>135823.934197</td>\n",
       "      <td>образование</td>\n",
       "    </tr>\n",
       "    <tr>\n",
       "      <th>8</th>\n",
       "      <td>2</td>\n",
       "      <td>-6929.865299</td>\n",
       "      <td>35</td>\n",
       "      <td>ВЫСШЕЕ</td>\n",
       "      <td>0</td>\n",
       "      <td>гражданский брак</td>\n",
       "      <td>1</td>\n",
       "      <td>F</td>\n",
       "      <td>сотрудник</td>\n",
       "      <td>0</td>\n",
       "      <td>95856.832424</td>\n",
       "      <td>на проведение свадьбы</td>\n",
       "    </tr>\n",
       "    <tr>\n",
       "      <th>9</th>\n",
       "      <td>0</td>\n",
       "      <td>-2188.756445</td>\n",
       "      <td>41</td>\n",
       "      <td>среднее</td>\n",
       "      <td>1</td>\n",
       "      <td>женат / замужем</td>\n",
       "      <td>0</td>\n",
       "      <td>M</td>\n",
       "      <td>сотрудник</td>\n",
       "      <td>0</td>\n",
       "      <td>144425.938277</td>\n",
       "      <td>покупка жилья для семьи</td>\n",
       "    </tr>\n",
       "    <tr>\n",
       "      <th>10</th>\n",
       "      <td>2</td>\n",
       "      <td>-4171.483647</td>\n",
       "      <td>36</td>\n",
       "      <td>высшее</td>\n",
       "      <td>0</td>\n",
       "      <td>женат / замужем</td>\n",
       "      <td>0</td>\n",
       "      <td>M</td>\n",
       "      <td>компаньон</td>\n",
       "      <td>0</td>\n",
       "      <td>113943.491460</td>\n",
       "      <td>покупка недвижимости</td>\n",
       "    </tr>\n",
       "    <tr>\n",
       "      <th>11</th>\n",
       "      <td>0</td>\n",
       "      <td>-792.701887</td>\n",
       "      <td>40</td>\n",
       "      <td>среднее</td>\n",
       "      <td>1</td>\n",
       "      <td>женат / замужем</td>\n",
       "      <td>0</td>\n",
       "      <td>F</td>\n",
       "      <td>сотрудник</td>\n",
       "      <td>0</td>\n",
       "      <td>77069.234271</td>\n",
       "      <td>покупка коммерческой недвижимости</td>\n",
       "    </tr>\n",
       "    <tr>\n",
       "      <th>12</th>\n",
       "      <td>0</td>\n",
       "      <td>NaN</td>\n",
       "      <td>65</td>\n",
       "      <td>среднее</td>\n",
       "      <td>1</td>\n",
       "      <td>гражданский брак</td>\n",
       "      <td>1</td>\n",
       "      <td>M</td>\n",
       "      <td>пенсионер</td>\n",
       "      <td>0</td>\n",
       "      <td>NaN</td>\n",
       "      <td>сыграть свадьбу</td>\n",
       "    </tr>\n",
       "    <tr>\n",
       "      <th>13</th>\n",
       "      <td>0</td>\n",
       "      <td>-1846.641941</td>\n",
       "      <td>54</td>\n",
       "      <td>неоконченное высшее</td>\n",
       "      <td>2</td>\n",
       "      <td>женат / замужем</td>\n",
       "      <td>0</td>\n",
       "      <td>F</td>\n",
       "      <td>сотрудник</td>\n",
       "      <td>0</td>\n",
       "      <td>130458.228857</td>\n",
       "      <td>приобретение автомобиля</td>\n",
       "    </tr>\n",
       "    <tr>\n",
       "      <th>14</th>\n",
       "      <td>0</td>\n",
       "      <td>-1844.956182</td>\n",
       "      <td>56</td>\n",
       "      <td>высшее</td>\n",
       "      <td>0</td>\n",
       "      <td>гражданский брак</td>\n",
       "      <td>1</td>\n",
       "      <td>F</td>\n",
       "      <td>компаньон</td>\n",
       "      <td>1</td>\n",
       "      <td>165127.911772</td>\n",
       "      <td>покупка жилой недвижимости</td>\n",
       "    </tr>\n",
       "    <tr>\n",
       "      <th>15</th>\n",
       "      <td>1</td>\n",
       "      <td>-972.364419</td>\n",
       "      <td>26</td>\n",
       "      <td>среднее</td>\n",
       "      <td>1</td>\n",
       "      <td>женат / замужем</td>\n",
       "      <td>0</td>\n",
       "      <td>F</td>\n",
       "      <td>сотрудник</td>\n",
       "      <td>0</td>\n",
       "      <td>116820.904450</td>\n",
       "      <td>строительство собственной недвижимости</td>\n",
       "    </tr>\n",
       "    <tr>\n",
       "      <th>16</th>\n",
       "      <td>0</td>\n",
       "      <td>-1719.934226</td>\n",
       "      <td>35</td>\n",
       "      <td>среднее</td>\n",
       "      <td>1</td>\n",
       "      <td>женат / замужем</td>\n",
       "      <td>0</td>\n",
       "      <td>F</td>\n",
       "      <td>сотрудник</td>\n",
       "      <td>0</td>\n",
       "      <td>289202.704229</td>\n",
       "      <td>недвижимость</td>\n",
       "    </tr>\n",
       "    <tr>\n",
       "      <th>17</th>\n",
       "      <td>0</td>\n",
       "      <td>-2369.999720</td>\n",
       "      <td>33</td>\n",
       "      <td>высшее</td>\n",
       "      <td>0</td>\n",
       "      <td>гражданский брак</td>\n",
       "      <td>1</td>\n",
       "      <td>M</td>\n",
       "      <td>сотрудник</td>\n",
       "      <td>0</td>\n",
       "      <td>90410.586745</td>\n",
       "      <td>строительство недвижимости</td>\n",
       "    </tr>\n",
       "    <tr>\n",
       "      <th>18</th>\n",
       "      <td>0</td>\n",
       "      <td>400281.136913</td>\n",
       "      <td>53</td>\n",
       "      <td>среднее</td>\n",
       "      <td>1</td>\n",
       "      <td>вдовец / вдова</td>\n",
       "      <td>2</td>\n",
       "      <td>F</td>\n",
       "      <td>пенсионер</td>\n",
       "      <td>0</td>\n",
       "      <td>56823.777243</td>\n",
       "      <td>на покупку подержанного автомобиля</td>\n",
       "    </tr>\n",
       "    <tr>\n",
       "      <th>19</th>\n",
       "      <td>0</td>\n",
       "      <td>-10038.818549</td>\n",
       "      <td>48</td>\n",
       "      <td>СРЕДНЕЕ</td>\n",
       "      <td>1</td>\n",
       "      <td>в разводе</td>\n",
       "      <td>3</td>\n",
       "      <td>F</td>\n",
       "      <td>сотрудник</td>\n",
       "      <td>0</td>\n",
       "      <td>242831.107982</td>\n",
       "      <td>на покупку своего автомобиля</td>\n",
       "    </tr>\n",
       "  </tbody>\n",
       "</table>\n",
       "</div>"
      ],
      "text/plain": [
       "    children  days_employed  dob_years            education  education_id  \\\n",
       "0          1   -8437.673028         42               высшее             0   \n",
       "1          1   -4024.803754         36              среднее             1   \n",
       "2          0   -5623.422610         33              Среднее             1   \n",
       "3          3   -4124.747207         32              среднее             1   \n",
       "4          0  340266.072047         53              среднее             1   \n",
       "5          0    -926.185831         27               высшее             0   \n",
       "6          0   -2879.202052         43               высшее             0   \n",
       "7          0    -152.779569         50              СРЕДНЕЕ             1   \n",
       "8          2   -6929.865299         35               ВЫСШЕЕ             0   \n",
       "9          0   -2188.756445         41              среднее             1   \n",
       "10         2   -4171.483647         36               высшее             0   \n",
       "11         0    -792.701887         40              среднее             1   \n",
       "12         0            NaN         65              среднее             1   \n",
       "13         0   -1846.641941         54  неоконченное высшее             2   \n",
       "14         0   -1844.956182         56               высшее             0   \n",
       "15         1    -972.364419         26              среднее             1   \n",
       "16         0   -1719.934226         35              среднее             1   \n",
       "17         0   -2369.999720         33               высшее             0   \n",
       "18         0  400281.136913         53              среднее             1   \n",
       "19         0  -10038.818549         48              СРЕДНЕЕ             1   \n",
       "\n",
       "       family_status  family_status_id gender income_type  debt  \\\n",
       "0    женат / замужем                 0      F   сотрудник     0   \n",
       "1    женат / замужем                 0      F   сотрудник     0   \n",
       "2    женат / замужем                 0      M   сотрудник     0   \n",
       "3    женат / замужем                 0      M   сотрудник     0   \n",
       "4   гражданский брак                 1      F   пенсионер     0   \n",
       "5   гражданский брак                 1      M   компаньон     0   \n",
       "6    женат / замужем                 0      F   компаньон     0   \n",
       "7    женат / замужем                 0      M   сотрудник     0   \n",
       "8   гражданский брак                 1      F   сотрудник     0   \n",
       "9    женат / замужем                 0      M   сотрудник     0   \n",
       "10   женат / замужем                 0      M   компаньон     0   \n",
       "11   женат / замужем                 0      F   сотрудник     0   \n",
       "12  гражданский брак                 1      M   пенсионер     0   \n",
       "13   женат / замужем                 0      F   сотрудник     0   \n",
       "14  гражданский брак                 1      F   компаньон     1   \n",
       "15   женат / замужем                 0      F   сотрудник     0   \n",
       "16   женат / замужем                 0      F   сотрудник     0   \n",
       "17  гражданский брак                 1      M   сотрудник     0   \n",
       "18    вдовец / вдова                 2      F   пенсионер     0   \n",
       "19         в разводе                 3      F   сотрудник     0   \n",
       "\n",
       "     total_income                                 purpose  \n",
       "0   253875.639453                           покупка жилья  \n",
       "1   112080.014102                 приобретение автомобиля  \n",
       "2   145885.952297                           покупка жилья  \n",
       "3   267628.550329              дополнительное образование  \n",
       "4   158616.077870                         сыграть свадьбу  \n",
       "5   255763.565419                           покупка жилья  \n",
       "6   240525.971920                       операции с жильем  \n",
       "7   135823.934197                             образование  \n",
       "8    95856.832424                   на проведение свадьбы  \n",
       "9   144425.938277                 покупка жилья для семьи  \n",
       "10  113943.491460                    покупка недвижимости  \n",
       "11   77069.234271       покупка коммерческой недвижимости  \n",
       "12            NaN                         сыграть свадьбу  \n",
       "13  130458.228857                 приобретение автомобиля  \n",
       "14  165127.911772              покупка жилой недвижимости  \n",
       "15  116820.904450  строительство собственной недвижимости  \n",
       "16  289202.704229                            недвижимость  \n",
       "17   90410.586745              строительство недвижимости  \n",
       "18   56823.777243      на покупку подержанного автомобиля  \n",
       "19  242831.107982            на покупку своего автомобиля  "
      ]
     },
     "execution_count": 2,
     "metadata": {},
     "output_type": "execute_result"
    }
   ],
   "source": [
    "data.head(20)"
   ]
  },
  {
   "cell_type": "markdown",
   "id": "efadd6b8",
   "metadata": {
    "deletable": false,
    "editable": false,
    "id": "1c12e233"
   },
   "source": [
    "**Задание 3. Выведите основную информацию о датафрейме с помощью метода `info()`.**"
   ]
  },
  {
   "cell_type": "code",
   "execution_count": 3,
   "id": "4a6df84f",
   "metadata": {
    "deletable": false,
    "id": "2b757bca",
    "outputId": "15376089-8dad-46c9-b520-c05248d43158"
   },
   "outputs": [
    {
     "name": "stdout",
     "output_type": "stream",
     "text": [
      "<class 'pandas.core.frame.DataFrame'>\n",
      "RangeIndex: 21525 entries, 0 to 21524\n",
      "Data columns (total 12 columns):\n",
      " #   Column            Non-Null Count  Dtype  \n",
      "---  ------            --------------  -----  \n",
      " 0   children          21525 non-null  int64  \n",
      " 1   days_employed     19351 non-null  float64\n",
      " 2   dob_years         21525 non-null  int64  \n",
      " 3   education         21525 non-null  object \n",
      " 4   education_id      21525 non-null  int64  \n",
      " 5   family_status     21525 non-null  object \n",
      " 6   family_status_id  21525 non-null  int64  \n",
      " 7   gender            21525 non-null  object \n",
      " 8   income_type       21525 non-null  object \n",
      " 9   debt              21525 non-null  int64  \n",
      " 10  total_income      19351 non-null  float64\n",
      " 11  purpose           21525 non-null  object \n",
      "dtypes: float64(2), int64(5), object(5)\n",
      "memory usage: 2.0+ MB\n"
     ]
    }
   ],
   "source": [
    "data.info()"
   ]
  },
  {
   "cell_type": "markdown",
   "id": "2d151df2",
   "metadata": {
    "deletable": false,
    "editable": false,
    "id": "333ec665"
   },
   "source": [
    "## Предобработка данных"
   ]
  },
  {
   "cell_type": "markdown",
   "id": "e1a65ce3",
   "metadata": {
    "deletable": false,
    "editable": false,
    "id": "02d92d53"
   },
   "source": [
    "### Удаление пропусков"
   ]
  },
  {
   "cell_type": "markdown",
   "id": "21c2528c",
   "metadata": {
    "deletable": false,
    "editable": false,
    "id": "cd84967c"
   },
   "source": [
    "**Задание 4. Выведите количество пропущенных значений для каждого столбца. Используйте комбинацию двух методов.**"
   ]
  },
  {
   "cell_type": "code",
   "execution_count": 4,
   "id": "7ed9a675",
   "metadata": {
    "deletable": false,
    "id": "7f9b2309",
    "outputId": "81f4d817-781c-465c-ed15-91ce4446810d"
   },
   "outputs": [
    {
     "data": {
      "text/plain": [
       "children               0\n",
       "days_employed       2174\n",
       "dob_years              0\n",
       "education              0\n",
       "education_id           0\n",
       "family_status          0\n",
       "family_status_id       0\n",
       "gender                 0\n",
       "income_type            0\n",
       "debt                   0\n",
       "total_income        2174\n",
       "purpose                0\n",
       "dtype: int64"
      ]
     },
     "execution_count": 4,
     "metadata": {},
     "output_type": "execute_result"
    }
   ],
   "source": [
    "data.isna().sum()"
   ]
  },
  {
   "cell_type": "markdown",
   "id": "49f58e4c",
   "metadata": {},
   "source": [
    "<div class=\"alert alert-block alert-success\">\n",
    "<b>Комментарий ревьюера:</b>\n",
    "\n",
    "✔️ Изучить долю пропущенных пропусков можно еще с помощью `data.isna().mean()*100`\n",
    "  </div>"
   ]
  },
  {
   "cell_type": "markdown",
   "id": "8382143d",
   "metadata": {
    "deletable": false,
    "editable": false,
    "id": "db86e27b"
   },
   "source": [
    "**Задание 5. В двух столбцах есть пропущенные значения. Один из них — `days_employed`. Пропуски в этом столбце вы обработаете на следующем этапе. Другой столбец с пропущенными значениями — `total_income` — хранит данные о доходах. На сумму дохода сильнее всего влияет тип занятости, поэтому заполнить пропуски в этом столбце нужно медианным значением по каждому типу из столбца `income_type`. Например, у человека с типом занятости `сотрудник` пропуск в столбце `total_income` должен быть заполнен медианным доходом среди всех записей с тем же типом.**"
   ]
  },
  {
   "cell_type": "code",
   "execution_count": 5,
   "id": "2889e948",
   "metadata": {
    "deletable": false,
    "id": "42006a93"
   },
   "outputs": [],
   "source": [
    "for t in data['income_type'].unique():\n",
    "    data.loc[(data['income_type'] == t) & (data['total_income'].isna()), 'total_income'] = \\\n",
    "    data.loc[(data['income_type'] == t), 'total_income'].median()"
   ]
  },
  {
   "cell_type": "markdown",
   "id": "694fe6ee",
   "metadata": {},
   "source": [
    "<div class=\"alert alert-block alert-success\">\n",
    "<b>Комментарий ревьюера:</b>\n",
    "\n",
    " ✔️  Можно также использовать следующую конструкцию `data['total_income'] = data['total_income'].fillna(data.groupby(['income_type'])['total_income'].transform('median'))`\n",
    "Функция transform() в принципе полезная https://pandas.pydata.org/pandas-docs/stable/reference/api/pandas.DataFrame.transform.html\n",
    "  </div>"
   ]
  },
  {
   "cell_type": "markdown",
   "id": "04e2ff2a",
   "metadata": {
    "deletable": false,
    "editable": false,
    "id": "89da5ece"
   },
   "source": [
    "### Обработка аномальных значений"
   ]
  },
  {
   "cell_type": "markdown",
   "id": "c5b48e69",
   "metadata": {
    "deletable": false,
    "editable": false,
    "id": "57964554"
   },
   "source": [
    "**Задание 6. В данных могут встречаться артефакты (аномалии) — значения, которые не отражают действительность и появились по какой-то ошибке. таким артефактом будет отрицательное количество дней трудового стажа в столбце `days_employed`. Для реальных данных это нормально. Обработайте значения в этом столбце: замените все отрицательные значения положительными с помощью метода `abs()`.**"
   ]
  },
  {
   "cell_type": "code",
   "execution_count": 6,
   "id": "717522b4",
   "metadata": {
    "deletable": false,
    "id": "f6f055bf"
   },
   "outputs": [],
   "source": [
    "data['days_employed'] = data['days_employed'].abs()"
   ]
  },
  {
   "cell_type": "markdown",
   "id": "64c564ff",
   "metadata": {
    "deletable": false,
    "editable": false,
    "id": "6107dd2f"
   },
   "source": [
    "**Задание 7. Для каждого типа занятости выведите медианное значение трудового стажа `days_employed` в днях.**"
   ]
  },
  {
   "cell_type": "code",
   "execution_count": 7,
   "id": "66d77269",
   "metadata": {
    "deletable": false,
    "id": "85a5faf6",
    "outputId": "801ef80e-522b-4668-f34e-565af7432bcf"
   },
   "outputs": [
    {
     "data": {
      "text/plain": [
       "income_type\n",
       "безработный        366413.652744\n",
       "в декрете            3296.759962\n",
       "госслужащий          2689.368353\n",
       "компаньон            1547.382223\n",
       "пенсионер          365213.306266\n",
       "предприниматель       520.848083\n",
       "сотрудник            1574.202821\n",
       "студент               578.751554\n",
       "Name: days_employed, dtype: float64"
      ]
     },
     "execution_count": 7,
     "metadata": {},
     "output_type": "execute_result"
    }
   ],
   "source": [
    "data.groupby('income_type')['days_employed'].agg('median')"
   ]
  },
  {
   "cell_type": "markdown",
   "id": "ba63f280",
   "metadata": {
    "deletable": false,
    "editable": false,
    "id": "38d1a030"
   },
   "source": [
    "У двух типов (безработные и пенсионеры) получатся аномально большие значения. Исправить такие значения сложно, поэтому оставьте их как есть. Тем более этот столбец не понадобится вам для исследования."
   ]
  },
  {
   "cell_type": "markdown",
   "id": "75a64614",
   "metadata": {
    "deletable": false,
    "editable": false,
    "id": "d8a9f147"
   },
   "source": [
    "**Задание 8. Выведите перечень уникальных значений столбца `children`.**"
   ]
  },
  {
   "cell_type": "code",
   "execution_count": 8,
   "id": "2f71f98c",
   "metadata": {
    "deletable": false,
    "id": "ef5056eb",
    "outputId": "6975b15c-7f95-4697-d16d-a0c79b657b03"
   },
   "outputs": [
    {
     "data": {
      "text/plain": [
       "array([ 1,  0,  3,  2, -1,  4, 20,  5])"
      ]
     },
     "execution_count": 8,
     "metadata": {},
     "output_type": "execute_result"
    }
   ],
   "source": [
    "data['children'].unique()"
   ]
  },
  {
   "cell_type": "markdown",
   "id": "a6e9e566",
   "metadata": {
    "deletable": false,
    "editable": false,
    "id": "40b9ebf2"
   },
   "source": [
    "**Задание 9. В столбце `children` есть два аномальных значения. Удалите строки, в которых встречаются такие аномальные значения из датафрейма `data`.**"
   ]
  },
  {
   "cell_type": "code",
   "execution_count": 9,
   "id": "d7609856",
   "metadata": {
    "deletable": false,
    "id": "3ff9801d"
   },
   "outputs": [],
   "source": [
    "data = data[(data['children'] != -1) & (data['children'] != 20)]"
   ]
  },
  {
   "cell_type": "markdown",
   "id": "5b676b78",
   "metadata": {},
   "source": [
    "<div class=\"alert alert-block alert-success\">\n",
    "<b>Комментарий ревьюера:</b>\n",
    "\n",
    " ✔️  Все верно, можно еще использовать query(), который позволяет работать с нужными данными) https://pandas.pydata.org/pandas-docs/stable/reference/api/pandas.DataFrame.query.html\n",
    "  </div>"
   ]
  },
  {
   "cell_type": "markdown",
   "id": "047ad9ce",
   "metadata": {
    "deletable": false,
    "editable": false,
    "id": "bbc4d0ce"
   },
   "source": [
    "**Задание 10. Ещё раз выведите перечень уникальных значений столбца `children`, чтобы убедиться, что артефакты удалены.**"
   ]
  },
  {
   "cell_type": "code",
   "execution_count": 10,
   "id": "d538d24c",
   "metadata": {
    "deletable": false,
    "id": "ad4fa8b7",
    "outputId": "b2097101-d49d-44d9-901b-32a65c9463d1"
   },
   "outputs": [
    {
     "data": {
      "text/plain": [
       "array([1, 0, 3, 2, 4, 5])"
      ]
     },
     "execution_count": 10,
     "metadata": {},
     "output_type": "execute_result"
    }
   ],
   "source": [
    "data['children'].unique()"
   ]
  },
  {
   "cell_type": "markdown",
   "id": "f8c602cb",
   "metadata": {
    "deletable": false,
    "editable": false,
    "id": "75440b63"
   },
   "source": [
    "### Удаление пропусков (продолжение)"
   ]
  },
  {
   "cell_type": "markdown",
   "id": "b3602fa5",
   "metadata": {
    "deletable": false,
    "editable": false,
    "id": "f4ea573f"
   },
   "source": [
    "**Задание 11. Заполните пропуски в столбце `days_employed` медианными значениями по каждого типа занятости `income_type`.**"
   ]
  },
  {
   "cell_type": "code",
   "execution_count": 11,
   "id": "6dc86974",
   "metadata": {
    "deletable": false,
    "id": "af6b1a7e"
   },
   "outputs": [],
   "source": [
    "for t in data['income_type'].unique():\n",
    "    data.loc[(data['income_type'] == t) & (data['days_employed'].isna()), 'days_employed'] = \\\n",
    "    data.loc[(data['income_type'] == t), 'days_employed'].median()"
   ]
  },
  {
   "cell_type": "markdown",
   "id": "fdc58b6b",
   "metadata": {
    "deletable": false,
    "editable": false,
    "id": "2753f40d"
   },
   "source": [
    "**Задание 12. Убедитесь, что все пропуски заполнены. Проверьте себя и ещё раз выведите количество пропущенных значений для каждого столбца с помощью двух методов.**"
   ]
  },
  {
   "cell_type": "code",
   "execution_count": 12,
   "id": "2a9d0613",
   "metadata": {
    "deletable": false,
    "id": "55f78bc2",
    "outputId": "8da1e4e1-358e-4e87-98c9-f261bce0a7b2"
   },
   "outputs": [
    {
     "data": {
      "text/plain": [
       "children            0\n",
       "days_employed       0\n",
       "dob_years           0\n",
       "education           0\n",
       "education_id        0\n",
       "family_status       0\n",
       "family_status_id    0\n",
       "gender              0\n",
       "income_type         0\n",
       "debt                0\n",
       "total_income        0\n",
       "purpose             0\n",
       "dtype: int64"
      ]
     },
     "execution_count": 12,
     "metadata": {},
     "output_type": "execute_result"
    }
   ],
   "source": [
    "data.isna().sum()"
   ]
  },
  {
   "cell_type": "markdown",
   "id": "1c7f7263",
   "metadata": {
    "deletable": false,
    "editable": false,
    "id": "ddc81e43"
   },
   "source": [
    "### Изменение типов данных"
   ]
  },
  {
   "cell_type": "markdown",
   "id": "82bf77db",
   "metadata": {
    "deletable": false,
    "editable": false,
    "id": "42d19d24"
   },
   "source": [
    "**Задание 13. Замените вещественный тип данных в столбце `total_income` на целочисленный с помощью метода `astype()`.**"
   ]
  },
  {
   "cell_type": "code",
   "execution_count": 13,
   "id": "65b94d72",
   "metadata": {
    "deletable": false,
    "id": "920b65ad"
   },
   "outputs": [],
   "source": [
    "data['total_income'] = data['total_income'].astype(int)"
   ]
  },
  {
   "cell_type": "markdown",
   "id": "eb39a70d",
   "metadata": {
    "deletable": false,
    "editable": false,
    "id": "80c420ba"
   },
   "source": [
    "### Обработка дубликатов"
   ]
  },
  {
   "cell_type": "markdown",
   "id": "84fd41d4",
   "metadata": {
    "deletable": false,
    "editable": false
   },
   "source": [
    "**Задание 14. Обработайте неявные дубликаты в столбце `education`. В этом столбце есть одни и те же значения, но записанные по-разному: с использованием заглавных и строчных букв. Приведите их к нижнему регистру. Проверьте остальные столбцы.**"
   ]
  },
  {
   "cell_type": "code",
   "execution_count": 14,
   "id": "b4ddacd2",
   "metadata": {
    "deletable": false
   },
   "outputs": [],
   "source": [
    "data['education'] = data['education'].str.lower()"
   ]
  },
  {
   "cell_type": "markdown",
   "id": "700c4881",
   "metadata": {
    "deletable": false,
    "editable": false,
    "id": "dc587695"
   },
   "source": [
    "**Задание 15. Выведите на экран количество строк-дубликатов в данных. Если такие строки присутствуют, удалите их.**"
   ]
  },
  {
   "cell_type": "code",
   "execution_count": 15,
   "id": "d001f66c",
   "metadata": {
    "deletable": false,
    "id": "3ee445e4",
    "outputId": "9684deba-1934-42d1-99e1-cda61740f822"
   },
   "outputs": [
    {
     "data": {
      "text/plain": [
       "71"
      ]
     },
     "execution_count": 15,
     "metadata": {},
     "output_type": "execute_result"
    }
   ],
   "source": [
    "data.duplicated().sum()"
   ]
  },
  {
   "cell_type": "code",
   "execution_count": 16,
   "id": "a17dd68a",
   "metadata": {
    "deletable": false,
    "id": "8575fe05"
   },
   "outputs": [],
   "source": [
    "data = data.drop_duplicates()"
   ]
  },
  {
   "cell_type": "markdown",
   "id": "d4b106c6",
   "metadata": {
    "deletable": false,
    "editable": false,
    "id": "9904cf55"
   },
   "source": [
    "### Категоризация данных"
   ]
  },
  {
   "cell_type": "markdown",
   "id": "1c66d76a",
   "metadata": {
    "deletable": false,
    "editable": false,
    "id": "72fcc8a2"
   },
   "source": [
    "**Задание 16. На основании диапазонов, указанных ниже, создайте в датафрейме `data` столбец `total_income_category` с категориями:**\n",
    "\n",
    "- 0–30000 — `'E'`;\n",
    "- 30001–50000 — `'D'`;\n",
    "- 50001–200000 — `'C'`;\n",
    "- 200001–1000000 — `'B'`;\n",
    "- 1000001 и выше — `'A'`.\n",
    "\n",
    "\n",
    "**Например, кредитополучателю с доходом 25000 нужно назначить категорию `'E'`, а клиенту, получающему 235000, — `'B'`. Используйте собственную функцию с именем `categorize_income()` и метод `apply()`.**"
   ]
  },
  {
   "cell_type": "code",
   "execution_count": 17,
   "id": "18fdc934",
   "metadata": {
    "deletable": false,
    "id": "e1771346"
   },
   "outputs": [],
   "source": [
    "def categorize_income(income):\n",
    "    try:\n",
    "        if 0 <= income <= 30000:\n",
    "            return 'E'\n",
    "        elif 30001 <= income <= 50000:\n",
    "            return 'D'\n",
    "        elif 50001 <= income <= 200000:\n",
    "            return 'C'\n",
    "        elif 200001 <= income <= 1000000:\n",
    "            return 'B'\n",
    "        elif income >= 1000001:\n",
    "            return 'A'\n",
    "    except:\n",
    "        pass"
   ]
  },
  {
   "cell_type": "code",
   "execution_count": 18,
   "id": "adffd469",
   "metadata": {
    "deletable": false,
    "id": "d5f3586d"
   },
   "outputs": [],
   "source": [
    "data['total_income_category'] = data['total_income'].apply(categorize_income)"
   ]
  },
  {
   "cell_type": "markdown",
   "id": "e675713c",
   "metadata": {},
   "source": [
    "<div class=\"alert alert-block alert-success\">\n",
    "<b>Комментарий ревьюера:</b>\n",
    "\n",
    "✔️  Функцию написал правильную, молодец, но применение функции лучше проверять с помощью `value_counts`, вдруг какое то условие не сработало)\n",
    "\n",
    "  </div>"
   ]
  },
  {
   "cell_type": "markdown",
   "id": "59662e5d",
   "metadata": {
    "deletable": false,
    "editable": false,
    "id": "dde49b5c"
   },
   "source": [
    "**Задание 17. Выведите на экран перечень уникальных целей взятия кредита из столбца `purpose`.**"
   ]
  },
  {
   "cell_type": "code",
   "execution_count": 19,
   "id": "a61c5969",
   "metadata": {
    "deletable": false,
    "id": "f67ce9b3",
    "outputId": "673c12d9-7d7e-4ae0-9812-c622c89dd244"
   },
   "outputs": [
    {
     "data": {
      "text/plain": [
       "array(['покупка жилья', 'приобретение автомобиля',\n",
       "       'дополнительное образование', 'сыграть свадьбу',\n",
       "       'операции с жильем', 'образование', 'на проведение свадьбы',\n",
       "       'покупка жилья для семьи', 'покупка недвижимости',\n",
       "       'покупка коммерческой недвижимости', 'покупка жилой недвижимости',\n",
       "       'строительство собственной недвижимости', 'недвижимость',\n",
       "       'строительство недвижимости', 'на покупку подержанного автомобиля',\n",
       "       'на покупку своего автомобиля',\n",
       "       'операции с коммерческой недвижимостью',\n",
       "       'строительство жилой недвижимости', 'жилье',\n",
       "       'операции со своей недвижимостью', 'автомобили',\n",
       "       'заняться образованием', 'сделка с подержанным автомобилем',\n",
       "       'получение образования', 'автомобиль', 'свадьба',\n",
       "       'получение дополнительного образования', 'покупка своего жилья',\n",
       "       'операции с недвижимостью', 'получение высшего образования',\n",
       "       'свой автомобиль', 'сделка с автомобилем',\n",
       "       'профильное образование', 'высшее образование',\n",
       "       'покупка жилья для сдачи', 'на покупку автомобиля', 'ремонт жилью',\n",
       "       'заняться высшим образованием'], dtype=object)"
      ]
     },
     "execution_count": 19,
     "metadata": {},
     "output_type": "execute_result"
    }
   ],
   "source": [
    "data['purpose'].unique()"
   ]
  },
  {
   "cell_type": "markdown",
   "id": "9eaec23e",
   "metadata": {
    "deletable": false,
    "editable": false,
    "id": "85d0aef0"
   },
   "source": [
    "**Задание 18. Создайте функцию, которая на основании данных из столбца `purpose` сформирует новый столбец `purpose_category`, в который войдут следующие категории:**\n",
    "\n",
    "- `'операции с автомобилем'`,\n",
    "- `'операции с недвижимостью'`,\n",
    "- `'проведение свадьбы'`,\n",
    "- `'получение образования'`.\n",
    "\n",
    "**Например, если в столбце `purpose` находится подстрока `'на покупку автомобиля'`, то в столбце `purpose_category` должна появиться строка `'операции с автомобилем'`.**\n",
    "\n",
    "**Используйте собственную функцию с именем `categorize_purpose()` и метод `apply()`. Изучите данные в столбце `purpose` и определите, какие подстроки помогут вам правильно определить категорию.**"
   ]
  },
  {
   "cell_type": "code",
   "execution_count": 20,
   "id": "2b689f40",
   "metadata": {
    "deletable": false,
    "id": "e149fab4"
   },
   "outputs": [],
   "source": [
    "def categorize_purpose(row):\n",
    "    try:\n",
    "        if 'автом' in row:\n",
    "            return 'операции с автомобилем'\n",
    "        elif 'жил' in row or 'недвиж' in row:\n",
    "            return 'операции с недвижимостью'\n",
    "        elif 'свад' in row:\n",
    "            return 'проведение свадьбы'\n",
    "        elif 'образов' in row:\n",
    "            return 'получение образования'\n",
    "    except:\n",
    "        return 'нет категории'"
   ]
  },
  {
   "cell_type": "code",
   "execution_count": 21,
   "id": "5dd1ed8a",
   "metadata": {
    "deletable": false,
    "id": "bf36e69b"
   },
   "outputs": [],
   "source": [
    "data['purpose_category'] = data['purpose'].apply(categorize_purpose)"
   ]
  },
  {
   "cell_type": "markdown",
   "id": "c8769008",
   "metadata": {
    "deletable": false,
    "editable": false,
    "id": "09b242bf"
   },
   "source": [
    "### Шаг 3. Исследуйте данные и ответьте на вопросы"
   ]
  },
  {
   "cell_type": "markdown",
   "id": "6b09855c",
   "metadata": {
    "deletable": false,
    "editable": false,
    "id": "c5d66278"
   },
   "source": [
    "#### 3.1 Есть ли зависимость между количеством детей и возвратом кредита в срок?"
   ]
  },
  {
   "cell_type": "code",
   "execution_count": 56,
   "id": "fdbb1da5",
   "metadata": {
    "deletable": false,
    "id": "2cacfc4a"
   },
   "outputs": [
    {
     "data": {
      "text/html": [
       "<style  type=\"text/css\" >\n",
       "</style><table id=\"T_98555_\" ><thead>    <tr>        <th class=\"blank level0\" ></th>        <th class=\"col_heading level0 col0\" >count</th>        <th class=\"col_heading level0 col1\" >mean</th>        <th class=\"col_heading level0 col2\" >sum</th>    </tr>    <tr>        <th class=\"index_name level0\" >children</th>        <th class=\"blank\" ></th>        <th class=\"blank\" ></th>        <th class=\"blank\" ></th>    </tr></thead><tbody>\n",
       "                <tr>\n",
       "                        <th id=\"T_98555_level0_row0\" class=\"row_heading level0 row0\" >0</th>\n",
       "                        <td id=\"T_98555_row0_col0\" class=\"data row0 col0\" >14091.000000</td>\n",
       "                        <td id=\"T_98555_row0_col1\" class=\"data row0 col1\" >7.54%</td>\n",
       "                        <td id=\"T_98555_row0_col2\" class=\"data row0 col2\" >1063.000000</td>\n",
       "            </tr>\n",
       "            <tr>\n",
       "                        <th id=\"T_98555_level0_row1\" class=\"row_heading level0 row1\" >1</th>\n",
       "                        <td id=\"T_98555_row1_col0\" class=\"data row1 col0\" >4808.000000</td>\n",
       "                        <td id=\"T_98555_row1_col1\" class=\"data row1 col1\" >9.23%</td>\n",
       "                        <td id=\"T_98555_row1_col2\" class=\"data row1 col2\" >444.000000</td>\n",
       "            </tr>\n",
       "            <tr>\n",
       "                        <th id=\"T_98555_level0_row2\" class=\"row_heading level0 row2\" >2</th>\n",
       "                        <td id=\"T_98555_row2_col0\" class=\"data row2 col0\" >2052.000000</td>\n",
       "                        <td id=\"T_98555_row2_col1\" class=\"data row2 col1\" >9.45%</td>\n",
       "                        <td id=\"T_98555_row2_col2\" class=\"data row2 col2\" >194.000000</td>\n",
       "            </tr>\n",
       "            <tr>\n",
       "                        <th id=\"T_98555_level0_row3\" class=\"row_heading level0 row3\" >3</th>\n",
       "                        <td id=\"T_98555_row3_col0\" class=\"data row3 col0\" >330.000000</td>\n",
       "                        <td id=\"T_98555_row3_col1\" class=\"data row3 col1\" >8.18%</td>\n",
       "                        <td id=\"T_98555_row3_col2\" class=\"data row3 col2\" >27.000000</td>\n",
       "            </tr>\n",
       "            <tr>\n",
       "                        <th id=\"T_98555_level0_row4\" class=\"row_heading level0 row4\" >4</th>\n",
       "                        <td id=\"T_98555_row4_col0\" class=\"data row4 col0\" >41.000000</td>\n",
       "                        <td id=\"T_98555_row4_col1\" class=\"data row4 col1\" >9.76%</td>\n",
       "                        <td id=\"T_98555_row4_col2\" class=\"data row4 col2\" >4.000000</td>\n",
       "            </tr>\n",
       "            <tr>\n",
       "                        <th id=\"T_98555_level0_row5\" class=\"row_heading level0 row5\" >5</th>\n",
       "                        <td id=\"T_98555_row5_col0\" class=\"data row5 col0\" >9.000000</td>\n",
       "                        <td id=\"T_98555_row5_col1\" class=\"data row5 col1\" >0.00%</td>\n",
       "                        <td id=\"T_98555_row5_col2\" class=\"data row5 col2\" >0.000000</td>\n",
       "            </tr>\n",
       "    </tbody></table>"
      ],
      "text/plain": [
       "<pandas.io.formats.style.Styler at 0x7fdeefb1fe80>"
      ]
     },
     "execution_count": 56,
     "metadata": {},
     "output_type": "execute_result"
    }
   ],
   "source": [
    "data_children = data.pivot_table(index=['children'], values='debt', aggfunc=('mean', 'count', 'sum')).style.format({'mean': \"{:.2%}\"})\n",
    "\n",
    "data_children\n"
   ]
  },
  {
   "cell_type": "markdown",
   "id": "bd9b2edc",
   "metadata": {},
   "source": [
    "<div class=\"alert alert-block alert-warning\">\n",
    "<b>Комментарий ревьюер:</b> \n",
    "\n",
    "⚠️ Добавь еще количество должников, это делается с помощью `sum`. \n",
    "P.S. С помощью `Print()`  не нужно выводить таблицу, просто название прописываешь и все выведется<br>"
   ]
  },
  {
   "cell_type": "markdown",
   "id": "c58f2174",
   "metadata": {},
   "source": [
    "<div class=\"alert alert-block alert-warning\">\n",
    "<b>Комментарий ревьюер_V2:</b> \n",
    "\n",
    "⚠️ Вот это замечание не исправил, не вижу количество должников и зачем \"print\" использовать (подправь это везде). Кстати по поводу функции, здесь можно все отлично оптимизировать\n",
    "    \n",
    "    \n",
    "       data_children = data.pivot_table(index=['children'], values='debt', aggfunc=('mean', 'count', 'sum').style.format({'mean': \"{:.2%}\"})\n",
    "    \n",
    "    \n",
    "И лямбда не выполняет никакой роли, понимаю если было бы вот так вот `lambda x: x.mean().round(3)*100`\n",
    "   "
   ]
  },
  {
   "cell_type": "markdown",
   "id": "08ddd804",
   "metadata": {},
   "source": [
    "<div class=\"alert alert-block alert-success\">\n",
    "<b>Комментарий ревьюера_V3:</b>\n",
    "\n",
    "✔️  Здесь все отлично стало)) Все замечания исправил)) \n",
    "\n",
    "  </div>"
   ]
  },
  {
   "cell_type": "markdown",
   "id": "3d98694a",
   "metadata": {
    "deletable": false,
    "id": "3a6b99ec"
   },
   "source": [
    "**Вывод:** Люди, которые не имеют детей, лучше всего отдают кредит: доля должников здесь составляет 7,5%. Хуже обстоит дело с кредиторами, кто имеет одного или двух детей: здесь доля невозврата составляет 9,2% и 9,4% соответственно."
   ]
  },
  {
   "cell_type": "markdown",
   "id": "79a88862",
   "metadata": {},
   "source": [
    "<div class=\"alert alert-block alert-warning\">\n",
    "<b>Комментарий ревьюер:</b> \n",
    "\n",
    "⚠️ Не бойся использовать в выводах цифры, также нужно сделать акцент на сбалансированности выборок. Примерно выводы будут выглядеть так: \n",
    "`люди, которые не имеют детей, лучше всего отдают кредит, доля должников здесь составляет с 7,5%, хуже обстоит дело с кредиторами, кто имеет одного или двух детей, здесь доля невозврата составляет соответственно 9,2% и 9,4%. Остальные категории уже некорректно сравнивать, так как в них очень маленькая выборка`)) <br>"
   ]
  },
  {
   "cell_type": "markdown",
   "id": "e52e55fa",
   "metadata": {},
   "source": [
    "<div class=\"alert alert-block alert-warning\">\n",
    "<b>Комментарий ревьюер_V2:</b> \n",
    "\n",
    "⚠️Здесь давай выводы перепишем) "
   ]
  },
  {
   "cell_type": "markdown",
   "id": "e0c4526d",
   "metadata": {},
   "source": [
    "<div class=\"alert alert-block alert-success\">\n",
    "<b>Комментарий ревьюера_V2:</b>\n",
    "\n",
    "✔️  Выводы переработала, молодец)) \n",
    "\n",
    "  </div>"
   ]
  },
  {
   "cell_type": "markdown",
   "id": "1aaed011",
   "metadata": {
    "deletable": false,
    "editable": false,
    "id": "97be82ca"
   },
   "source": [
    "#### 3.2 Есть ли зависимость между семейным положением и возвратом кредита в срок?"
   ]
  },
  {
   "cell_type": "code",
   "execution_count": 79,
   "id": "f4684d60",
   "metadata": {
    "deletable": false,
    "id": "dc3f7ee8"
   },
   "outputs": [
    {
     "data": {
      "text/html": [
       "<style  type=\"text/css\" >\n",
       "</style><table id=\"T_364a5_\" ><thead>    <tr>        <th class=\"blank level0\" ></th>        <th class=\"col_heading level0 col0\" >count</th>        <th class=\"col_heading level0 col1\" >mean</th>        <th class=\"col_heading level0 col2\" >sum</th>    </tr>    <tr>        <th class=\"index_name level0\" >family_status</th>        <th class=\"blank\" ></th>        <th class=\"blank\" ></th>        <th class=\"blank\" ></th>    </tr></thead><tbody>\n",
       "                <tr>\n",
       "                        <th id=\"T_364a5_level0_row0\" class=\"row_heading level0 row0\" >Не женат / не замужем</th>\n",
       "                        <td id=\"T_364a5_row0_col0\" class=\"data row0 col0\" >2796.0</td>\n",
       "                        <td id=\"T_364a5_row0_col1\" class=\"data row0 col1\" >9.76%</td>\n",
       "                        <td id=\"T_364a5_row0_col2\" class=\"data row0 col2\" >273.0</td>\n",
       "            </tr>\n",
       "            <tr>\n",
       "                        <th id=\"T_364a5_level0_row1\" class=\"row_heading level0 row1\" >в разводе</th>\n",
       "                        <td id=\"T_364a5_row1_col0\" class=\"data row1 col0\" >1189.0</td>\n",
       "                        <td id=\"T_364a5_row1_col1\" class=\"data row1 col1\" >7.06%</td>\n",
       "                        <td id=\"T_364a5_row1_col2\" class=\"data row1 col2\" >84.0</td>\n",
       "            </tr>\n",
       "            <tr>\n",
       "                        <th id=\"T_364a5_level0_row2\" class=\"row_heading level0 row2\" >вдовец / вдова</th>\n",
       "                        <td id=\"T_364a5_row2_col0\" class=\"data row2 col0\" >951.0</td>\n",
       "                        <td id=\"T_364a5_row2_col1\" class=\"data row2 col1\" >6.62%</td>\n",
       "                        <td id=\"T_364a5_row2_col2\" class=\"data row2 col2\" >63.0</td>\n",
       "            </tr>\n",
       "            <tr>\n",
       "                        <th id=\"T_364a5_level0_row3\" class=\"row_heading level0 row3\" >гражданский брак</th>\n",
       "                        <td id=\"T_364a5_row3_col0\" class=\"data row3 col0\" >4134.0</td>\n",
       "                        <td id=\"T_364a5_row3_col1\" class=\"data row3 col1\" >9.31%</td>\n",
       "                        <td id=\"T_364a5_row3_col2\" class=\"data row3 col2\" >385.0</td>\n",
       "            </tr>\n",
       "            <tr>\n",
       "                        <th id=\"T_364a5_level0_row4\" class=\"row_heading level0 row4\" >женат / замужем</th>\n",
       "                        <td id=\"T_364a5_row4_col0\" class=\"data row4 col0\" >12261.0</td>\n",
       "                        <td id=\"T_364a5_row4_col1\" class=\"data row4 col1\" >7.56%</td>\n",
       "                        <td id=\"T_364a5_row4_col2\" class=\"data row4 col2\" >927.0</td>\n",
       "            </tr>\n",
       "    </tbody></table>"
      ],
      "text/plain": [
       "<pandas.io.formats.style.Styler at 0x7fdf19e09df0>"
      ]
     },
     "execution_count": 79,
     "metadata": {},
     "output_type": "execute_result"
    }
   ],
   "source": [
    "data_family = data.pivot_table(index=['family_status'], values='debt', aggfunc=('mean', 'count', 'sum')).style.format({'mean': \"{:.2%}\",'count' : \"{:.9}\", 'sum' : \"{:.9}\"})\n",
    "\n",
    "data_family"
   ]
  },
  {
   "cell_type": "markdown",
   "id": "57b0f5e6",
   "metadata": {
    "deletable": false,
    "id": "1cef7837"
   },
   "source": [
    "**Вывод:** Лучший показатель по возврату кредита у тех, кто женат/замужем. Доля невозврата в этой группе - 7.6%. Хуже с выплатой кредита справляются те, кто находятся в гражданском браке: процент невозварата у них составляет 9.3%. Самый плохой резульат у тех, кто не женат/ не замужем: процент невозврата 9.8%.  "
   ]
  },
  {
   "cell_type": "markdown",
   "id": "27363215",
   "metadata": {},
   "source": [
    "<div class=\"alert alert-block alert-warning\">\n",
    "<b>Комментарий ревьюер:</b> \n",
    "\n",
    "⚠️ В выводах давай будет использовать цифры, также  удели здесь внимание тоже сбалансированности выборок))"
   ]
  },
  {
   "cell_type": "markdown",
   "id": "2eba74a1",
   "metadata": {},
   "source": [
    "<div class=\"alert alert-block alert-warning\">\n",
    "<b>Комментарий ревьюер_V2:</b> \n",
    "\n",
    "⚠️Здесь не вижу цифр))  `Клиенты, имеющие семейное положение \"вдовец/вдова\", ответственне всего подходят к выплате кредита. ` Самая маленькая группа, а начинаем с этого предложения)"
   ]
  },
  {
   "cell_type": "markdown",
   "id": "6e05ae29",
   "metadata": {},
   "source": [
    "<div class=\"alert alert-block alert-success\">\n",
    "<b>Комментарий ревьюера_V3:</b>\n",
    "\n",
    "✔️  Здесь тоже все отлично по выводам))\n",
    "\n",
    "  </div>"
   ]
  },
  {
   "cell_type": "markdown",
   "id": "803f6bae",
   "metadata": {
    "deletable": false,
    "editable": false,
    "id": "1e8b2fca"
   },
   "source": [
    "#### 3.3 Есть ли зависимость между уровнем дохода и возвратом кредита в срок?"
   ]
  },
  {
   "cell_type": "code",
   "execution_count": 81,
   "id": "5071e282",
   "metadata": {
    "deletable": false,
    "id": "cd7e3720"
   },
   "outputs": [
    {
     "data": {
      "text/html": [
       "<style  type=\"text/css\" >\n",
       "</style><table id=\"T_c00b1_\" ><thead>    <tr>        <th class=\"blank level0\" ></th>        <th class=\"col_heading level0 col0\" >count</th>        <th class=\"col_heading level0 col1\" >mean</th>        <th class=\"col_heading level0 col2\" >sum</th>    </tr>    <tr>        <th class=\"index_name level0\" >total_income_category</th>        <th class=\"blank\" ></th>        <th class=\"blank\" ></th>        <th class=\"blank\" ></th>    </tr></thead><tbody>\n",
       "                <tr>\n",
       "                        <th id=\"T_c00b1_level0_row0\" class=\"row_heading level0 row0\" >A</th>\n",
       "                        <td id=\"T_c00b1_row0_col0\" class=\"data row0 col0\" >25.0</td>\n",
       "                        <td id=\"T_c00b1_row0_col1\" class=\"data row0 col1\" >8.00%</td>\n",
       "                        <td id=\"T_c00b1_row0_col2\" class=\"data row0 col2\" >2.0</td>\n",
       "            </tr>\n",
       "            <tr>\n",
       "                        <th id=\"T_c00b1_level0_row1\" class=\"row_heading level0 row1\" >B</th>\n",
       "                        <td id=\"T_c00b1_row1_col0\" class=\"data row1 col0\" >5014.0</td>\n",
       "                        <td id=\"T_c00b1_row1_col1\" class=\"data row1 col1\" >7.06%</td>\n",
       "                        <td id=\"T_c00b1_row1_col2\" class=\"data row1 col2\" >354.0</td>\n",
       "            </tr>\n",
       "            <tr>\n",
       "                        <th id=\"T_c00b1_level0_row2\" class=\"row_heading level0 row2\" >C</th>\n",
       "                        <td id=\"T_c00b1_row2_col0\" class=\"data row2 col0\" >15921.0</td>\n",
       "                        <td id=\"T_c00b1_row2_col1\" class=\"data row2 col1\" >8.50%</td>\n",
       "                        <td id=\"T_c00b1_row2_col2\" class=\"data row2 col2\" >1353.0</td>\n",
       "            </tr>\n",
       "            <tr>\n",
       "                        <th id=\"T_c00b1_level0_row3\" class=\"row_heading level0 row3\" >D</th>\n",
       "                        <td id=\"T_c00b1_row3_col0\" class=\"data row3 col0\" >349.0</td>\n",
       "                        <td id=\"T_c00b1_row3_col1\" class=\"data row3 col1\" >6.02%</td>\n",
       "                        <td id=\"T_c00b1_row3_col2\" class=\"data row3 col2\" >21.0</td>\n",
       "            </tr>\n",
       "            <tr>\n",
       "                        <th id=\"T_c00b1_level0_row4\" class=\"row_heading level0 row4\" >E</th>\n",
       "                        <td id=\"T_c00b1_row4_col0\" class=\"data row4 col0\" >22.0</td>\n",
       "                        <td id=\"T_c00b1_row4_col1\" class=\"data row4 col1\" >9.09%</td>\n",
       "                        <td id=\"T_c00b1_row4_col2\" class=\"data row4 col2\" >2.0</td>\n",
       "            </tr>\n",
       "    </tbody></table>"
      ],
      "text/plain": [
       "<pandas.io.formats.style.Styler at 0x7fdeef8a9ee0>"
      ]
     },
     "execution_count": 81,
     "metadata": {},
     "output_type": "execute_result"
    }
   ],
   "source": [
    "data_income = data.pivot_table(index=['total_income_category'], values='debt', aggfunc=('mean', 'count', 'sum')).style.format({'mean': \"{:.2%}\", 'count' : \"{:.9}\", 'sum' : \"{:.9}\"})\n",
    "\n",
    "data_income"
   ]
  },
  {
   "cell_type": "markdown",
   "id": "e1337016",
   "metadata": {
    "deletable": false,
    "id": "e8593def"
   },
   "source": [
    "**Вывод:** Обозначим еще раз категории доходов: \n",
    "   - 30001–50000 — 'D'; \n",
    "   - 50001–200000 — 'C'; \n",
    "   - 200001–1000000 — 'B'; \n",
    "   - 1000001 и выше — 'A'. \n",
    "\n",
    "Клиенты, имеющие доход от 200 001 до 1 000 000, лучше всего отдают кредит: доля должников здесь 7.1%. А вот те, у кого доход варьируется от 50 001 до 200 000, хуже справляются с обязательствами: доля невозврата здесь 8.5%. "
   ]
  },
  {
   "cell_type": "markdown",
   "id": "75fb9b7f",
   "metadata": {},
   "source": [
    "<div class=\"alert alert-block alert-warning\">\n",
    "<b>Комментарий ревьюер:</b> \n",
    "\n",
    "⚠️ Здесь сравниваем только две группы B и С, не забываем про сбалансированость выборки))<br>"
   ]
  },
  {
   "cell_type": "markdown",
   "id": "dcdf7530",
   "metadata": {},
   "source": [
    "<div class=\"alert alert-block alert-warning\">\n",
    "<b>Комментарий ревьюер_V2:</b> \n",
    "\n",
    "⚠️ Не вижу сравнений)"
   ]
  },
  {
   "cell_type": "markdown",
   "id": "267a154c",
   "metadata": {},
   "source": [
    "<div class=\"alert alert-block alert-success\">\n",
    "<b>Комментарий ревьюера_V2:</b>\n",
    "\n",
    "✔️  Здесь сравнила две самые большие группы))\n",
    "\n",
    "  </div>"
   ]
  },
  {
   "cell_type": "markdown",
   "id": "9eff56da",
   "metadata": {
    "deletable": false,
    "editable": false,
    "id": "99ecbd1f"
   },
   "source": [
    "#### 3.4 Как разные цели кредита влияют на его возврат в срок?"
   ]
  },
  {
   "cell_type": "code",
   "execution_count": 80,
   "id": "c0bb0528",
   "metadata": {
    "deletable": false,
    "id": "2b687290"
   },
   "outputs": [
    {
     "data": {
      "text/html": [
       "<style  type=\"text/css\" >\n",
       "</style><table id=\"T_f0fb9_\" ><thead>    <tr>        <th class=\"blank level0\" ></th>        <th class=\"col_heading level0 col0\" >count</th>        <th class=\"col_heading level0 col1\" >mean</th>        <th class=\"col_heading level0 col2\" >sum</th>    </tr>    <tr>        <th class=\"index_name level0\" >purpose_category</th>        <th class=\"blank\" ></th>        <th class=\"blank\" ></th>        <th class=\"blank\" ></th>    </tr></thead><tbody>\n",
       "                <tr>\n",
       "                        <th id=\"T_f0fb9_level0_row0\" class=\"row_heading level0 row0\" >операции с автомобилем</th>\n",
       "                        <td id=\"T_f0fb9_row0_col0\" class=\"data row0 col0\" >4279.0</td>\n",
       "                        <td id=\"T_f0fb9_row0_col1\" class=\"data row0 col1\" >9.35%</td>\n",
       "                        <td id=\"T_f0fb9_row0_col2\" class=\"data row0 col2\" >400.0</td>\n",
       "            </tr>\n",
       "            <tr>\n",
       "                        <th id=\"T_f0fb9_level0_row1\" class=\"row_heading level0 row1\" >операции с недвижимостью</th>\n",
       "                        <td id=\"T_f0fb9_row1_col0\" class=\"data row1 col0\" >10751.0</td>\n",
       "                        <td id=\"T_f0fb9_row1_col1\" class=\"data row1 col1\" >7.26%</td>\n",
       "                        <td id=\"T_f0fb9_row1_col2\" class=\"data row1 col2\" >780.0</td>\n",
       "            </tr>\n",
       "            <tr>\n",
       "                        <th id=\"T_f0fb9_level0_row2\" class=\"row_heading level0 row2\" >получение образования</th>\n",
       "                        <td id=\"T_f0fb9_row2_col0\" class=\"data row2 col0\" >3988.0</td>\n",
       "                        <td id=\"T_f0fb9_row2_col1\" class=\"data row2 col1\" >9.25%</td>\n",
       "                        <td id=\"T_f0fb9_row2_col2\" class=\"data row2 col2\" >369.0</td>\n",
       "            </tr>\n",
       "            <tr>\n",
       "                        <th id=\"T_f0fb9_level0_row3\" class=\"row_heading level0 row3\" >проведение свадьбы</th>\n",
       "                        <td id=\"T_f0fb9_row3_col0\" class=\"data row3 col0\" >2313.0</td>\n",
       "                        <td id=\"T_f0fb9_row3_col1\" class=\"data row3 col1\" >7.91%</td>\n",
       "                        <td id=\"T_f0fb9_row3_col2\" class=\"data row3 col2\" >183.0</td>\n",
       "            </tr>\n",
       "    </tbody></table>"
      ],
      "text/plain": [
       "<pandas.io.formats.style.Styler at 0x7fdeef5cbd60>"
      ]
     },
     "execution_count": 80,
     "metadata": {},
     "output_type": "execute_result"
    }
   ],
   "source": [
    "data_purpose = data.pivot_table(index=['purpose_category'], values='debt', aggfunc=('mean', 'count', 'sum')).style.format({'mean': \"{:.2%}\", 'count' : \"{:.9}\", 'sum' : \"{:.9}\"})\n",
    "\n",
    "data_purpose"
   ]
  },
  {
   "cell_type": "markdown",
   "id": "57a7c949",
   "metadata": {
    "deletable": false,
    "id": "b4bb2ce6"
   },
   "source": [
    "**Вывод:** Лучший результат показали те клиенты, которые брали кредит с целью покупки (или др. операций) недвижимости: доля должников 7,26%. Вомзожно, это связано с тем, что заемщики знают, что в случае неуплаты по ней последует конфискация ипотечного имущества => платить нужно, чтобы рано или поздно квартира все-таки оказалась в собственности плательщика \n",
    "\n",
    "Второй результат показала та категория людей, котоая брала деньги у банка на проведение свадьбы - процент невозврата 7,91%.  \n",
    "\n",
    "Хуже всего дела обстоят у тех граждан, которые брали кредит для получения образования (процент невозврата - 9,25%) и для операций с автомобилем (процент невозврата - 9,35%)"
   ]
  },
  {
   "cell_type": "markdown",
   "id": "0fc2fb5a",
   "metadata": {},
   "source": [
    "<div class=\"alert alert-block alert-danger\">\n",
    "<b>Комментарий ревьюера:</b> \n",
    "\n",
    "❌ Дальше все пропущено, видимо не тот вариант загрузил)) \n",
    "    \n",
    "    (юпитер видимо не захотел сохранять мои выводы)"
   ]
  },
  {
   "cell_type": "markdown",
   "id": "4422622d",
   "metadata": {},
   "source": [
    "<div class=\"alert alert-block alert-warning\">\n",
    "<b>Комментарий ревьюера_V2:</b> \n",
    "\n",
    "⚠️ Почему по твоему самые надежные заемщики те, кто берет ипотеку? Здесь можно порасуждать в выводах)) "
   ]
  },
  {
   "cell_type": "markdown",
   "id": "0065cbd5",
   "metadata": {},
   "source": [
    "<div class=\"alert alert-block alert-success\">\n",
    "<b>Комментарий ревьюера_V2:</b>\n",
    "\n",
    "✔️ Все верно, плюс самые большие суммы при ипотеке, поэтому банки предъявляют самые жесткие требования к ипотечникам, поэтому их проверяют вдоль и поперек при выдаче кредитов, плюс собственность находится в залоге у банка, не будешь платить она вернется к банку)) \n",
    "   \n",
    "       \n",
    "  </div>"
   ]
  },
  {
   "cell_type": "markdown",
   "id": "4f1b2bc2",
   "metadata": {
    "deletable": false,
    "editable": false,
    "id": "09c3ac4c"
   },
   "source": [
    "#### 3.5 Приведите возможные причины появления пропусков в исходных данных."
   ]
  },
  {
   "cell_type": "markdown",
   "id": "b90ea7fb",
   "metadata": {
    "deletable": false,
    "id": "9da2ceda"
   },
   "source": [
    "*Ответ:* Можно выделить несколько причин, по которым пропуски могли появиться в исходных данных:\n",
    "- технические неполадки, повреждение файла \n",
    "- человеческий фактор, невнимательность того, кто формировал эти самые исходные данные \n",
    "- нарочное сокрытие инфомарции \n"
   ]
  },
  {
   "cell_type": "markdown",
   "id": "661a9498",
   "metadata": {},
   "source": [
    "<div class=\"alert alert-block alert-success\">\n",
    "<b>Комментарий ревьюера:</b>\n",
    "\n",
    "✔️ Ответ правильный)) \n",
    "  </div>"
   ]
  },
  {
   "cell_type": "markdown",
   "id": "beb412c1",
   "metadata": {
    "deletable": false,
    "editable": false,
    "id": "7b0487d6"
   },
   "source": [
    "#### 3.6 Объясните, почему заполнить пропуски медианным значением — лучшее решение для количественных переменных."
   ]
  },
  {
   "cell_type": "markdown",
   "id": "1fdebf5b",
   "metadata": {
    "deletable": false,
    "id": "7ecf2b8e"
   },
   "source": [
    "*Ответ:* _Медианное знаечние более устойчиво к выбросам и аномалиям в данных_. \n",
    "Если в данных присутствуют оторванные от основной массы показатели, то их результат будет сильно смещать значение среднего вверх => показатели будут не репрезентативными "
   ]
  },
  {
   "cell_type": "markdown",
   "id": "d0cebe70",
   "metadata": {},
   "source": [
    "<div class=\"alert alert-block alert-success\">\n",
    "<b>Комментарий ревьюера:</b>\n",
    "\n",
    "✔️ Медиана не подвержена выбросам, все верно)) "
   ]
  },
  {
   "cell_type": "markdown",
   "id": "b5617400",
   "metadata": {
    "deletable": false,
    "editable": false,
    "id": "6db5255a"
   },
   "source": [
    "### Шаг 4: общий вывод."
   ]
  },
  {
   "cell_type": "markdown",
   "id": "c443a60b",
   "metadata": {
    "deletable": false,
    "id": "bad65432"
   },
   "source": [
    "Напишите ваш общий вывод. \n",
    "\n",
    "**_Во-первых_**, люди, которые не имеют детей, лучше всего отдают кредит, доля должников здесь составляет 7,5%, хуже обстоит дело с кредиторами, кто имеет одного или двух детей, здесь доля невозврата составляет соответственно 9,2% и 9,4%  \n",
    "\n",
    "**_Во-вторых_**, лучший показатель по возврату кредита у тех, кто женат/замужем. Доля невозврата в этой группе - 7.6%. Хуже с выплатой кредита справляются те, кто находятся в гражданском браке: процент невозварата у них составляет 9.3%. Самый плохой резульат у тех, кто не женат/ не замужем: процент невозврата 9.8%  \n",
    "\n",
    "**_В-третьих_**, клиенты с уровнем дохода от 50 001 до 200 000 оказались самыми неответственными плательщиками, так как доля должников составляет 8,5%, а граждане с доходом от 200 000 до 1 000 000 показали лучший результат - доля должников 7,06%  \n",
    "\n",
    "**_В-четвертых_**, хуже всех отдают кредиты клиенты, бравшие деньги на операции с автомобилем (процент невозврата - 9,35%) и на получение образования (процент невозврата - 9,25%). Лучше дела по возврату кредита обстоят у тех, кто брал кредиты на операции с недвижимостью (процент невозврата - 7,26%) и на проведение свадьбы (процент невозврата - 7,91%)  \n",
    "\n",
    "**_В-пятых_**, пропуски в исходных данных могут быть как причиной неких технических неполадок, так и умышленных или неумышленных человеческих действий  \n",
    "\n",
    "**_В-шестых_**, заполнение пропусков медианным значением является лучшим при работе с количественными переменными, так как медиана устойчивее к аномальным значениям и выбросам, чем среднее значение  "
   ]
  },
  {
   "cell_type": "markdown",
   "id": "25865c71",
   "metadata": {},
   "source": [
    " <div class=\"alert alert-block alert-success\">\n",
    "<b>Комментарий ревьюера_V2:</b>\n",
    "\n",
    "✔️ Выводы хорошо переработала, молодец)) Рекомендации даны банку, исследование проведено))\n",
    "  \n",
    "  \n",
    "</div>"
   ]
  },
  {
   "cell_type": "markdown",
   "id": "245fbaa6",
   "metadata": {},
   "source": [
    "<div class=\"alert alert-block alert-warning\">\n",
    "<b>Комментарий ревьюера_V2:</b> \n",
    "\n",
    "⚠️ В выводах давай еще сделаем акцент на сбалансированости выборок)) "
   ]
  },
  {
   "cell_type": "markdown",
   "id": "35c5730f",
   "metadata": {},
   "source": [
    "<div class=\"alert alert-block alert-success\">\n",
    "<b>Комментарий ревьюера:</b>\n",
    "    \n",
    "Саша, отлично поработал, видно что умеешь работать с кодом, но нужно будет оптимизировать код при изучении взаимосвязей и поработать над выводами, также у тебя нет концовки работ)) \n",
    "<br> Жду исправленного варианта)\n",
    "  </div>"
   ]
  },
  {
   "cell_type": "markdown",
   "id": "a2314c3b",
   "metadata": {},
   "source": [
    "<div class=\"alert alert-block alert-success\">\n",
    "<b>Комментарий ревьюера:</b>\n",
    "    \n",
    "Саша, надо будет также поработать над желтыми замечаниями, а именно над выводами и оптимизируем вывод везде таблиц) \n",
    "<br> Жду исправленного варианта)\n",
    "  </div>"
   ]
  },
  {
   "cell_type": "markdown",
   "id": "f77206fb",
   "metadata": {},
   "source": [
    "<div class=\"alert alert-block alert-success\">\n",
    "<b>Комментарий ревьюера_V2:</b>\n",
    "    \n",
    "Саша, отлично поработала, можно двигаться дальше)) Успехов в дальнейшем обучении)) \n",
    "  </div>"
   ]
  }
 ],
 "metadata": {
  "ExecuteTimeLog": [
   {
    "duration": 67,
    "start_time": "2023-02-18T19:55:55.797Z"
   },
   {
    "duration": 522,
    "start_time": "2023-02-18T19:56:10.100Z"
   },
   {
    "duration": 22,
    "start_time": "2023-02-18T19:56:16.705Z"
   },
   {
    "duration": 9,
    "start_time": "2023-02-18T19:56:26.092Z"
   },
   {
    "duration": 31,
    "start_time": "2023-02-18T19:56:27.692Z"
   },
   {
    "duration": 3,
    "start_time": "2023-02-18T19:56:29.211Z"
   },
   {
    "duration": 8,
    "start_time": "2023-02-18T19:56:30.300Z"
   },
   {
    "duration": 5,
    "start_time": "2023-02-18T19:56:32.317Z"
   },
   {
    "duration": 12,
    "start_time": "2023-02-18T19:56:33.653Z"
   },
   {
    "duration": 5,
    "start_time": "2023-02-18T19:56:34.580Z"
   },
   {
    "duration": 45,
    "start_time": "2023-02-18T19:56:41.343Z"
   },
   {
    "duration": 12,
    "start_time": "2023-02-18T19:56:44.940Z"
   },
   {
    "duration": 4,
    "start_time": "2023-02-18T19:56:47.605Z"
   },
   {
    "duration": 14,
    "start_time": "2023-02-18T19:56:48.994Z"
   },
   {
    "duration": 26,
    "start_time": "2023-02-18T19:56:52.448Z"
   },
   {
    "duration": 19,
    "start_time": "2023-02-18T19:56:53.151Z"
   },
   {
    "duration": 3,
    "start_time": "2023-02-18T19:56:57.225Z"
   },
   {
    "duration": 10,
    "start_time": "2023-02-18T19:56:57.772Z"
   },
   {
    "duration": 9,
    "start_time": "2023-02-18T19:56:58.955Z"
   },
   {
    "duration": 5,
    "start_time": "2023-02-18T19:57:02.043Z"
   },
   {
    "duration": 9,
    "start_time": "2023-02-18T19:57:02.655Z"
   },
   {
    "duration": 51,
    "start_time": "2023-02-18T21:28:30.766Z"
   },
   {
    "duration": 22,
    "start_time": "2023-02-18T21:34:19.319Z"
   },
   {
    "duration": 17,
    "start_time": "2023-02-18T21:34:27.281Z"
   },
   {
    "duration": 24,
    "start_time": "2023-02-18T21:34:45.857Z"
   },
   {
    "duration": 20,
    "start_time": "2023-02-18T21:36:20.541Z"
   },
   {
    "duration": 16,
    "start_time": "2023-02-18T21:37:54.527Z"
   },
   {
    "duration": 45,
    "start_time": "2023-02-18T21:39:35.319Z"
   },
   {
    "duration": 23,
    "start_time": "2023-02-18T21:39:56.106Z"
   },
   {
    "duration": 14,
    "start_time": "2023-02-18T21:41:15.435Z"
   },
   {
    "duration": 5,
    "start_time": "2023-02-18T21:45:15.584Z"
   },
   {
    "duration": 4,
    "start_time": "2023-02-18T21:45:41.045Z"
   },
   {
    "duration": 3,
    "start_time": "2023-02-18T21:45:47.328Z"
   },
   {
    "duration": 3,
    "start_time": "2023-02-18T21:48:52.014Z"
   },
   {
    "duration": 7,
    "start_time": "2023-02-18T21:49:04.649Z"
   },
   {
    "duration": 7,
    "start_time": "2023-02-18T21:49:16.759Z"
   },
   {
    "duration": 3,
    "start_time": "2023-02-18T21:49:27.916Z"
   },
   {
    "duration": 4,
    "start_time": "2023-02-18T21:49:30.990Z"
   },
   {
    "duration": 6,
    "start_time": "2023-02-18T21:50:24.141Z"
   },
   {
    "duration": 10,
    "start_time": "2023-02-18T21:50:38.617Z"
   },
   {
    "duration": 3,
    "start_time": "2023-02-18T21:50:52.311Z"
   },
   {
    "duration": 4,
    "start_time": "2023-02-18T21:52:28.273Z"
   },
   {
    "duration": 6,
    "start_time": "2023-02-18T21:52:39.112Z"
   },
   {
    "duration": 4,
    "start_time": "2023-02-18T21:52:46.125Z"
   },
   {
    "duration": 6,
    "start_time": "2023-02-18T21:53:48.999Z"
   },
   {
    "duration": 4,
    "start_time": "2023-02-18T21:57:40.778Z"
   },
   {
    "duration": 5,
    "start_time": "2023-02-18T21:58:27.754Z"
   },
   {
    "duration": 10,
    "start_time": "2023-02-18T22:05:10.146Z"
   },
   {
    "duration": 9,
    "start_time": "2023-02-18T22:06:03.286Z"
   },
   {
    "duration": 694,
    "start_time": "2023-02-18T22:16:43.470Z"
   },
   {
    "duration": 763,
    "start_time": "2023-02-18T22:19:52.750Z"
   },
   {
    "duration": 670,
    "start_time": "2023-02-18T22:21:31.324Z"
   },
   {
    "duration": 808,
    "start_time": "2023-02-18T22:23:08.596Z"
   },
   {
    "duration": 47,
    "start_time": "2023-02-18T22:24:17.972Z"
   },
   {
    "duration": 18,
    "start_time": "2023-02-18T22:24:48.962Z"
   },
   {
    "duration": 19,
    "start_time": "2023-02-18T22:25:15.526Z"
   },
   {
    "duration": 18,
    "start_time": "2023-02-18T22:25:33.078Z"
   },
   {
    "duration": 17,
    "start_time": "2023-02-18T22:25:42.847Z"
   },
   {
    "duration": 16,
    "start_time": "2023-02-18T22:25:52.871Z"
   },
   {
    "duration": 17,
    "start_time": "2023-02-18T22:26:02.655Z"
   },
   {
    "duration": 18,
    "start_time": "2023-02-18T22:28:02.583Z"
   },
   {
    "duration": 18,
    "start_time": "2023-02-18T22:29:09.944Z"
   },
   {
    "duration": 20,
    "start_time": "2023-02-18T22:29:16.957Z"
   },
   {
    "duration": 18,
    "start_time": "2023-02-18T22:29:24.500Z"
   },
   {
    "duration": 17,
    "start_time": "2023-02-18T22:31:26.545Z"
   },
   {
    "duration": 17,
    "start_time": "2023-02-18T22:31:48.477Z"
   },
   {
    "duration": 18,
    "start_time": "2023-02-18T22:31:59.697Z"
   },
   {
    "duration": 18,
    "start_time": "2023-02-18T22:32:14.042Z"
   },
   {
    "duration": 17,
    "start_time": "2023-02-18T22:37:39.453Z"
   },
   {
    "duration": 17,
    "start_time": "2023-02-18T22:38:14.355Z"
   },
   {
    "duration": 17,
    "start_time": "2023-02-18T22:39:39.970Z"
   },
   {
    "duration": 125,
    "start_time": "2023-02-18T22:40:06.724Z"
   },
   {
    "duration": 18,
    "start_time": "2023-02-18T22:40:25.555Z"
   },
   {
    "duration": 18,
    "start_time": "2023-02-18T22:52:44.803Z"
   },
   {
    "duration": 19,
    "start_time": "2023-02-18T22:53:18.907Z"
   },
   {
    "duration": 26,
    "start_time": "2023-02-18T23:10:04.430Z"
   },
   {
    "duration": 50,
    "start_time": "2023-02-19T09:10:50.774Z"
   },
   {
    "duration": 533,
    "start_time": "2023-02-19T09:11:28.565Z"
   },
   {
    "duration": 21,
    "start_time": "2023-02-19T09:11:29.099Z"
   },
   {
    "duration": 13,
    "start_time": "2023-02-19T09:11:29.121Z"
   },
   {
    "duration": 9,
    "start_time": "2023-02-19T09:11:29.136Z"
   },
   {
    "duration": 53,
    "start_time": "2023-02-19T09:11:29.146Z"
   },
   {
    "duration": 4,
    "start_time": "2023-02-19T09:11:29.201Z"
   },
   {
    "duration": 12,
    "start_time": "2023-02-19T09:11:29.206Z"
   },
   {
    "duration": 6,
    "start_time": "2023-02-19T09:11:29.219Z"
   },
   {
    "duration": 14,
    "start_time": "2023-02-19T09:11:29.226Z"
   },
   {
    "duration": 6,
    "start_time": "2023-02-19T09:11:29.242Z"
   },
   {
    "duration": 30,
    "start_time": "2023-02-19T09:11:29.249Z"
   },
   {
    "duration": 9,
    "start_time": "2023-02-19T09:11:29.298Z"
   },
   {
    "duration": 6,
    "start_time": "2023-02-19T09:11:29.308Z"
   },
   {
    "duration": 17,
    "start_time": "2023-02-19T09:11:29.315Z"
   },
   {
    "duration": 26,
    "start_time": "2023-02-19T09:11:29.334Z"
   },
   {
    "duration": 23,
    "start_time": "2023-02-19T09:11:29.362Z"
   },
   {
    "duration": 4,
    "start_time": "2023-02-19T09:11:29.399Z"
   },
   {
    "duration": 13,
    "start_time": "2023-02-19T09:11:29.405Z"
   },
   {
    "duration": 6,
    "start_time": "2023-02-19T09:11:29.420Z"
   },
   {
    "duration": 5,
    "start_time": "2023-02-19T09:11:29.427Z"
   },
   {
    "duration": 17,
    "start_time": "2023-02-19T09:11:29.434Z"
   },
   {
    "duration": 25,
    "start_time": "2023-02-19T09:11:29.453Z"
   },
   {
    "duration": 37,
    "start_time": "2023-02-19T09:11:29.480Z"
   },
   {
    "duration": 3,
    "start_time": "2023-02-19T09:11:29.519Z"
   },
   {
    "duration": 7,
    "start_time": "2023-02-19T09:11:29.524Z"
   },
   {
    "duration": 21,
    "start_time": "2023-02-19T09:13:29.730Z"
   },
   {
    "duration": 24,
    "start_time": "2023-02-19T09:14:16.924Z"
   },
   {
    "duration": 21,
    "start_time": "2023-02-19T09:43:30.255Z"
   },
   {
    "duration": 21,
    "start_time": "2023-02-19T09:44:10.557Z"
   },
   {
    "duration": 23,
    "start_time": "2023-02-19T09:44:14.682Z"
   },
   {
    "duration": 20,
    "start_time": "2023-02-19T09:45:37.340Z"
   },
   {
    "duration": 13,
    "start_time": "2023-02-19T09:46:05.107Z"
   },
   {
    "duration": 31,
    "start_time": "2023-02-19T09:46:49.540Z"
   },
   {
    "duration": 448,
    "start_time": "2023-02-19T09:47:05.880Z"
   },
   {
    "duration": 26,
    "start_time": "2023-02-19T09:47:46.394Z"
   },
   {
    "duration": 2,
    "start_time": "2023-02-19T09:56:09.282Z"
   },
   {
    "duration": 21,
    "start_time": "2023-02-19T10:12:11.978Z"
   },
   {
    "duration": 15,
    "start_time": "2023-02-19T10:12:30.099Z"
   },
   {
    "duration": 20,
    "start_time": "2023-02-19T10:12:56.184Z"
   },
   {
    "duration": 59,
    "start_time": "2023-02-19T10:13:00.778Z"
   },
   {
    "duration": 22,
    "start_time": "2023-02-19T10:15:45.940Z"
   },
   {
    "duration": 22,
    "start_time": "2023-02-19T10:16:05.193Z"
   },
   {
    "duration": 24,
    "start_time": "2023-02-19T10:16:49.480Z"
   },
   {
    "duration": 83,
    "start_time": "2023-03-03T21:49:35.557Z"
   },
   {
    "duration": 47,
    "start_time": "2023-03-20T22:51:07.718Z"
   },
   {
    "duration": 1104,
    "start_time": "2023-03-20T22:51:28.647Z"
   },
   {
    "duration": 24,
    "start_time": "2023-03-20T22:51:29.753Z"
   },
   {
    "duration": 23,
    "start_time": "2023-03-20T22:51:29.781Z"
   },
   {
    "duration": 10,
    "start_time": "2023-03-20T22:51:29.806Z"
   },
   {
    "duration": 49,
    "start_time": "2023-03-20T22:51:29.817Z"
   },
   {
    "duration": 8,
    "start_time": "2023-03-20T22:51:29.868Z"
   },
   {
    "duration": 33,
    "start_time": "2023-03-20T22:51:29.878Z"
   },
   {
    "duration": 7,
    "start_time": "2023-03-20T22:51:29.913Z"
   },
   {
    "duration": 12,
    "start_time": "2023-03-20T22:51:29.921Z"
   },
   {
    "duration": 10,
    "start_time": "2023-03-20T22:51:29.936Z"
   },
   {
    "duration": 54,
    "start_time": "2023-03-20T22:51:29.948Z"
   },
   {
    "duration": 11,
    "start_time": "2023-03-20T22:51:30.003Z"
   },
   {
    "duration": 28,
    "start_time": "2023-03-20T22:51:30.016Z"
   },
   {
    "duration": 18,
    "start_time": "2023-03-20T22:51:30.046Z"
   },
   {
    "duration": 34,
    "start_time": "2023-03-20T22:51:30.066Z"
   },
   {
    "duration": 19,
    "start_time": "2023-03-20T22:51:30.102Z"
   },
   {
    "duration": 4,
    "start_time": "2023-03-20T22:51:30.122Z"
   },
   {
    "duration": 15,
    "start_time": "2023-03-20T22:51:30.128Z"
   },
   {
    "duration": 18,
    "start_time": "2023-03-20T22:51:30.145Z"
   },
   {
    "duration": 11,
    "start_time": "2023-03-20T22:51:30.166Z"
   },
   {
    "duration": 25,
    "start_time": "2023-03-20T22:51:30.179Z"
   },
   {
    "duration": 39,
    "start_time": "2023-03-20T22:51:30.205Z"
   },
   {
    "duration": 22,
    "start_time": "2023-03-20T22:51:30.245Z"
   },
   {
    "duration": 29,
    "start_time": "2023-03-20T22:51:30.269Z"
   },
   {
    "duration": 31,
    "start_time": "2023-03-20T22:51:30.299Z"
   },
   {
    "duration": 91,
    "start_time": "2023-03-20T22:52:46.697Z"
   },
   {
    "duration": 92,
    "start_time": "2023-03-20T22:53:35.166Z"
   },
   {
    "duration": 4,
    "start_time": "2023-03-20T22:53:39.799Z"
   },
   {
    "duration": 8,
    "start_time": "2023-03-20T22:53:40.633Z"
   },
   {
    "duration": 85,
    "start_time": "2023-03-20T22:53:42.423Z"
   },
   {
    "duration": 88,
    "start_time": "2023-03-20T22:54:13.446Z"
   },
   {
    "duration": 100,
    "start_time": "2023-03-20T22:54:32.751Z"
   },
   {
    "duration": 504,
    "start_time": "2023-03-20T22:55:00.078Z"
   },
   {
    "duration": 22,
    "start_time": "2023-03-20T22:55:00.585Z"
   },
   {
    "duration": 42,
    "start_time": "2023-03-20T22:55:00.608Z"
   },
   {
    "duration": 13,
    "start_time": "2023-03-20T22:55:00.653Z"
   },
   {
    "duration": 57,
    "start_time": "2023-03-20T22:55:00.668Z"
   },
   {
    "duration": 4,
    "start_time": "2023-03-20T22:55:00.726Z"
   },
   {
    "duration": 28,
    "start_time": "2023-03-20T22:55:00.731Z"
   },
   {
    "duration": 29,
    "start_time": "2023-03-20T22:55:00.761Z"
   },
   {
    "duration": 34,
    "start_time": "2023-03-20T22:55:00.791Z"
   },
   {
    "duration": 26,
    "start_time": "2023-03-20T22:55:00.827Z"
   },
   {
    "duration": 65,
    "start_time": "2023-03-20T22:55:00.855Z"
   },
   {
    "duration": 17,
    "start_time": "2023-03-20T22:55:00.922Z"
   },
   {
    "duration": 34,
    "start_time": "2023-03-20T22:55:00.941Z"
   },
   {
    "duration": 52,
    "start_time": "2023-03-20T22:55:00.977Z"
   },
   {
    "duration": 48,
    "start_time": "2023-03-20T22:55:01.031Z"
   },
   {
    "duration": 57,
    "start_time": "2023-03-20T22:55:01.081Z"
   },
   {
    "duration": 43,
    "start_time": "2023-03-20T22:55:01.140Z"
   },
   {
    "duration": 50,
    "start_time": "2023-03-20T22:55:01.185Z"
   },
   {
    "duration": 57,
    "start_time": "2023-03-20T22:55:01.236Z"
   },
   {
    "duration": 37,
    "start_time": "2023-03-20T22:55:01.295Z"
   },
   {
    "duration": 63,
    "start_time": "2023-03-20T22:55:01.333Z"
   },
   {
    "duration": 72,
    "start_time": "2023-03-20T22:55:01.398Z"
   },
   {
    "duration": 0,
    "start_time": "2023-03-20T22:55:01.472Z"
   },
   {
    "duration": 0,
    "start_time": "2023-03-20T22:55:01.478Z"
   },
   {
    "duration": 0,
    "start_time": "2023-03-20T22:55:01.480Z"
   },
   {
    "duration": 87,
    "start_time": "2023-03-20T22:56:10.396Z"
   },
   {
    "duration": 90,
    "start_time": "2023-03-20T22:56:38.412Z"
   },
   {
    "duration": 94,
    "start_time": "2023-03-20T22:57:03.994Z"
   },
   {
    "duration": 84,
    "start_time": "2023-03-20T23:00:47.070Z"
   },
   {
    "duration": 120,
    "start_time": "2023-03-20T23:01:18.923Z"
   },
   {
    "duration": 82,
    "start_time": "2023-03-20T23:01:47.297Z"
   },
   {
    "duration": 76,
    "start_time": "2023-03-20T23:02:05.797Z"
   },
   {
    "duration": 83,
    "start_time": "2023-03-20T23:02:39.884Z"
   },
   {
    "duration": 69,
    "start_time": "2023-03-20T23:02:50.254Z"
   },
   {
    "duration": 102,
    "start_time": "2023-03-20T23:05:16.730Z"
   },
   {
    "duration": 77,
    "start_time": "2023-03-20T23:05:52.989Z"
   },
   {
    "duration": 77,
    "start_time": "2023-03-20T23:06:01.346Z"
   },
   {
    "duration": 82,
    "start_time": "2023-03-20T23:06:06.656Z"
   },
   {
    "duration": 82,
    "start_time": "2023-03-20T23:07:01.577Z"
   },
   {
    "duration": 89,
    "start_time": "2023-03-20T23:07:21.398Z"
   },
   {
    "duration": 494,
    "start_time": "2023-03-20T23:07:44.342Z"
   },
   {
    "duration": 32,
    "start_time": "2023-03-20T23:07:54.560Z"
   },
   {
    "duration": 93,
    "start_time": "2023-03-20T23:08:52.857Z"
   },
   {
    "duration": 22,
    "start_time": "2023-03-20T23:10:27.045Z"
   },
   {
    "duration": 20,
    "start_time": "2023-03-20T23:10:41.655Z"
   },
   {
    "duration": 26,
    "start_time": "2023-03-20T23:11:34.521Z"
   },
   {
    "duration": 29,
    "start_time": "2023-03-20T23:12:23.163Z"
   },
   {
    "duration": 24,
    "start_time": "2023-03-20T23:14:08.945Z"
   },
   {
    "duration": 23,
    "start_time": "2023-03-20T23:15:20.638Z"
   },
   {
    "duration": 25,
    "start_time": "2023-03-20T23:16:46.366Z"
   },
   {
    "duration": 23,
    "start_time": "2023-03-20T23:17:17.455Z"
   },
   {
    "duration": 24,
    "start_time": "2023-03-20T23:18:13.491Z"
   },
   {
    "duration": 25,
    "start_time": "2023-03-20T23:18:45.592Z"
   },
   {
    "duration": 33,
    "start_time": "2023-03-20T23:18:55.454Z"
   },
   {
    "duration": 71,
    "start_time": "2023-03-20T23:19:24.090Z"
   },
   {
    "duration": 4,
    "start_time": "2023-03-20T23:19:34.717Z"
   },
   {
    "duration": 29,
    "start_time": "2023-03-20T23:19:49.126Z"
   },
   {
    "duration": 21,
    "start_time": "2023-03-20T23:20:00.701Z"
   },
   {
    "duration": 29,
    "start_time": "2023-03-20T23:24:54.064Z"
   },
   {
    "duration": 26,
    "start_time": "2023-03-20T23:25:09.042Z"
   },
   {
    "duration": 23,
    "start_time": "2023-03-20T23:25:27.828Z"
   },
   {
    "duration": 27,
    "start_time": "2023-03-20T23:25:36.511Z"
   },
   {
    "duration": 22,
    "start_time": "2023-03-20T23:26:54.398Z"
   },
   {
    "duration": 31,
    "start_time": "2023-03-20T23:27:04.114Z"
   },
   {
    "duration": 20,
    "start_time": "2023-03-20T23:28:07.243Z"
   },
   {
    "duration": 30,
    "start_time": "2023-03-20T23:29:29.895Z"
   },
   {
    "duration": 23,
    "start_time": "2023-03-20T23:29:59.492Z"
   },
   {
    "duration": 20,
    "start_time": "2023-03-20T23:30:27.470Z"
   },
   {
    "duration": 27,
    "start_time": "2023-03-20T23:31:27.297Z"
   },
   {
    "duration": 19,
    "start_time": "2023-03-20T23:31:33.960Z"
   },
   {
    "duration": 22,
    "start_time": "2023-03-20T23:31:43.616Z"
   },
   {
    "duration": 19,
    "start_time": "2023-03-20T23:31:50.752Z"
   },
   {
    "duration": 21,
    "start_time": "2023-03-20T23:31:58.973Z"
   },
   {
    "duration": 21,
    "start_time": "2023-03-20T23:32:27.005Z"
   },
   {
    "duration": 19,
    "start_time": "2023-03-20T23:32:47.863Z"
   },
   {
    "duration": 20,
    "start_time": "2023-03-20T23:32:58.050Z"
   },
   {
    "duration": 76,
    "start_time": "2023-03-20T23:33:22.772Z"
   },
   {
    "duration": 113,
    "start_time": "2023-03-20T23:33:42.020Z"
   },
   {
    "duration": 21,
    "start_time": "2023-03-20T23:34:31.700Z"
   },
   {
    "duration": 20,
    "start_time": "2023-03-20T23:46:38.770Z"
   },
   {
    "duration": 22,
    "start_time": "2023-03-20T23:47:40.580Z"
   },
   {
    "duration": 24,
    "start_time": "2023-03-20T23:49:34.990Z"
   },
   {
    "duration": 20,
    "start_time": "2023-03-21T00:06:21.004Z"
   }
  ],
  "colab": {
   "name": "dpp_template_part2.ipynb",
   "provenance": []
  },
  "kernelspec": {
   "display_name": "Python 3 (ipykernel)",
   "language": "python",
   "name": "python3"
  },
  "language_info": {
   "codemirror_mode": {
    "name": "ipython",
    "version": 3
   },
   "file_extension": ".py",
   "mimetype": "text/x-python",
   "name": "python",
   "nbconvert_exporter": "python",
   "pygments_lexer": "ipython3",
   "version": "3.9.5"
  },
  "toc": {
   "base_numbering": 1,
   "nav_menu": {},
   "number_sections": true,
   "sideBar": true,
   "skip_h1_title": true,
   "title_cell": "Table of Contents",
   "title_sidebar": "Contents",
   "toc_cell": false,
   "toc_position": {},
   "toc_section_display": true,
   "toc_window_display": false
  }
 },
 "nbformat": 4,
 "nbformat_minor": 5
}
