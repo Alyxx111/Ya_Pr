{
 "cells": [
  {
   "cell_type": "markdown",
   "metadata": {},
   "source": [
    "<div style=\"border:solid green 3px; padding: 20px\">\n",
    "\n",
    "<b>Привет!</b>\n",
    "\n",
    "Меня зовут Сороколетов Илья и я буду проверять твой проект. \n",
    "\n",
    "Предлагаю общаться на «**ты**», но если тебе будет комфортнее общаться на «**вы**», то сообщи об этом в комментариях)\n",
    "\n",
    "\n",
    "Для твоего удобства, я буду выделять свои комментарии следующим образом:\n",
    "\n",
    "<div class=\"alert alert-danger\">\n",
    "<b>❌ Комментарий ревьюера v1:</b> Самые важные замечания. Они указывают на ключевые моменты, которые влияют на конечный результат проекта. </div>\n",
    "\n",
    "<div class=\"alert alert-warning\">\n",
    "<b>⚠️ Комментарий ревьюера v1:</b> Советы или замечания, которые помогут сделать твою работу лучше, но необязательны к выполнению.\n",
    "\n",
    "</div>\n",
    "\n",
    "<div class=\"alert alert-success\">\n",
    "<b>✔️ Комментарий ревьюера v1:</b> Так я выделяю все остальные комментарии.</div>\n",
    "\n",
    "\n",
    "Пометками <b>v1-v2-v3-...</b> я буду отмечать версию проверки. Так ты сможешь быстро найти мои новые комментарии.\n",
    "\n",
    "Давай работать над проектом в диалоге: если ты что-то меняешь в проекте по моим рекомендациям — пиши об этом. Выбери для своих комментариев какой-то заметный цвет, так мне будет легче отследить изменения, например вот так:\n",
    "    \n",
    "<div class=\"alert alert-info\">\n",
    "<b>Комментарий студента:</b>\n",
    "<br> Илья, привет, спасибо тебе за проверку и ценные советы, буду применять их в дальнейших своих проектах. И еще  момент: я Александр, а не Александра ;) (странно, что уже второй преподаватель так пишет; может у меня где-то в профиле какая-то ошибка..) Но в любом случае это пустяк\n",
    "</div>\n",
    "\n",
    "<b>Пожалуйста, не перемещай, не изменяй и не удаляй мои комментарии.</b> Если ты оставляешь свои комментарии, то делай это под моими, чтобы сообщения были расположены в хронологическом порядке. Всё это поможет выполнить повторную проверку твоего проекта быстрее. \n",
    "\n",
    "Перед отправкой работы я рекомендую нажимать Kernel -> Restart & Run All. Это перезапустит ядро и по очереди выполнит все ячейки. Так ты сможешь проверить, что всё работает корректно. Кнопка Kernel находится в панели сверху\n",
    "\n",
    "Обязательно задавай вопросы если они возникнут, а я перехожу к проверке)\n",
    "\n",
    "P.S. На всякий случай, я оставлю пустой шаблон для твоих комментариев ниже. Кликни два раза на мой комментарий, скопируй последние четыре строчки кода и вставляй их в пустую ячейку там, где ты хочешь оставить комментарий. Не забудь только перед этим сменить тип ячейки на Markdown. Быстро это можно сделать так: кликнуть на ячейку - нажать ESC - нажать M. \n",
    "    \n",
    "    \n",
    "<div class=\"alert alert-info\">\n",
    "<b>Комментарий студента:</b>\n",
    "<br>Удали этот текст и вместо него напиши свой комментарий 🙂\n",
    "</div>"
   ]
  },
  {
   "cell_type": "markdown",
   "metadata": {},
   "source": [
    "<div class=\"alert alert-success\">\n",
    "<b>✔️ Комментарий ревьюера v2:</b>\n",
    "<br>Прошу прощения! У тебя в профиле написано \"Саша Мироненко\" и видимо это немного сбивает с толку. Сейчас поправлю везде свои комменты)\n",
    "</div>"
   ]
  },
  {
   "cell_type": "markdown",
   "metadata": {},
   "source": [
    "# Исследование объявлений о продаже квартир\n",
    "\n",
    "В вашем распоряжении данные сервиса Яндекс.Недвижимость — архив объявлений о продаже квартир в Санкт-Петербурге и соседних населённых пунктов за несколько лет. Нужно научиться определять рыночную стоимость объектов недвижимости. Ваша задача — установить параметры. Это позволит построить автоматизированную систему: она отследит аномалии и мошенническую деятельность. \n",
    "\n",
    "По каждой квартире на продажу доступны два вида данных. Первые вписаны пользователем, вторые — получены автоматически на основе картографических данных. Например, расстояние до центра, аэропорта, ближайшего парка и водоёма. "
   ]
  },
  {
   "cell_type": "markdown",
   "metadata": {},
   "source": [
    "### Откройте файл с данными и изучите общую информацию. "
   ]
  },
  {
   "cell_type": "code",
   "execution_count": 1,
   "metadata": {},
   "outputs": [],
   "source": [
    "import pandas as pd \n",
    "import matplotlib.pyplot as plt"
   ]
  },
  {
   "cell_type": "code",
   "execution_count": 2,
   "metadata": {
    "scrolled": false
   },
   "outputs": [
    {
     "data": {
      "text/html": [
       "<div>\n",
       "<style scoped>\n",
       "    .dataframe tbody tr th:only-of-type {\n",
       "        vertical-align: middle;\n",
       "    }\n",
       "\n",
       "    .dataframe tbody tr th {\n",
       "        vertical-align: top;\n",
       "    }\n",
       "\n",
       "    .dataframe thead th {\n",
       "        text-align: right;\n",
       "    }\n",
       "</style>\n",
       "<table border=\"1\" class=\"dataframe\">\n",
       "  <thead>\n",
       "    <tr style=\"text-align: right;\">\n",
       "      <th></th>\n",
       "      <th>total_images</th>\n",
       "      <th>last_price</th>\n",
       "      <th>total_area</th>\n",
       "      <th>first_day_exposition</th>\n",
       "      <th>rooms</th>\n",
       "      <th>ceiling_height</th>\n",
       "      <th>floors_total</th>\n",
       "      <th>living_area</th>\n",
       "      <th>floor</th>\n",
       "      <th>is_apartment</th>\n",
       "      <th>studio</th>\n",
       "      <th>open_plan</th>\n",
       "      <th>kitchen_area</th>\n",
       "      <th>balcony</th>\n",
       "      <th>locality_name</th>\n",
       "      <th>airports_nearest</th>\n",
       "      <th>cityCenters_nearest</th>\n",
       "      <th>parks_around3000</th>\n",
       "      <th>parks_nearest</th>\n",
       "      <th>ponds_around3000</th>\n",
       "      <th>ponds_nearest</th>\n",
       "      <th>days_exposition</th>\n",
       "    </tr>\n",
       "  </thead>\n",
       "  <tbody>\n",
       "    <tr>\n",
       "      <th>0</th>\n",
       "      <td>20</td>\n",
       "      <td>13000000.0</td>\n",
       "      <td>108.0</td>\n",
       "      <td>2019-03-07T00:00:00</td>\n",
       "      <td>3</td>\n",
       "      <td>2.70</td>\n",
       "      <td>16.0</td>\n",
       "      <td>51.0</td>\n",
       "      <td>8</td>\n",
       "      <td>NaN</td>\n",
       "      <td>False</td>\n",
       "      <td>False</td>\n",
       "      <td>25.0</td>\n",
       "      <td>NaN</td>\n",
       "      <td>Санкт-Петербург</td>\n",
       "      <td>18863.0</td>\n",
       "      <td>16028.0</td>\n",
       "      <td>1.0</td>\n",
       "      <td>482.0</td>\n",
       "      <td>2.0</td>\n",
       "      <td>755.0</td>\n",
       "      <td>NaN</td>\n",
       "    </tr>\n",
       "    <tr>\n",
       "      <th>1</th>\n",
       "      <td>7</td>\n",
       "      <td>3350000.0</td>\n",
       "      <td>40.4</td>\n",
       "      <td>2018-12-04T00:00:00</td>\n",
       "      <td>1</td>\n",
       "      <td>NaN</td>\n",
       "      <td>11.0</td>\n",
       "      <td>18.6</td>\n",
       "      <td>1</td>\n",
       "      <td>NaN</td>\n",
       "      <td>False</td>\n",
       "      <td>False</td>\n",
       "      <td>11.0</td>\n",
       "      <td>2.0</td>\n",
       "      <td>посёлок Шушары</td>\n",
       "      <td>12817.0</td>\n",
       "      <td>18603.0</td>\n",
       "      <td>0.0</td>\n",
       "      <td>NaN</td>\n",
       "      <td>0.0</td>\n",
       "      <td>NaN</td>\n",
       "      <td>81.0</td>\n",
       "    </tr>\n",
       "    <tr>\n",
       "      <th>2</th>\n",
       "      <td>10</td>\n",
       "      <td>5196000.0</td>\n",
       "      <td>56.0</td>\n",
       "      <td>2015-08-20T00:00:00</td>\n",
       "      <td>2</td>\n",
       "      <td>NaN</td>\n",
       "      <td>5.0</td>\n",
       "      <td>34.3</td>\n",
       "      <td>4</td>\n",
       "      <td>NaN</td>\n",
       "      <td>False</td>\n",
       "      <td>False</td>\n",
       "      <td>8.3</td>\n",
       "      <td>0.0</td>\n",
       "      <td>Санкт-Петербург</td>\n",
       "      <td>21741.0</td>\n",
       "      <td>13933.0</td>\n",
       "      <td>1.0</td>\n",
       "      <td>90.0</td>\n",
       "      <td>2.0</td>\n",
       "      <td>574.0</td>\n",
       "      <td>558.0</td>\n",
       "    </tr>\n",
       "    <tr>\n",
       "      <th>3</th>\n",
       "      <td>0</td>\n",
       "      <td>64900000.0</td>\n",
       "      <td>159.0</td>\n",
       "      <td>2015-07-24T00:00:00</td>\n",
       "      <td>3</td>\n",
       "      <td>NaN</td>\n",
       "      <td>14.0</td>\n",
       "      <td>NaN</td>\n",
       "      <td>9</td>\n",
       "      <td>NaN</td>\n",
       "      <td>False</td>\n",
       "      <td>False</td>\n",
       "      <td>NaN</td>\n",
       "      <td>0.0</td>\n",
       "      <td>Санкт-Петербург</td>\n",
       "      <td>28098.0</td>\n",
       "      <td>6800.0</td>\n",
       "      <td>2.0</td>\n",
       "      <td>84.0</td>\n",
       "      <td>3.0</td>\n",
       "      <td>234.0</td>\n",
       "      <td>424.0</td>\n",
       "    </tr>\n",
       "    <tr>\n",
       "      <th>4</th>\n",
       "      <td>2</td>\n",
       "      <td>10000000.0</td>\n",
       "      <td>100.0</td>\n",
       "      <td>2018-06-19T00:00:00</td>\n",
       "      <td>2</td>\n",
       "      <td>3.03</td>\n",
       "      <td>14.0</td>\n",
       "      <td>32.0</td>\n",
       "      <td>13</td>\n",
       "      <td>NaN</td>\n",
       "      <td>False</td>\n",
       "      <td>False</td>\n",
       "      <td>41.0</td>\n",
       "      <td>NaN</td>\n",
       "      <td>Санкт-Петербург</td>\n",
       "      <td>31856.0</td>\n",
       "      <td>8098.0</td>\n",
       "      <td>2.0</td>\n",
       "      <td>112.0</td>\n",
       "      <td>1.0</td>\n",
       "      <td>48.0</td>\n",
       "      <td>121.0</td>\n",
       "    </tr>\n",
       "  </tbody>\n",
       "</table>\n",
       "</div>"
      ],
      "text/plain": [
       "   total_images  last_price  total_area first_day_exposition  rooms  \\\n",
       "0            20  13000000.0       108.0  2019-03-07T00:00:00      3   \n",
       "1             7   3350000.0        40.4  2018-12-04T00:00:00      1   \n",
       "2            10   5196000.0        56.0  2015-08-20T00:00:00      2   \n",
       "3             0  64900000.0       159.0  2015-07-24T00:00:00      3   \n",
       "4             2  10000000.0       100.0  2018-06-19T00:00:00      2   \n",
       "\n",
       "   ceiling_height  floors_total  living_area  floor is_apartment  studio  \\\n",
       "0            2.70          16.0         51.0      8          NaN   False   \n",
       "1             NaN          11.0         18.6      1          NaN   False   \n",
       "2             NaN           5.0         34.3      4          NaN   False   \n",
       "3             NaN          14.0          NaN      9          NaN   False   \n",
       "4            3.03          14.0         32.0     13          NaN   False   \n",
       "\n",
       "   open_plan  kitchen_area  balcony    locality_name  airports_nearest  \\\n",
       "0      False          25.0      NaN  Санкт-Петербург           18863.0   \n",
       "1      False          11.0      2.0   посёлок Шушары           12817.0   \n",
       "2      False           8.3      0.0  Санкт-Петербург           21741.0   \n",
       "3      False           NaN      0.0  Санкт-Петербург           28098.0   \n",
       "4      False          41.0      NaN  Санкт-Петербург           31856.0   \n",
       "\n",
       "   cityCenters_nearest  parks_around3000  parks_nearest  ponds_around3000  \\\n",
       "0              16028.0               1.0          482.0               2.0   \n",
       "1              18603.0               0.0            NaN               0.0   \n",
       "2              13933.0               1.0           90.0               2.0   \n",
       "3               6800.0               2.0           84.0               3.0   \n",
       "4               8098.0               2.0          112.0               1.0   \n",
       "\n",
       "   ponds_nearest  days_exposition  \n",
       "0          755.0              NaN  \n",
       "1            NaN             81.0  \n",
       "2          574.0            558.0  \n",
       "3          234.0            424.0  \n",
       "4           48.0            121.0  "
      ]
     },
     "metadata": {},
     "output_type": "display_data"
    },
    {
     "name": "stdout",
     "output_type": "stream",
     "text": [
      "<class 'pandas.core.frame.DataFrame'>\n",
      "RangeIndex: 23699 entries, 0 to 23698\n",
      "Data columns (total 22 columns):\n",
      " #   Column                Non-Null Count  Dtype  \n",
      "---  ------                --------------  -----  \n",
      " 0   total_images          23699 non-null  int64  \n",
      " 1   last_price            23699 non-null  float64\n",
      " 2   total_area            23699 non-null  float64\n",
      " 3   first_day_exposition  23699 non-null  object \n",
      " 4   rooms                 23699 non-null  int64  \n",
      " 5   ceiling_height        14504 non-null  float64\n",
      " 6   floors_total          23613 non-null  float64\n",
      " 7   living_area           21796 non-null  float64\n",
      " 8   floor                 23699 non-null  int64  \n",
      " 9   is_apartment          2775 non-null   object \n",
      " 10  studio                23699 non-null  bool   \n",
      " 11  open_plan             23699 non-null  bool   \n",
      " 12  kitchen_area          21421 non-null  float64\n",
      " 13  balcony               12180 non-null  float64\n",
      " 14  locality_name         23650 non-null  object \n",
      " 15  airports_nearest      18157 non-null  float64\n",
      " 16  cityCenters_nearest   18180 non-null  float64\n",
      " 17  parks_around3000      18181 non-null  float64\n",
      " 18  parks_nearest         8079 non-null   float64\n",
      " 19  ponds_around3000      18181 non-null  float64\n",
      " 20  ponds_nearest         9110 non-null   float64\n",
      " 21  days_exposition       20518 non-null  float64\n",
      "dtypes: bool(2), float64(14), int64(3), object(3)\n",
      "memory usage: 3.7+ MB\n",
      "\n",
      "\n",
      "Всего дубликатов: 0\n"
     ]
    },
    {
     "data": {
      "text/html": [
       "<div>\n",
       "<style scoped>\n",
       "    .dataframe tbody tr th:only-of-type {\n",
       "        vertical-align: middle;\n",
       "    }\n",
       "\n",
       "    .dataframe tbody tr th {\n",
       "        vertical-align: top;\n",
       "    }\n",
       "\n",
       "    .dataframe thead th {\n",
       "        text-align: right;\n",
       "    }\n",
       "</style>\n",
       "<table border=\"1\" class=\"dataframe\">\n",
       "  <thead>\n",
       "    <tr style=\"text-align: right;\">\n",
       "      <th></th>\n",
       "      <th>total_images</th>\n",
       "      <th>last_price</th>\n",
       "      <th>total_area</th>\n",
       "      <th>rooms</th>\n",
       "      <th>ceiling_height</th>\n",
       "      <th>floors_total</th>\n",
       "      <th>living_area</th>\n",
       "      <th>floor</th>\n",
       "      <th>kitchen_area</th>\n",
       "      <th>balcony</th>\n",
       "      <th>airports_nearest</th>\n",
       "      <th>cityCenters_nearest</th>\n",
       "      <th>parks_around3000</th>\n",
       "      <th>parks_nearest</th>\n",
       "      <th>ponds_around3000</th>\n",
       "      <th>ponds_nearest</th>\n",
       "      <th>days_exposition</th>\n",
       "    </tr>\n",
       "  </thead>\n",
       "  <tbody>\n",
       "    <tr>\n",
       "      <th>count</th>\n",
       "      <td>23699.000000</td>\n",
       "      <td>2.369900e+04</td>\n",
       "      <td>23699.000000</td>\n",
       "      <td>23699.000000</td>\n",
       "      <td>14504.000000</td>\n",
       "      <td>23613.000000</td>\n",
       "      <td>21796.000000</td>\n",
       "      <td>23699.000000</td>\n",
       "      <td>21421.000000</td>\n",
       "      <td>12180.000000</td>\n",
       "      <td>18157.000000</td>\n",
       "      <td>18180.000000</td>\n",
       "      <td>18181.000000</td>\n",
       "      <td>8079.000000</td>\n",
       "      <td>18181.000000</td>\n",
       "      <td>9110.000000</td>\n",
       "      <td>20518.000000</td>\n",
       "    </tr>\n",
       "    <tr>\n",
       "      <th>mean</th>\n",
       "      <td>9.858475</td>\n",
       "      <td>6.541549e+06</td>\n",
       "      <td>60.348651</td>\n",
       "      <td>2.070636</td>\n",
       "      <td>2.771499</td>\n",
       "      <td>10.673824</td>\n",
       "      <td>34.457852</td>\n",
       "      <td>5.892358</td>\n",
       "      <td>10.569807</td>\n",
       "      <td>1.150082</td>\n",
       "      <td>28793.672193</td>\n",
       "      <td>14191.277833</td>\n",
       "      <td>0.611408</td>\n",
       "      <td>490.804555</td>\n",
       "      <td>0.770255</td>\n",
       "      <td>517.980900</td>\n",
       "      <td>180.888634</td>\n",
       "    </tr>\n",
       "    <tr>\n",
       "      <th>std</th>\n",
       "      <td>5.682529</td>\n",
       "      <td>1.088701e+07</td>\n",
       "      <td>35.654083</td>\n",
       "      <td>1.078405</td>\n",
       "      <td>1.261056</td>\n",
       "      <td>6.597173</td>\n",
       "      <td>22.030445</td>\n",
       "      <td>4.885249</td>\n",
       "      <td>5.905438</td>\n",
       "      <td>1.071300</td>\n",
       "      <td>12630.880622</td>\n",
       "      <td>8608.386210</td>\n",
       "      <td>0.802074</td>\n",
       "      <td>342.317995</td>\n",
       "      <td>0.938346</td>\n",
       "      <td>277.720643</td>\n",
       "      <td>219.727988</td>\n",
       "    </tr>\n",
       "    <tr>\n",
       "      <th>min</th>\n",
       "      <td>0.000000</td>\n",
       "      <td>1.219000e+04</td>\n",
       "      <td>12.000000</td>\n",
       "      <td>0.000000</td>\n",
       "      <td>1.000000</td>\n",
       "      <td>1.000000</td>\n",
       "      <td>2.000000</td>\n",
       "      <td>1.000000</td>\n",
       "      <td>1.300000</td>\n",
       "      <td>0.000000</td>\n",
       "      <td>0.000000</td>\n",
       "      <td>181.000000</td>\n",
       "      <td>0.000000</td>\n",
       "      <td>1.000000</td>\n",
       "      <td>0.000000</td>\n",
       "      <td>13.000000</td>\n",
       "      <td>1.000000</td>\n",
       "    </tr>\n",
       "    <tr>\n",
       "      <th>25%</th>\n",
       "      <td>6.000000</td>\n",
       "      <td>3.400000e+06</td>\n",
       "      <td>40.000000</td>\n",
       "      <td>1.000000</td>\n",
       "      <td>2.520000</td>\n",
       "      <td>5.000000</td>\n",
       "      <td>18.600000</td>\n",
       "      <td>2.000000</td>\n",
       "      <td>7.000000</td>\n",
       "      <td>0.000000</td>\n",
       "      <td>18585.000000</td>\n",
       "      <td>9238.000000</td>\n",
       "      <td>0.000000</td>\n",
       "      <td>288.000000</td>\n",
       "      <td>0.000000</td>\n",
       "      <td>294.000000</td>\n",
       "      <td>45.000000</td>\n",
       "    </tr>\n",
       "    <tr>\n",
       "      <th>50%</th>\n",
       "      <td>9.000000</td>\n",
       "      <td>4.650000e+06</td>\n",
       "      <td>52.000000</td>\n",
       "      <td>2.000000</td>\n",
       "      <td>2.650000</td>\n",
       "      <td>9.000000</td>\n",
       "      <td>30.000000</td>\n",
       "      <td>4.000000</td>\n",
       "      <td>9.100000</td>\n",
       "      <td>1.000000</td>\n",
       "      <td>26726.000000</td>\n",
       "      <td>13098.500000</td>\n",
       "      <td>0.000000</td>\n",
       "      <td>455.000000</td>\n",
       "      <td>1.000000</td>\n",
       "      <td>502.000000</td>\n",
       "      <td>95.000000</td>\n",
       "    </tr>\n",
       "    <tr>\n",
       "      <th>75%</th>\n",
       "      <td>14.000000</td>\n",
       "      <td>6.800000e+06</td>\n",
       "      <td>69.900000</td>\n",
       "      <td>3.000000</td>\n",
       "      <td>2.800000</td>\n",
       "      <td>16.000000</td>\n",
       "      <td>42.300000</td>\n",
       "      <td>8.000000</td>\n",
       "      <td>12.000000</td>\n",
       "      <td>2.000000</td>\n",
       "      <td>37273.000000</td>\n",
       "      <td>16293.000000</td>\n",
       "      <td>1.000000</td>\n",
       "      <td>612.000000</td>\n",
       "      <td>1.000000</td>\n",
       "      <td>729.000000</td>\n",
       "      <td>232.000000</td>\n",
       "    </tr>\n",
       "    <tr>\n",
       "      <th>max</th>\n",
       "      <td>50.000000</td>\n",
       "      <td>7.630000e+08</td>\n",
       "      <td>900.000000</td>\n",
       "      <td>19.000000</td>\n",
       "      <td>100.000000</td>\n",
       "      <td>60.000000</td>\n",
       "      <td>409.700000</td>\n",
       "      <td>33.000000</td>\n",
       "      <td>112.000000</td>\n",
       "      <td>5.000000</td>\n",
       "      <td>84869.000000</td>\n",
       "      <td>65968.000000</td>\n",
       "      <td>3.000000</td>\n",
       "      <td>3190.000000</td>\n",
       "      <td>3.000000</td>\n",
       "      <td>1344.000000</td>\n",
       "      <td>1580.000000</td>\n",
       "    </tr>\n",
       "  </tbody>\n",
       "</table>\n",
       "</div>"
      ],
      "text/plain": [
       "       total_images    last_price    total_area         rooms  ceiling_height  \\\n",
       "count  23699.000000  2.369900e+04  23699.000000  23699.000000    14504.000000   \n",
       "mean       9.858475  6.541549e+06     60.348651      2.070636        2.771499   \n",
       "std        5.682529  1.088701e+07     35.654083      1.078405        1.261056   \n",
       "min        0.000000  1.219000e+04     12.000000      0.000000        1.000000   \n",
       "25%        6.000000  3.400000e+06     40.000000      1.000000        2.520000   \n",
       "50%        9.000000  4.650000e+06     52.000000      2.000000        2.650000   \n",
       "75%       14.000000  6.800000e+06     69.900000      3.000000        2.800000   \n",
       "max       50.000000  7.630000e+08    900.000000     19.000000      100.000000   \n",
       "\n",
       "       floors_total   living_area         floor  kitchen_area       balcony  \\\n",
       "count  23613.000000  21796.000000  23699.000000  21421.000000  12180.000000   \n",
       "mean      10.673824     34.457852      5.892358     10.569807      1.150082   \n",
       "std        6.597173     22.030445      4.885249      5.905438      1.071300   \n",
       "min        1.000000      2.000000      1.000000      1.300000      0.000000   \n",
       "25%        5.000000     18.600000      2.000000      7.000000      0.000000   \n",
       "50%        9.000000     30.000000      4.000000      9.100000      1.000000   \n",
       "75%       16.000000     42.300000      8.000000     12.000000      2.000000   \n",
       "max       60.000000    409.700000     33.000000    112.000000      5.000000   \n",
       "\n",
       "       airports_nearest  cityCenters_nearest  parks_around3000  parks_nearest  \\\n",
       "count      18157.000000         18180.000000      18181.000000    8079.000000   \n",
       "mean       28793.672193         14191.277833          0.611408     490.804555   \n",
       "std        12630.880622          8608.386210          0.802074     342.317995   \n",
       "min            0.000000           181.000000          0.000000       1.000000   \n",
       "25%        18585.000000          9238.000000          0.000000     288.000000   \n",
       "50%        26726.000000         13098.500000          0.000000     455.000000   \n",
       "75%        37273.000000         16293.000000          1.000000     612.000000   \n",
       "max        84869.000000         65968.000000          3.000000    3190.000000   \n",
       "\n",
       "       ponds_around3000  ponds_nearest  days_exposition  \n",
       "count      18181.000000    9110.000000     20518.000000  \n",
       "mean           0.770255     517.980900       180.888634  \n",
       "std            0.938346     277.720643       219.727988  \n",
       "min            0.000000      13.000000         1.000000  \n",
       "25%            0.000000     294.000000        45.000000  \n",
       "50%            1.000000     502.000000        95.000000  \n",
       "75%            1.000000     729.000000       232.000000  \n",
       "max            3.000000    1344.000000      1580.000000  "
      ]
     },
     "execution_count": 2,
     "metadata": {},
     "output_type": "execute_result"
    }
   ],
   "source": [
    "try:\n",
    "    data = pd.read_csv('/datasets/real_estate_data.csv', sep='\\t')\n",
    "except:\n",
    "    data = pd.read_csv('real_estate_data.csv', sep='\\t')\n",
    "\n",
    "pd.set_option('display.max_columns', None)\n",
    "\n",
    "display(data.head())\n",
    "\n",
    "data.info()\n",
    "\n",
    "print('\\n')\n",
    "print('Всего дубликатов:', data.duplicated().sum())\n",
    "data.describe()"
   ]
  },
  {
   "cell_type": "markdown",
   "metadata": {},
   "source": [
    "<div class=\"alert alert-warning\">\n",
    "<b>⚠️ Комментарий ревьюера v1:</b> \n",
    "<br>Обрати внимание, что часть столбцов заменилась на \"...\". Чтобы это исправить, нужно увеличить максимальное количество отображающихся столбцов командой\n",
    "\t\t\t\n",
    "\tpd.set_option('display.max_columns', None)\n",
    "</div>"
   ]
  },
  {
   "cell_type": "markdown",
   "metadata": {},
   "source": [
    "Построим гистограммы:"
   ]
  },
  {
   "cell_type": "code",
   "execution_count": 3,
   "metadata": {},
   "outputs": [
    {
     "data": {
      "image/png": "[encoded data removed]",
      "text/plain": [
       "<Figure size 1080x1440 with 20 Axes>"
      ]
     },
     "metadata": {
      "needs_background": "light"
     },
     "output_type": "display_data"
    }
   ],
   "source": [
    "data.hist(figsize=(15, 20));"
   ]
  },
  {
   "cell_type": "markdown",
   "metadata": {},
   "source": [
    "<div class=\"alert alert-success\">\n",
    "<b>✔️ Комментарий ревьюера v1:</b> \n",
    "<br>Графики построено верно! \n",
    "</div>\n",
    "\t\t\t\t\t\t\t\t\t\t\t\t\t\t\t\n",
    "<div class=\"alert alert-warning\">\n",
    "<b>⚠️ Комментарий ревьюера v1:</b> \n",
    "<br>Если после кода вызывающего график добавить \";\", то мы избавимся от строчки над графиком)\n",
    "\n",
    "\tdata.hist(figsize=(15, 20));\n",
    "</div>"
   ]
  },
  {
   "cell_type": "markdown",
   "metadata": {},
   "source": [
    "<div class=\"alert alert-danger\">\n",
    "<b>❌ Комментарий ревьюера v1:</b> \n",
    "<br>Здесь необходимо написать короткий вывод о проблемах с данными (пропуски, дубликаты, неверный тип данных, странные значения и т.д.)\n",
    "</div>"
   ]
  },
  {
   "cell_type": "markdown",
   "metadata": {},
   "source": [
    "<div class=\"alert alert-info\">\n",
    "<b>Комментарий студента:</b>\n",
    "<br>исправил\n",
    "   \n",
    "</div>"
   ]
  },
  {
   "cell_type": "markdown",
   "metadata": {},
   "source": [
    "Всего в датафрейме 23699 записи, у множества столбцов есть пропущенные значения, а также некорректный тип данных (например столбец 'first_day_exposition'). Также присутствуют аномальные значения."
   ]
  },
  {
   "cell_type": "markdown",
   "metadata": {},
   "source": [
    "<div class=\"alert alert-success\">\n",
    "<b>✔️ Комментарий ревьюера v2:</b>\n",
    "<br>Правка выполнена 👍\n",
    "</div>"
   ]
  },
  {
   "cell_type": "markdown",
   "metadata": {},
   "source": [
    "### Предобработка данных"
   ]
  },
  {
   "cell_type": "markdown",
   "metadata": {},
   "source": [
    "Для удобства работы с данными, переименуем столбец с расстоянием до центра города"
   ]
  },
  {
   "cell_type": "code",
   "execution_count": 4,
   "metadata": {},
   "outputs": [
    {
     "data": {
      "text/plain": [
       "Index(['total_images', 'last_price', 'total_area', 'first_day_exposition',\n",
       "       'rooms', 'ceiling_height', 'floors_total', 'living_area', 'floor',\n",
       "       'is_apartment', 'studio', 'open_plan', 'kitchen_area', 'balcony',\n",
       "       'locality_name', 'airports_nearest', 'city_centers_nearest',\n",
       "       'parks_around3000', 'parks_nearest', 'ponds_around3000',\n",
       "       'ponds_nearest', 'days_exposition'],\n",
       "      dtype='object')"
      ]
     },
     "execution_count": 4,
     "metadata": {},
     "output_type": "execute_result"
    }
   ],
   "source": [
    "data.rename(columns={'cityCenters_nearest' : 'city_centers_nearest'}, inplace=True)\n",
    "data.columns"
   ]
  },
  {
   "cell_type": "markdown",
   "metadata": {},
   "source": [
    "<div class=\"alert alert-success\">\n",
    "<b>✔️ Комментарий ревьюера v1:</b> \n",
    "<br>Молодец! Так датафрейм будет более аккуратным\n",
    "</div>"
   ]
  },
  {
   "cell_type": "markdown",
   "metadata": {},
   "source": [
    "Найдем пропуски и заполним их там, где это возможно"
   ]
  },
  {
   "cell_type": "code",
   "execution_count": 5,
   "metadata": {},
   "outputs": [
    {
     "data": {
      "text/plain": [
       "total_images                0\n",
       "last_price                  0\n",
       "total_area                  0\n",
       "first_day_exposition        0\n",
       "rooms                       0\n",
       "ceiling_height           9195\n",
       "floors_total               86\n",
       "living_area              1903\n",
       "floor                       0\n",
       "is_apartment            20924\n",
       "studio                      0\n",
       "open_plan                   0\n",
       "kitchen_area             2278\n",
       "balcony                 11519\n",
       "locality_name              49\n",
       "airports_nearest         5542\n",
       "city_centers_nearest     5519\n",
       "parks_around3000         5518\n",
       "parks_nearest           15620\n",
       "ponds_around3000         5518\n",
       "ponds_nearest           14589\n",
       "days_exposition          3181\n",
       "dtype: int64"
      ]
     },
     "execution_count": 5,
     "metadata": {},
     "output_type": "execute_result"
    }
   ],
   "source": [
    "data.isna().sum()"
   ]
  },
  {
   "cell_type": "markdown",
   "metadata": {},
   "source": [
    "В нашем датафрейме 23699 значений, из которых пропусков:\n",
    "- в ceiling_height **9195** - это более трети всех данных => оставляем пропуск\n",
    "- в floors_total **86** - данные не заполнили, пропуски составляют 0.3% от общего кол-ва данных => удалим \n",
    "- в living_area **1903** - не заполненная изначально информация, оставляем пропуск \n",
    "- в is_apartment **20924** - т.к это булев тип данных, то можно сделать вывод о том, что пропуск в данных=не аппартаменты => присвоим False\n",
    "- в kitchen_area **2278** - это может быть студия, так как в них нет кухни; если нет, то пропуск оставим\n",
    "- balcony **11519** - можно предположить, что балконов в этих квартирах попросту нет => заполним пропуск нулем\n",
    "- locality_name **49** - не заполнили данные, пропуски составляют 0.2% от общего кол-ва данных => удалим\n",
    "- airports_nearest **5542** - можно предположить, что аэропортов рядом нет => оставим пропуск\n",
    "- city_centers_nearest **5519** - можно предположить, что центр города не близко => оставим пропуск\n",
    "- parks_around3000 **5518** - можно предположить, что парков в радиусе 3000м нет => заменим на 0\n",
    "- parks_nearest **15620** - можно предположить, что парков нет => заменим на 0\n",
    "- ponds_around3000 **5518** - можно предположить, что прудов в радиусе 3000м нет => заменим на 0\n",
    "- ponds_nearest **14589** - можно предположить, что прудов нет => заменим на 0\n",
    "- days_exposition **3181** - можно предположить, что объявление не было опубликовано вовсе => заменим на 0"
   ]
  },
  {
   "cell_type": "markdown",
   "metadata": {},
   "source": [
    "Заполним все пропуски и удалим строки"
   ]
  },
  {
   "cell_type": "code",
   "execution_count": 6,
   "metadata": {},
   "outputs": [
    {
     "data": {
      "text/plain": [
       "total_images               0\n",
       "last_price                 0\n",
       "total_area                 0\n",
       "first_day_exposition       0\n",
       "rooms                      0\n",
       "ceiling_height             0\n",
       "floors_total               0\n",
       "living_area             1865\n",
       "floor                      0\n",
       "is_apartment               0\n",
       "studio                     0\n",
       "open_plan                  0\n",
       "kitchen_area            2222\n",
       "balcony                    0\n",
       "locality_name              0\n",
       "airports_nearest        5524\n",
       "city_centers_nearest    5501\n",
       "parks_around3000           0\n",
       "parks_nearest              0\n",
       "ponds_around3000           0\n",
       "ponds_nearest              0\n",
       "days_exposition         3171\n",
       "dtype: int64"
      ]
     },
     "execution_count": 6,
     "metadata": {},
     "output_type": "execute_result"
    }
   ],
   "source": [
    "data['is_apartment'] = data['is_apartment'].fillna('False')\n",
    "data['balcony'] = data['balcony'].fillna(0)\n",
    "\n",
    "data.dropna(subset=['floors_total','locality_name'], inplace=True)\n",
    "data['parks_around3000'] = data['parks_around3000'].fillna(0)\n",
    "data['parks_nearest'] = data['parks_nearest'].fillna(0)\n",
    "data['ponds_around3000'] = data['ponds_around3000'].fillna(0)\n",
    "data['ponds_nearest'] = data['ponds_nearest'].fillna(0)\n",
    "\n",
    "data['ceiling_height'] = data['ceiling_height'].fillna(2.65) #заполнил пропуски медианныи значением высоты потолков\n",
    "data.isna().sum()\n",
    "\n"
   ]
  },
  {
   "cell_type": "markdown",
   "metadata": {},
   "source": [
    "<div class=\"alert alert-info\">\n",
    "<b>Комментарий студента:</b>\n",
    "<br>Надеюсь, я правильно сделал, что заполнил именно медианой (до другого не додумался)\n",
    "</div>"
   ]
  },
  {
   "cell_type": "markdown",
   "metadata": {},
   "source": [
    "<div class=\"alert alert-danger\">\n",
    "<b>❌ Комментарий ревьюера v1:</b> \n",
    "<br>Давай ещё заполним пропуски в столбце с высотой потолков, тем более мы можем достаточно точно их восстановить так как основная часть данных в этом столбце находится в небольшом диапазоне.\n",
    "</div>"
   ]
  },
  {
   "cell_type": "markdown",
   "metadata": {},
   "source": [
    "<div class=\"alert alert-success\">\n",
    "<b>✔️ Комментарий ревьюера v2:</b>\n",
    "<br>Да, так и нужно было сделать)\n",
    "</div>"
   ]
  },
  {
   "cell_type": "markdown",
   "metadata": {},
   "source": [
    "Поменяем типы данных там, где это нужно сделать:"
   ]
  },
  {
   "cell_type": "code",
   "execution_count": 7,
   "metadata": {},
   "outputs": [
    {
     "name": "stdout",
     "output_type": "stream",
     "text": [
      "<class 'pandas.core.frame.DataFrame'>\n",
      "Int64Index: 23565 entries, 0 to 23698\n",
      "Data columns (total 22 columns):\n",
      " #   Column                Non-Null Count  Dtype  \n",
      "---  ------                --------------  -----  \n",
      " 0   total_images          23565 non-null  int64  \n",
      " 1   last_price            23565 non-null  float64\n",
      " 2   total_area            23565 non-null  float64\n",
      " 3   first_day_exposition  23565 non-null  object \n",
      " 4   rooms                 23565 non-null  int64  \n",
      " 5   ceiling_height        23565 non-null  float64\n",
      " 6   floors_total          23565 non-null  float64\n",
      " 7   living_area           21700 non-null  float64\n",
      " 8   floor                 23565 non-null  int64  \n",
      " 9   is_apartment          23565 non-null  object \n",
      " 10  studio                23565 non-null  bool   \n",
      " 11  open_plan             23565 non-null  bool   \n",
      " 12  kitchen_area          21343 non-null  float64\n",
      " 13  balcony               23565 non-null  float64\n",
      " 14  locality_name         23565 non-null  object \n",
      " 15  airports_nearest      18041 non-null  float64\n",
      " 16  city_centers_nearest  18064 non-null  float64\n",
      " 17  parks_around3000      23565 non-null  float64\n",
      " 18  parks_nearest         23565 non-null  float64\n",
      " 19  ponds_around3000      23565 non-null  float64\n",
      " 20  ponds_nearest         23565 non-null  float64\n",
      " 21  days_exposition       20394 non-null  float64\n",
      "dtypes: bool(2), float64(14), int64(3), object(3)\n",
      "memory usage: 3.8+ MB\n"
     ]
    }
   ],
   "source": [
    "data.info()"
   ]
  },
  {
   "cell_type": "code",
   "execution_count": 8,
   "metadata": {},
   "outputs": [
    {
     "name": "stdout",
     "output_type": "stream",
     "text": [
      "<class 'pandas.core.frame.DataFrame'>\n",
      "Int64Index: 23565 entries, 0 to 23698\n",
      "Data columns (total 22 columns):\n",
      " #   Column                Non-Null Count  Dtype         \n",
      "---  ------                --------------  -----         \n",
      " 0   total_images          23565 non-null  int64         \n",
      " 1   last_price            23565 non-null  int64         \n",
      " 2   total_area            23565 non-null  float64       \n",
      " 3   first_day_exposition  23565 non-null  datetime64[ns]\n",
      " 4   rooms                 23565 non-null  int64         \n",
      " 5   ceiling_height        23565 non-null  float64       \n",
      " 6   floors_total          23565 non-null  int64         \n",
      " 7   living_area           21700 non-null  float64       \n",
      " 8   floor                 23565 non-null  int64         \n",
      " 9   is_apartment          23565 non-null  object        \n",
      " 10  studio                23565 non-null  bool          \n",
      " 11  open_plan             23565 non-null  bool          \n",
      " 12  kitchen_area          21343 non-null  float64       \n",
      " 13  balcony               23565 non-null  int64         \n",
      " 14  locality_name         23565 non-null  object        \n",
      " 15  airports_nearest      18041 non-null  float64       \n",
      " 16  city_centers_nearest  18064 non-null  float64       \n",
      " 17  parks_around3000      23565 non-null  int64         \n",
      " 18  parks_nearest         23565 non-null  int64         \n",
      " 19  ponds_around3000      23565 non-null  int64         \n",
      " 20  ponds_nearest         23565 non-null  int64         \n",
      " 21  days_exposition       20394 non-null  float64       \n",
      "dtypes: bool(2), datetime64[ns](1), float64(7), int64(10), object(2)\n",
      "memory usage: 3.8+ MB\n"
     ]
    }
   ],
   "source": [
    "data['last_price'] = data['last_price'].astype(int)\n",
    "data['first_day_exposition'] = pd.to_datetime(data['first_day_exposition'], format='%Y-%m-%dT%H:%M:%S')\n",
    "data['balcony'] = data['balcony'].astype(int)\n",
    "data['parks_around3000'] = data['parks_around3000'].astype(int)\n",
    "data['parks_nearest'] = data['parks_nearest'].astype(int)\n",
    "data['ponds_around3000'] = data['ponds_around3000'].astype(int)\n",
    "data['ponds_nearest'] = data['ponds_nearest'].astype(int)\n",
    "data['floors_total'] = data['floors_total'].astype(int)\n",
    "data['rooms'] = data['rooms'].astype(int)\n",
    "data['ceiling_height'] = data['ceiling_height'].astype(float)\n",
    "data.info()"
   ]
  },
  {
   "cell_type": "markdown",
   "metadata": {},
   "source": [
    "<div class=\"alert alert-warning\">\n",
    "<b>⚠️ Комментарий ревьюера v1:</b> \n",
    "<br>Методы fillna и astype можно применить к нескольким столбюца одновременно\n",
    "\n",
    "\tdf.astype({ \"col1\": \"float64\", \"col2\": \"int64\"})\n",
    "<br>Если столбцов более двух, то можно применить цикл for для автоматизации процесса\n",
    "</div>"
   ]
  },
  {
   "cell_type": "markdown",
   "metadata": {},
   "source": [
    "Работа с дубликатами и уникальные значения (название нас. пункта)"
   ]
  },
  {
   "cell_type": "code",
   "execution_count": 9,
   "metadata": {},
   "outputs": [
    {
     "name": "stdout",
     "output_type": "stream",
     "text": [
      "Количество уникальных значений locality_name: 364\n"
     ]
    }
   ],
   "source": [
    "print('Количество уникальных значений locality_name:', data['locality_name'].unique().shape[0])\n"
   ]
  },
  {
   "cell_type": "code",
   "execution_count": 10,
   "metadata": {
    "scrolled": true
   },
   "outputs": [
    {
     "data": {
      "text/plain": [
       "array(['Санкт-Петербург', 'посёлок Шушары', 'городской посёлок Янино-1',\n",
       "       'посёлок Парголово', 'посёлок Мурино', 'Ломоносов', 'Сертолово',\n",
       "       'Петергоф', 'Пушкин', 'деревня Кудрово', 'Коммунар', 'Колпино',\n",
       "       'поселок городского типа Красный Бор', 'Гатчина', 'поселок Мурино',\n",
       "       'деревня Фёдоровское', 'Выборг', 'Кронштадт', 'Кировск',\n",
       "       'деревня Новое Девяткино', 'посёлок Металлострой',\n",
       "       'посёлок городского типа Лебяжье',\n",
       "       'посёлок городского типа Сиверский', 'поселок Молодцово',\n",
       "       'поселок городского типа Кузьмоловский',\n",
       "       'садовое товарищество Новая Ропша', 'Павловск',\n",
       "       'деревня Пикколово', 'Всеволожск', 'Волхов', 'Кингисепп',\n",
       "       'Приозерск', 'Сестрорецк', 'деревня Куттузи', 'посёлок Аннино',\n",
       "       'поселок городского типа Ефимовский', 'посёлок Плодовое',\n",
       "       'деревня Заклинье', 'поселок Торковичи', 'поселок Первомайское',\n",
       "       'Красное Село', 'посёлок Понтонный', 'Сясьстрой', 'деревня Старая',\n",
       "       'деревня Лесколово', 'посёлок Новый Свет', 'Сланцы',\n",
       "       'село Путилово', 'Ивангород', 'Мурино', 'Шлиссельбург',\n",
       "       'Никольское', 'Зеленогорск', 'Сосновый Бор', 'поселок Новый Свет',\n",
       "       'деревня Оржицы', 'деревня Кальтино', 'Кудрово',\n",
       "       'поселок Романовка', 'посёлок Бугры', 'поселок Бугры',\n",
       "       'поселок городского типа Рощино', 'Кириши', 'Луга', 'Волосово',\n",
       "       'Отрадное', 'село Павлово', 'поселок Оредеж', 'село Копорье',\n",
       "       'посёлок городского типа Красный Бор', 'посёлок Молодёжное',\n",
       "       'Тихвин', 'посёлок Победа', 'деревня Нурма',\n",
       "       'поселок городского типа Синявино', 'Тосно',\n",
       "       'посёлок городского типа Кузьмоловский', 'посёлок Стрельна',\n",
       "       'Бокситогорск', 'посёлок Александровская', 'деревня Лопухинка',\n",
       "       'Пикалёво', 'поселок Терволово',\n",
       "       'поселок городского типа Советский', 'Подпорожье',\n",
       "       'посёлок Петровское', 'посёлок городского типа Токсово',\n",
       "       'поселок Сельцо', 'посёлок городского типа Вырица',\n",
       "       'деревня Кипень', 'деревня Келози', 'деревня Вартемяги',\n",
       "       'посёлок Тельмана', 'поселок Севастьяново',\n",
       "       'городской поселок Большая Ижора', 'городской посёлок Павлово',\n",
       "       'деревня Агалатово', 'посёлок Новогорелово',\n",
       "       'городской посёлок Лесогорский', 'деревня Лаголово',\n",
       "       'поселок Цвелодубово', 'поселок городского типа Рахья',\n",
       "       'поселок городского типа Вырица', 'деревня Белогорка',\n",
       "       'поселок Заводской', 'городской посёлок Новоселье',\n",
       "       'деревня Большие Колпаны', 'деревня Горбунки', 'деревня Батово',\n",
       "       'деревня Заневка', 'деревня Иссад', 'Приморск',\n",
       "       'городской посёлок Фёдоровское', 'деревня Мистолово',\n",
       "       'Новая Ладога', 'поселок Зимитицы', 'поселок Барышево',\n",
       "       'деревня Разметелево', 'поселок городского типа имени Свердлова',\n",
       "       'деревня Пеники', 'поселок Рябово', 'деревня Пудомяги',\n",
       "       'поселок станции Корнево', 'деревня Низино', 'деревня Бегуницы',\n",
       "       'посёлок Поляны', 'городской посёлок Мга', 'поселок Елизаветино',\n",
       "       'посёлок городского типа Кузнечное', 'деревня Колтуши',\n",
       "       'поселок Запорожское', 'посёлок городского типа Рощино',\n",
       "       'деревня Гостилицы', 'деревня Малое Карлино',\n",
       "       'посёлок Мичуринское', 'посёлок городского типа имени Морозова',\n",
       "       'посёлок Песочный', 'посёлок Сосново', 'деревня Аро',\n",
       "       'поселок Ильичёво', 'посёлок городского типа Тайцы',\n",
       "       'деревня Малое Верево', 'деревня Извара', 'поселок станции Вещево',\n",
       "       'село Паша', 'деревня Калитино',\n",
       "       'посёлок городского типа Ульяновка', 'деревня Чудской Бор',\n",
       "       'поселок городского типа Дубровка', 'деревня Мины',\n",
       "       'поселок Войсковицы', 'посёлок городского типа имени Свердлова',\n",
       "       'деревня Коркино', 'посёлок Ропша',\n",
       "       'поселок городского типа Приладожский', 'посёлок Щеглово',\n",
       "       'посёлок Гаврилово', 'Лодейное Поле', 'деревня Рабитицы',\n",
       "       'поселок городского типа Никольский', 'деревня Кузьмолово',\n",
       "       'деревня Малые Колпаны', 'поселок Тельмана',\n",
       "       'посёлок Петро-Славянка', 'городской посёлок Назия',\n",
       "       'посёлок Репино', 'посёлок Ильичёво', 'поселок Углово',\n",
       "       'поселок Старая Малукса', 'садовое товарищество Рахья',\n",
       "       'поселок Аннино', 'поселок Победа', 'деревня Меньково',\n",
       "       'деревня Старые Бегуницы', 'посёлок Сапёрный', 'поселок Семрино',\n",
       "       'поселок Гаврилово', 'поселок Глажево', 'поселок Кобринское',\n",
       "       'деревня Гарболово', 'деревня Юкки',\n",
       "       'поселок станции Приветнинское', 'деревня Мануйлово',\n",
       "       'деревня Пчева', 'поселок Поляны', 'поселок Цвылёво',\n",
       "       'поселок Мельниково', 'посёлок Пудость', 'посёлок Усть-Луга',\n",
       "       'Светогорск', 'Любань', 'поселок Селезнёво',\n",
       "       'поселок городского типа Рябово', 'Каменногорск', 'деревня Кривко',\n",
       "       'поселок Глебычево', 'деревня Парицы', 'поселок Жилпосёлок',\n",
       "       'посёлок городского типа Мга', 'городской поселок Янино-1',\n",
       "       'посёлок Войскорово', 'село Никольское', 'посёлок Терволово',\n",
       "       'поселок Стеклянный', 'посёлок городского типа Важины',\n",
       "       'посёлок Мыза-Ивановка', 'село Русско-Высоцкое',\n",
       "       'поселок городского типа Лебяжье',\n",
       "       'поселок городского типа Форносово', 'село Старая Ладога',\n",
       "       'поселок Житково', 'городской посёлок Виллози', 'деревня Лампово',\n",
       "       'деревня Шпаньково', 'деревня Лаврики', 'посёлок Сумино',\n",
       "       'посёлок Возрождение', 'деревня Старосиверская',\n",
       "       'посёлок Кикерино', 'поселок Возрождение',\n",
       "       'деревня Старое Хинколово', 'посёлок Пригородный',\n",
       "       'посёлок Торфяное', 'городской посёлок Будогощь',\n",
       "       'поселок Суходолье', 'поселок Красная Долина', 'деревня Хапо-Ое',\n",
       "       'поселок городского типа Дружная Горка', 'поселок Лисий Нос',\n",
       "       'деревня Яльгелево', 'посёлок Стеклянный', 'село Рождествено',\n",
       "       'деревня Старополье', 'посёлок Левашово', 'деревня Сяськелево',\n",
       "       'деревня Камышовка',\n",
       "       'садоводческое некоммерческое товарищество Лесная Поляна',\n",
       "       'деревня Хязельки', 'поселок Жилгородок',\n",
       "       'посёлок городского типа Павлово', 'деревня Ялгино',\n",
       "       'поселок Новый Учхоз', 'городской посёлок Рощино',\n",
       "       'поселок Гончарово', 'поселок Почап', 'посёлок Сапёрное',\n",
       "       'посёлок Платформа 69-й километр', 'поселок Каложицы',\n",
       "       'деревня Фалилеево', 'деревня Пельгора',\n",
       "       'поселок городского типа Лесогорский', 'деревня Торошковичи',\n",
       "       'посёлок Белоостров', 'посёлок Алексеевка', 'поселок Серебрянский',\n",
       "       'поселок Лукаши', 'поселок Петровское', 'деревня Щеглово',\n",
       "       'поселок Мичуринское', 'деревня Тарасово', 'поселок Кингисеппский',\n",
       "       'посёлок при железнодорожной станции Вещево', 'поселок Ушаки',\n",
       "       'деревня Котлы', 'деревня Сижно', 'деревня Торосово',\n",
       "       'посёлок Форт Красная Горка', 'деревня Новолисино',\n",
       "       'посёлок станции Громово', 'деревня Глинка', 'посёлок Мельниково',\n",
       "       'поселок городского типа Назия', 'деревня Старая Пустошь',\n",
       "       'поселок Коммунары', 'поселок Починок',\n",
       "       'посёлок городского типа Вознесенье', 'деревня Разбегаево',\n",
       "       'посёлок городского типа Рябово', 'поселок Гладкое',\n",
       "       'посёлок при железнодорожной станции Приветнинское',\n",
       "       'поселок Тёсово-4', 'посёлок Жилгородок', 'деревня Бор',\n",
       "       'посёлок Коробицыно', 'деревня Большая Вруда', 'деревня Курковицы',\n",
       "       'посёлок Лисий Нос', 'городской посёлок Советский',\n",
       "       'посёлок Кобралово', 'деревня Суоранда', 'поселок Кобралово',\n",
       "       'поселок городского типа Кондратьево',\n",
       "       'коттеджный поселок Счастье', 'поселок Любань', 'деревня Реброво',\n",
       "       'деревня Зимитицы', 'деревня Тойворово', 'поселок Семиозерье',\n",
       "       'поселок Лесное', 'поселок Совхозный', 'поселок Усть-Луга',\n",
       "       'посёлок Ленинское', 'посёлок Суйда',\n",
       "       'посёлок городского типа Форносово', 'деревня Нижние Осельки',\n",
       "       'посёлок станции Свирь', 'поселок Перово', 'Высоцк',\n",
       "       'поселок Гарболово', 'село Шум', 'поселок Котельский',\n",
       "       'поселок станции Лужайка', 'деревня Большая Пустомержа',\n",
       "       'поселок Красносельское', 'деревня Вахнова Кара', 'деревня Пижма',\n",
       "       'коттеджный поселок Кивеннапа Север', 'поселок Коробицыно',\n",
       "       'поселок Ромашки', 'посёлок Перово', 'деревня Каськово',\n",
       "       'деревня Куровицы', 'посёлок Плоское', 'поселок Сумино',\n",
       "       'поселок городского типа Большая Ижора', 'поселок Кирпичное',\n",
       "       'деревня Ям-Тесово', 'деревня Раздолье', 'деревня Терпилицы',\n",
       "       'поселок городского типа Токсово', 'посёлок Шугозеро',\n",
       "       'деревня Ваганово', 'поселок Пушное', 'садовое товарищество Садко',\n",
       "       'посёлок Усть-Ижора', 'деревня Выскатка',\n",
       "       'городской посёлок Свирьстрой', 'поселок Громово',\n",
       "       'деревня Кисельня', 'посёлок Старая Малукса',\n",
       "       'деревня Трубников Бор', 'поселок Калитино',\n",
       "       'посёлок Высокоключевой', 'садовое товарищество Приладожский',\n",
       "       'посёлок Пансионат Зелёный Бор', 'деревня Ненимяки',\n",
       "       'поселок Пансионат Зелёный Бор', 'деревня Снегирёвка',\n",
       "       'деревня Рапполово', 'деревня Пустынка', 'поселок Рабитицы',\n",
       "       'деревня Большой Сабск', 'деревня Русско', 'деревня Лупполово',\n",
       "       'деревня Большое Рейзино', 'деревня Малая Романовка',\n",
       "       'поселок Дружноселье', 'поселок Пчевжа', 'поселок Володарское',\n",
       "       'деревня Нижняя', 'коттеджный посёлок Лесное', 'деревня Тихковицы',\n",
       "       'деревня Борисова Грива', 'посёлок Дзержинского'], dtype=object)"
      ]
     },
     "execution_count": 10,
     "metadata": {},
     "output_type": "execute_result"
    }
   ],
   "source": [
    "data['locality_name'].unique()"
   ]
  },
  {
   "cell_type": "markdown",
   "metadata": {},
   "source": [
    "Можно привести все к нижнму регистру, поменять 'городской поселок' на 'поселок городского типа', поменять все \"ё\" на \"е\" "
   ]
  },
  {
   "cell_type": "code",
   "execution_count": 11,
   "metadata": {},
   "outputs": [
    {
     "name": "stdout",
     "output_type": "stream",
     "text": [
      "Количество уникальных значений locality_name: 323\n"
     ]
    },
    {
     "data": {
      "text/plain": [
       "0"
      ]
     },
     "execution_count": 11,
     "metadata": {},
     "output_type": "execute_result"
    }
   ],
   "source": [
    "data['locality_name'] = data['locality_name'].str.lower()\n",
    "data['locality_name'] = data['locality_name'].str.replace('ё', 'е')\n",
    "data['locality_name'] = data['locality_name'].str.replace('городской поселок','поселок городского типа')\n",
    "print('Количество уникальных значений locality_name:', data['locality_name'].unique().shape[0])\n",
    "data.duplicated().sum()"
   ]
  },
  {
   "cell_type": "markdown",
   "metadata": {},
   "source": [
    "За счет изменения регистра, замены ё на е и изменения на поселок городского типа, удалось избавиться от 41 значения. Что касается же поселка Рябово и поселка городского типа Рябово, то это два разных топонима: один находится в Приморском городском поселении Выборгского района, другой - в Тосненском районе Ленинградской области"
   ]
  },
  {
   "cell_type": "markdown",
   "metadata": {},
   "source": [
    "<div class=\"alert alert-success\">\n",
    "<b>✔️ Комментарий ревьюера v1:</b> \n",
    "<br>Супер! Здесь всё верно)\n",
    "</div>"
   ]
  },
  {
   "cell_type": "markdown",
   "metadata": {},
   "source": [
    "Найдем и устраним редкие и выбивающиеся значения"
   ]
  },
  {
   "cell_type": "code",
   "execution_count": 12,
   "metadata": {},
   "outputs": [
    {
     "data": {
      "text/html": [
       "<div>\n",
       "<style scoped>\n",
       "    .dataframe tbody tr th:only-of-type {\n",
       "        vertical-align: middle;\n",
       "    }\n",
       "\n",
       "    .dataframe tbody tr th {\n",
       "        vertical-align: top;\n",
       "    }\n",
       "\n",
       "    .dataframe thead th {\n",
       "        text-align: right;\n",
       "    }\n",
       "</style>\n",
       "<table border=\"1\" class=\"dataframe\">\n",
       "  <thead>\n",
       "    <tr style=\"text-align: right;\">\n",
       "      <th></th>\n",
       "      <th>total_images</th>\n",
       "      <th>last_price</th>\n",
       "      <th>total_area</th>\n",
       "      <th>rooms</th>\n",
       "      <th>ceiling_height</th>\n",
       "      <th>floors_total</th>\n",
       "      <th>living_area</th>\n",
       "      <th>floor</th>\n",
       "      <th>kitchen_area</th>\n",
       "      <th>balcony</th>\n",
       "      <th>airports_nearest</th>\n",
       "      <th>city_centers_nearest</th>\n",
       "      <th>parks_around3000</th>\n",
       "      <th>parks_nearest</th>\n",
       "      <th>ponds_around3000</th>\n",
       "      <th>ponds_nearest</th>\n",
       "      <th>days_exposition</th>\n",
       "    </tr>\n",
       "  </thead>\n",
       "  <tbody>\n",
       "    <tr>\n",
       "      <th>count</th>\n",
       "      <td>23565.000000</td>\n",
       "      <td>2.356500e+04</td>\n",
       "      <td>23565.000000</td>\n",
       "      <td>23565.000000</td>\n",
       "      <td>23565.000000</td>\n",
       "      <td>23565.000000</td>\n",
       "      <td>21700.000000</td>\n",
       "      <td>23565.000000</td>\n",
       "      <td>21343.000000</td>\n",
       "      <td>23565.000000</td>\n",
       "      <td>18041.000000</td>\n",
       "      <td>18064.000000</td>\n",
       "      <td>23565.000000</td>\n",
       "      <td>23565.000000</td>\n",
       "      <td>23565.000000</td>\n",
       "      <td>23565.000000</td>\n",
       "      <td>20394.000000</td>\n",
       "    </tr>\n",
       "    <tr>\n",
       "      <th>mean</th>\n",
       "      <td>9.878421</td>\n",
       "      <td>6.540058e+06</td>\n",
       "      <td>60.322824</td>\n",
       "      <td>2.070656</td>\n",
       "      <td>2.724530</td>\n",
       "      <td>10.675875</td>\n",
       "      <td>34.454822</td>\n",
       "      <td>5.878124</td>\n",
       "      <td>10.560994</td>\n",
       "      <td>0.593677</td>\n",
       "      <td>28797.082701</td>\n",
       "      <td>14192.656056</td>\n",
       "      <td>0.468831</td>\n",
       "      <td>167.169998</td>\n",
       "      <td>0.589900</td>\n",
       "      <td>198.738129</td>\n",
       "      <td>180.741395</td>\n",
       "    </tr>\n",
       "    <tr>\n",
       "      <th>std</th>\n",
       "      <td>5.681156</td>\n",
       "      <td>1.091093e+07</td>\n",
       "      <td>35.657060</td>\n",
       "      <td>1.078591</td>\n",
       "      <td>0.991026</td>\n",
       "      <td>6.594823</td>\n",
       "      <td>22.045359</td>\n",
       "      <td>4.871485</td>\n",
       "      <td>5.900630</td>\n",
       "      <td>0.960660</td>\n",
       "      <td>12632.499735</td>\n",
       "      <td>8613.348153</td>\n",
       "      <td>0.748403</td>\n",
       "      <td>306.301628</td>\n",
       "      <td>0.883966</td>\n",
       "      <td>305.195521</td>\n",
       "      <td>219.732782</td>\n",
       "    </tr>\n",
       "    <tr>\n",
       "      <th>min</th>\n",
       "      <td>0.000000</td>\n",
       "      <td>1.219000e+04</td>\n",
       "      <td>12.000000</td>\n",
       "      <td>0.000000</td>\n",
       "      <td>1.000000</td>\n",
       "      <td>1.000000</td>\n",
       "      <td>2.000000</td>\n",
       "      <td>1.000000</td>\n",
       "      <td>1.300000</td>\n",
       "      <td>0.000000</td>\n",
       "      <td>0.000000</td>\n",
       "      <td>181.000000</td>\n",
       "      <td>0.000000</td>\n",
       "      <td>0.000000</td>\n",
       "      <td>0.000000</td>\n",
       "      <td>0.000000</td>\n",
       "      <td>1.000000</td>\n",
       "    </tr>\n",
       "    <tr>\n",
       "      <th>25%</th>\n",
       "      <td>6.000000</td>\n",
       "      <td>3.400000e+06</td>\n",
       "      <td>40.000000</td>\n",
       "      <td>1.000000</td>\n",
       "      <td>2.600000</td>\n",
       "      <td>5.000000</td>\n",
       "      <td>18.600000</td>\n",
       "      <td>2.000000</td>\n",
       "      <td>7.000000</td>\n",
       "      <td>0.000000</td>\n",
       "      <td>18565.000000</td>\n",
       "      <td>9238.000000</td>\n",
       "      <td>0.000000</td>\n",
       "      <td>0.000000</td>\n",
       "      <td>0.000000</td>\n",
       "      <td>0.000000</td>\n",
       "      <td>45.000000</td>\n",
       "    </tr>\n",
       "    <tr>\n",
       "      <th>50%</th>\n",
       "      <td>9.000000</td>\n",
       "      <td>4.646000e+06</td>\n",
       "      <td>52.000000</td>\n",
       "      <td>2.000000</td>\n",
       "      <td>2.650000</td>\n",
       "      <td>9.000000</td>\n",
       "      <td>30.000000</td>\n",
       "      <td>4.000000</td>\n",
       "      <td>9.100000</td>\n",
       "      <td>0.000000</td>\n",
       "      <td>26757.000000</td>\n",
       "      <td>13096.500000</td>\n",
       "      <td>0.000000</td>\n",
       "      <td>0.000000</td>\n",
       "      <td>0.000000</td>\n",
       "      <td>0.000000</td>\n",
       "      <td>95.000000</td>\n",
       "    </tr>\n",
       "    <tr>\n",
       "      <th>75%</th>\n",
       "      <td>14.000000</td>\n",
       "      <td>6.790000e+06</td>\n",
       "      <td>69.700000</td>\n",
       "      <td>3.000000</td>\n",
       "      <td>2.700000</td>\n",
       "      <td>16.000000</td>\n",
       "      <td>42.300000</td>\n",
       "      <td>8.000000</td>\n",
       "      <td>12.000000</td>\n",
       "      <td>1.000000</td>\n",
       "      <td>37273.000000</td>\n",
       "      <td>16285.000000</td>\n",
       "      <td>1.000000</td>\n",
       "      <td>301.000000</td>\n",
       "      <td>1.000000</td>\n",
       "      <td>389.000000</td>\n",
       "      <td>231.000000</td>\n",
       "    </tr>\n",
       "    <tr>\n",
       "      <th>max</th>\n",
       "      <td>50.000000</td>\n",
       "      <td>7.630000e+08</td>\n",
       "      <td>900.000000</td>\n",
       "      <td>19.000000</td>\n",
       "      <td>100.000000</td>\n",
       "      <td>60.000000</td>\n",
       "      <td>409.700000</td>\n",
       "      <td>33.000000</td>\n",
       "      <td>112.000000</td>\n",
       "      <td>5.000000</td>\n",
       "      <td>84869.000000</td>\n",
       "      <td>65968.000000</td>\n",
       "      <td>3.000000</td>\n",
       "      <td>3190.000000</td>\n",
       "      <td>3.000000</td>\n",
       "      <td>1344.000000</td>\n",
       "      <td>1580.000000</td>\n",
       "    </tr>\n",
       "  </tbody>\n",
       "</table>\n",
       "</div>"
      ],
      "text/plain": [
       "       total_images    last_price    total_area         rooms  ceiling_height  \\\n",
       "count  23565.000000  2.356500e+04  23565.000000  23565.000000    23565.000000   \n",
       "mean       9.878421  6.540058e+06     60.322824      2.070656        2.724530   \n",
       "std        5.681156  1.091093e+07     35.657060      1.078591        0.991026   \n",
       "min        0.000000  1.219000e+04     12.000000      0.000000        1.000000   \n",
       "25%        6.000000  3.400000e+06     40.000000      1.000000        2.600000   \n",
       "50%        9.000000  4.646000e+06     52.000000      2.000000        2.650000   \n",
       "75%       14.000000  6.790000e+06     69.700000      3.000000        2.700000   \n",
       "max       50.000000  7.630000e+08    900.000000     19.000000      100.000000   \n",
       "\n",
       "       floors_total   living_area         floor  kitchen_area       balcony  \\\n",
       "count  23565.000000  21700.000000  23565.000000  21343.000000  23565.000000   \n",
       "mean      10.675875     34.454822      5.878124     10.560994      0.593677   \n",
       "std        6.594823     22.045359      4.871485      5.900630      0.960660   \n",
       "min        1.000000      2.000000      1.000000      1.300000      0.000000   \n",
       "25%        5.000000     18.600000      2.000000      7.000000      0.000000   \n",
       "50%        9.000000     30.000000      4.000000      9.100000      0.000000   \n",
       "75%       16.000000     42.300000      8.000000     12.000000      1.000000   \n",
       "max       60.000000    409.700000     33.000000    112.000000      5.000000   \n",
       "\n",
       "       airports_nearest  city_centers_nearest  parks_around3000  \\\n",
       "count      18041.000000          18064.000000      23565.000000   \n",
       "mean       28797.082701          14192.656056          0.468831   \n",
       "std        12632.499735           8613.348153          0.748403   \n",
       "min            0.000000            181.000000          0.000000   \n",
       "25%        18565.000000           9238.000000          0.000000   \n",
       "50%        26757.000000          13096.500000          0.000000   \n",
       "75%        37273.000000          16285.000000          1.000000   \n",
       "max        84869.000000          65968.000000          3.000000   \n",
       "\n",
       "       parks_nearest  ponds_around3000  ponds_nearest  days_exposition  \n",
       "count   23565.000000      23565.000000   23565.000000     20394.000000  \n",
       "mean      167.169998          0.589900     198.738129       180.741395  \n",
       "std       306.301628          0.883966     305.195521       219.732782  \n",
       "min         0.000000          0.000000       0.000000         1.000000  \n",
       "25%         0.000000          0.000000       0.000000        45.000000  \n",
       "50%         0.000000          0.000000       0.000000        95.000000  \n",
       "75%       301.000000          1.000000     389.000000       231.000000  \n",
       "max      3190.000000          3.000000    1344.000000      1580.000000  "
      ]
     },
     "execution_count": 12,
     "metadata": {},
     "output_type": "execute_result"
    }
   ],
   "source": [
    "data.describe()"
   ]
  },
  {
   "cell_type": "code",
   "execution_count": 13,
   "metadata": {},
   "outputs": [
    {
     "data": {
      "text/plain": [
       "array([[<AxesSubplot:title={'center':'last_price'}>]], dtype=object)"
      ]
     },
     "execution_count": 13,
     "metadata": {},
     "output_type": "execute_result"
    },
    {
     "data": {
      "image/png": "[encoded data removed]",
      "text/plain": [
       "<Figure size 432x288 with 1 Axes>"
      ]
     },
     "metadata": {
      "needs_background": "light"
     },
     "output_type": "display_data"
    }
   ],
   "source": [
    "data.hist('last_price', bins=50, range=(1,2e+07))"
   ]
  },
  {
   "cell_type": "code",
   "execution_count": 14,
   "metadata": {},
   "outputs": [
    {
     "name": "stdout",
     "output_type": "stream",
     "text": [
      "Квартир всего: 23565\n",
      "Квартир стоимостью 0: 0\n",
      "Квартир стоимостью меньше 100 000: 1\n",
      "Квартир стоимостью больше 100 000, но меньше 1 000 000 000: 224\n",
      "Квартир стоимостью больше 1 000 000, но меньше 12 000 000: 21337\n",
      "Квартир стоимостью больше 12 000 000, но меньше 20 000 000: 1206\n",
      "Квартир стоимостью больше 20 000 000, но меньше 50 000 000: 566\n",
      "Квартир стоимостью больше 50 000 000: 131\n",
      "Квартир стоимостью больше 100 000 000: 37\n"
     ]
    }
   ],
   "source": [
    "print('Квартир всего:', data.query('last_price > 1')['last_price'].count())\n",
    "print('Квартир стоимостью 0:', data.query('last_price == 0')['last_price'].count())\n",
    "print('Квартир стоимостью меньше 100 000:', data.query('last_price < 1e+05')['last_price'].count())\n",
    "print('Квартир стоимостью больше 100 000, но меньше 1 000 000 000:', data.query('last_price > 1e+05 and last_price < 1e+06')['last_price'].count())\n",
    "print('Квартир стоимостью больше 1 000 000, но меньше 12 000 000:', data.query('last_price > 1e+06 and last_price < 12e+06')['last_price'].count())\n",
    "print('Квартир стоимостью больше 12 000 000, но меньше 20 000 000:', data.query('last_price > 12e+06 and last_price < 20e+06')['last_price'].count())\n",
    "print('Квартир стоимостью больше 20 000 000, но меньше 50 000 000:', data.query('last_price > 20e+06 and last_price < 50e+06')['last_price'].count())\n",
    "print('Квартир стоимостью больше 50 000 000:', data.query('last_price > 50e+06')['last_price'].count())\n",
    "print('Квартир стоимостью больше 100 000 000:', data.query('last_price > 1e+08')['last_price'].count())"
   ]
  },
  {
   "cell_type": "markdown",
   "metadata": {},
   "source": [
    "Уберем квартиры, цена которых:\n",
    "    - меньше 100 000\n",
    "    - больше 100 000 000"
   ]
  },
  {
   "cell_type": "code",
   "execution_count": 15,
   "metadata": {},
   "outputs": [
    {
     "name": "stdout",
     "output_type": "stream",
     "text": [
      "Квартир стоимостью меньше 100 000: 0\n",
      "Квартир стоимостью больше 100 000 000: 0\n"
     ]
    }
   ],
   "source": [
    "data.drop(index=data.query('last_price > 1e+08').index,inplace=True)\n",
    "data.drop(index=data.query('last_price < 1e+05').index,inplace=True)\n",
    "print('Квартир стоимостью меньше 100 000:', data.query('last_price < 1e+05')['last_price'].count())\n",
    "print('Квартир стоимостью больше 100 000 000:', data.query('last_price > 1e+08')['last_price'].count())"
   ]
  },
  {
   "cell_type": "code",
   "execution_count": 16,
   "metadata": {},
   "outputs": [
    {
     "data": {
      "text/plain": [
       "array([[<AxesSubplot:title={'center':'total_area'}>]], dtype=object)"
      ]
     },
     "execution_count": 16,
     "metadata": {},
     "output_type": "execute_result"
    },
    {
     "data": {
      "image/png": "[encoded data removed]",
      "text/plain": [
       "<Figure size 432x288 with 1 Axes>"
      ]
     },
     "metadata": {
      "needs_background": "light"
     },
     "output_type": "display_data"
    },
    {
     "data": {
      "image/png": "[encoded data removed]",
      "text/plain": [
       "<Figure size 432x288 with 1 Axes>"
      ]
     },
     "metadata": {
      "needs_background": "light"
     },
     "output_type": "display_data"
    }
   ],
   "source": [
    "data.hist('total_area', bins=50, range=(0, 100))\n",
    "data.hist('total_area', bins=50, range=(100, 500))"
   ]
  },
  {
   "cell_type": "code",
   "execution_count": 17,
   "metadata": {},
   "outputs": [
    {
     "name": "stdout",
     "output_type": "stream",
     "text": [
      "Квартир площадью менее 10 кв.м.: 0\n",
      "Квартир площадью более 500 кв.м.: 3\n",
      "Квартир площадью более 400 кв.м., но менее 500 кв.м.: 11\n"
     ]
    }
   ],
   "source": [
    "print('Квартир площадью менее 10 кв.м.:',data.query('total_area < 10')['total_area'].count()) \n",
    "print('Квартир площадью более 500 кв.м.:',data.query('total_area > 500')['total_area'].count())\n",
    "print('Квартир площадью более 400 кв.м., но менее 500 кв.м.:',data.query('total_area > 400 and total_area < 500')['total_area'].count())"
   ]
  },
  {
   "cell_type": "markdown",
   "metadata": {},
   "source": [
    "Квартир с площадью менее 10 кв.м. не существует, но есть те, которые меньше 20 кв.м. (Оставляем те, кот. больше 10, но меньше 20)\n",
    "Квартиры с площадью более 500 всего 3 - можно удалить эти значения (элитная супер дорогая недвижимость)"
   ]
  },
  {
   "cell_type": "code",
   "execution_count": 18,
   "metadata": {},
   "outputs": [],
   "source": [
    "data.drop(index=data.query('total_area > 500').index,inplace=True)"
   ]
  },
  {
   "cell_type": "markdown",
   "metadata": {},
   "source": [
    "Проверим квартиры на характер наличия комнат"
   ]
  },
  {
   "cell_type": "code",
   "execution_count": 19,
   "metadata": {},
   "outputs": [
    {
     "name": "stdout",
     "output_type": "stream",
     "text": [
      "Квартиры без комнат, не апартаменты и не свободная планировка: 0\n",
      "Квартиры без комнат и свободная планировка: 59\n",
      "Квартиры без комнат и апартаменты: 188\n",
      "Квартиры без комнат и студии: 135\n",
      "Квартиры без комнат: 194\n"
     ]
    }
   ],
   "source": [
    "print('Квартиры без комнат, не апартаменты и не свободная планировка:',data.query('rooms == 0 and ~open_plan and ~studio')['rooms'].count())\n",
    "print('Квартиры без комнат и свободная планировка:',data.query('rooms == 0 and open_plan')['rooms'].count())\n",
    "print('Квартиры без комнат и апартаменты:',data.query('rooms == 0 and is_apartment')['rooms'].count())\n",
    "print('Квартиры без комнат и студии:',data.query('rooms == 0 and studio')['rooms'].count())\n",
    "print('Квартиры без комнат:',data.query('rooms == 0')['rooms'].count())\n",
    "\n",
    "      \n"
   ]
  },
  {
   "cell_type": "code",
   "execution_count": 20,
   "metadata": {},
   "outputs": [
    {
     "data": {
      "text/plain": [
       "array([[<AxesSubplot:title={'center':'rooms'}>]], dtype=object)"
      ]
     },
     "execution_count": 20,
     "metadata": {},
     "output_type": "execute_result"
    },
    {
     "data": {
      "image/png": "[encoded data removed]",
      "text/plain": [
       "<Figure size 432x288 with 1 Axes>"
      ]
     },
     "metadata": {
      "needs_background": "light"
     },
     "output_type": "display_data"
    }
   ],
   "source": [
    "data.hist('rooms', bins=5, range=(0, 8))"
   ]
  },
  {
   "cell_type": "markdown",
   "metadata": {},
   "source": [
    "квартир, у которых больше 7 комнат, крайне мало (тоже элитная недвижимость) - можно удалить\n",
    "хотя есть экземпляр с 19 комнатами!"
   ]
  },
  {
   "cell_type": "code",
   "execution_count": 21,
   "metadata": {},
   "outputs": [],
   "source": [
    "data.drop(index=data.query('rooms > 7').index,inplace=True)"
   ]
  },
  {
   "cell_type": "code",
   "execution_count": 22,
   "metadata": {},
   "outputs": [
    {
     "data": {
      "text/plain": [
       "array([[<AxesSubplot:title={'center':'ceiling_height'}>]], dtype=object)"
      ]
     },
     "execution_count": 22,
     "metadata": {},
     "output_type": "execute_result"
    },
    {
     "data": {
      "image/png": "[encoded data removed]",
      "text/plain": [
       "<Figure size 432x288 with 1 Axes>"
      ]
     },
     "metadata": {
      "needs_background": "light"
     },
     "output_type": "display_data"
    }
   ],
   "source": [
    "data.hist('ceiling_height', bins=25, range=(2, 5))"
   ]
  },
  {
   "cell_type": "markdown",
   "metadata": {},
   "source": [
    "Минимальную границу по высоте потолков установим на уровне 2.5 метра"
   ]
  },
  {
   "cell_type": "code",
   "execution_count": 23,
   "metadata": {},
   "outputs": [
    {
     "name": "stdout",
     "output_type": "stream",
     "text": [
      "Квартир с потолками от 2.5 до 4м: 19840 шт.\n",
      "Квартир с потолками от 4 до 5м: 36 шт.\n",
      "Квартир с потолками от 5 до 25м: 14 шт.\n",
      "Квартир с потолками от 25м до 32м: 19 шт.\n",
      "Квартир с потолками от 32м до 50м: 0 шт.\n",
      "Квартир с потолками от 50м: 1 шт.\n",
      "Квартир с потолками от 4 до 100м: 70 шт.\n"
     ]
    }
   ],
   "source": [
    "print('Квартир с потолками от 2.5 до 4м: ' + str(data.query('ceiling_height > 2.5 and ceiling_height <= 4')['ceiling_height'].count()) + ' шт.')\n",
    "print('Квартир с потолками от 4 до 5м: ' + str(data.query('ceiling_height > 4 and ceiling_height <= 5')['ceiling_height'].count()) + ' шт.')\n",
    "print('Квартир с потолками от 5 до 25м: ' + str(data.query('ceiling_height > 5 and ceiling_height < 25')['ceiling_height'].count()) + ' шт.')\n",
    "print('Квартир с потолками от 25м до 32м: ' + str(data.query('ceiling_height >= 25 and ceiling_height <= 32')['ceiling_height'].count()) + ' шт.')\n",
    "print('Квартир с потолками от 32м до 50м: ' + str(data.query('ceiling_height > 32 and ceiling_height < 50')['ceiling_height'].count()) + ' шт.')\n",
    "print('Квартир с потолками от 50м: ' + str(data.query('ceiling_height >= 50')['ceiling_height'].count()) + ' шт.')\n",
    "print('Квартир с потолками от 4 до 100м: ' + str(data.query('ceiling_height > 4 and ceiling_height <= 100')['ceiling_height'].count()) + ' шт.')"
   ]
  },
  {
   "cell_type": "markdown",
   "metadata": {},
   "source": [
    "Предположим, что квартиры с высотой потолков от 25 до 36 метров на самом деле имеют высоту в 10 раз меньше (из-за опечатки: 25 метров станет 2.5 метрами и т.п.) \n",
    "Поделим на 10 и удалим те квартиры, высота потолков которых больше 4, но меньше 25 метров. И те квартиры, у кот. потолки менее 2.5 м. + те, у кот. высота больше 36 "
   ]
  },
  {
   "cell_type": "code",
   "execution_count": 24,
   "metadata": {},
   "outputs": [
    {
     "name": "stdout",
     "output_type": "stream",
     "text": [
      "Квартир с потолками от 2.5 до 4м: 19840 шт.\n"
     ]
    }
   ],
   "source": [
    "data.drop(index=data.query('ceiling_height > 4 and ceiling_height < 25').index,inplace=True)\n",
    "data.drop(index=data.query('ceiling_height > 36').index,inplace=True)\n",
    "data.drop(index=data.query('ceiling_height < 2.5').index,inplace=True)\n",
    "data[(data['ceiling_height'] >= 25) & (data['ceiling_height'] <= 32)]['ceiling_height']/10\n",
    "print('Квартир с потолками от 2.5 до 4м: ' + str(data.query('ceiling_height > 2.5 and ceiling_height <= 4')['ceiling_height'].count()) + ' шт.')"
   ]
  },
  {
   "cell_type": "code",
   "execution_count": 25,
   "metadata": {},
   "outputs": [
    {
     "data": {
      "text/plain": [
       "array([[<AxesSubplot:title={'center':'floors_total'}>]], dtype=object)"
      ]
     },
     "execution_count": 25,
     "metadata": {},
     "output_type": "execute_result"
    },
    {
     "data": {
      "image/png": "[encoded data removed]",
      "text/plain": [
       "<Figure size 648x360 with 1 Axes>"
      ]
     },
     "metadata": {
      "needs_background": "light"
     },
     "output_type": "display_data"
    }
   ],
   "source": [
    "data.hist('floors_total', bins=30, figsize=(9, 5))"
   ]
  },
  {
   "cell_type": "code",
   "execution_count": 26,
   "metadata": {},
   "outputs": [
    {
     "name": "stdout",
     "output_type": "stream",
     "text": [
      "Квартир в одноэтажных домах :  23\n",
      "Квартир в 30+ этажных домах :  31\n"
     ]
    }
   ],
   "source": [
    "print('Квартир в одноэтажных домах : ',data.query('floors_total == 1')['floors_total'].count())\n",
    "print('Квартир в 30+ этажных домах : ',data.query('floors_total > 30')['floors_total'].count())\n"
   ]
  },
  {
   "cell_type": "markdown",
   "metadata": {},
   "source": [
    "Квартир в 30+ этажных домах, по сравнению с общим кол-вом значений, крайне мало"
   ]
  },
  {
   "cell_type": "code",
   "execution_count": 27,
   "metadata": {},
   "outputs": [],
   "source": [
    "data.drop(index=data.query('floors_total > 30').index,inplace=True)"
   ]
  },
  {
   "cell_type": "code",
   "execution_count": 28,
   "metadata": {},
   "outputs": [
    {
     "data": {
      "text/plain": [
       "array([[<AxesSubplot:title={'center':'living_area'}>]], dtype=object)"
      ]
     },
     "execution_count": 28,
     "metadata": {},
     "output_type": "execute_result"
    },
    {
     "data": {
      "image/png": "[encoded data removed]",
      "text/plain": [
       "<Figure size 432x288 with 1 Axes>"
      ]
     },
     "metadata": {
      "needs_background": "light"
     },
     "output_type": "display_data"
    },
    {
     "data": {
      "image/png": "[encoded data removed]",
      "text/plain": [
       "<Figure size 432x288 with 1 Axes>"
      ]
     },
     "metadata": {
      "needs_background": "light"
     },
     "output_type": "display_data"
    },
    {
     "data": {
      "image/png": "[encoded data removed]",
      "text/plain": [
       "<Figure size 432x288 with 1 Axes>"
      ]
     },
     "metadata": {
      "needs_background": "light"
     },
     "output_type": "display_data"
    }
   ],
   "source": [
    "data.hist('living_area', bins=30);\n",
    "data.hist('living_area', bins=60, range=(0,60))\n",
    "data.hist('living_area', bins=60, range=(0,15))"
   ]
  },
  {
   "cell_type": "markdown",
   "metadata": {},
   "source": [
    "Заметно, что количество квартир с жилой площадью меньше 10 кв.м очень невелико (от 8 до 10 кв.м. заметен существенный подъем)\n",
    "Также, квартир с жилой площадью более 200 кв.м. очень мало (после 175 кв.м. значений очень мало)"
   ]
  },
  {
   "cell_type": "code",
   "execution_count": 29,
   "metadata": {},
   "outputs": [
    {
     "name": "stdout",
     "output_type": "stream",
     "text": [
      "Жилая площадь меньше 10 кв.м.:  25\n",
      "Жилая площадь больше общей:  0\n",
      "Жилая площадь больше 200:  12\n"
     ]
    }
   ],
   "source": [
    "print('Жилая площадь меньше 10 кв.м.: ',data.query('living_area < 10')['living_area'].count())\n",
    "print('Жилая площадь больше общей: ',data.query('living_area > total_area')['living_area'].count())\n",
    "print('Жилая площадь больше 200: ',data.query('living_area > 200')['living_area'].count())"
   ]
  },
  {
   "cell_type": "markdown",
   "metadata": {},
   "source": [
    "Удалим те, которые меньше 10 + те, у кого большого 200"
   ]
  },
  {
   "cell_type": "code",
   "execution_count": 30,
   "metadata": {},
   "outputs": [],
   "source": [
    "data.drop(index=data.query('living_area < 10').index,inplace=True)\n",
    "data.drop(index=data.query('living_area > 200').index,inplace=True)"
   ]
  },
  {
   "cell_type": "code",
   "execution_count": 31,
   "metadata": {},
   "outputs": [
    {
     "data": {
      "text/plain": [
       "array([[<AxesSubplot:title={'center':'floor'}>]], dtype=object)"
      ]
     },
     "execution_count": 31,
     "metadata": {},
     "output_type": "execute_result"
    },
    {
     "data": {
      "image/png": "[encoded data removed]",
      "text/plain": [
       "<Figure size 432x288 with 1 Axes>"
      ]
     },
     "metadata": {
      "needs_background": "light"
     },
     "output_type": "display_data"
    }
   ],
   "source": [
    "data.hist('floor',bins=20)"
   ]
  },
  {
   "cell_type": "code",
   "execution_count": 32,
   "metadata": {},
   "outputs": [
    {
     "name": "stdout",
     "output_type": "stream",
     "text": [
      "Этаж 0: 0\n",
      "Этаж больше 30: 0\n",
      "Этаж больше, чем общее кол-во этажей:  0\n"
     ]
    }
   ],
   "source": [
    "print('Этаж 0:',data.query('floor == 0')['floor'].count())\n",
    "print('Этаж больше 30:',data.query('floor > 30')['floor'].count())\n",
    "print('Этаж больше, чем общее кол-во этажей: ',data.query('floor > floors_total')['floor'].count())"
   ]
  },
  {
   "cell_type": "markdown",
   "metadata": {},
   "source": [
    "Нулевых этажей нет, нет и тех, значения которого больше 0"
   ]
  },
  {
   "cell_type": "code",
   "execution_count": 33,
   "metadata": {},
   "outputs": [
    {
     "data": {
      "text/plain": [
       "array([[<AxesSubplot:title={'center':'kitchen_area'}>]], dtype=object)"
      ]
     },
     "execution_count": 33,
     "metadata": {},
     "output_type": "execute_result"
    },
    {
     "data": {
      "image/png": "[encoded data removed]",
      "text/plain": [
       "<Figure size 432x288 with 1 Axes>"
      ]
     },
     "metadata": {
      "needs_background": "light"
     },
     "output_type": "display_data"
    },
    {
     "data": {
      "image/png": "[encoded data removed]",
      "text/plain": [
       "<Figure size 432x288 with 1 Axes>"
      ]
     },
     "metadata": {
      "needs_background": "light"
     },
     "output_type": "display_data"
    }
   ],
   "source": [
    "data.hist('kitchen_area', bins=50);\n",
    "data.hist('kitchen_area', bins=30, range=(20,60))"
   ]
  },
  {
   "cell_type": "code",
   "execution_count": 34,
   "metadata": {},
   "outputs": [
    {
     "name": "stdout",
     "output_type": "stream",
     "text": [
      "Площадь кухни меньше 2 кв.м.:  1\n",
      "Площадь кухни больше 2 кв.м., но меньше 5 кв.м.:  93\n",
      "Площадь кухни 5 кв.м.:  350\n",
      "Площадь кухни больше 50 кв.м.:  33\n",
      "Площадь кухни больше общей:  0\n"
     ]
    }
   ],
   "source": [
    "print('Площадь кухни меньше 2 кв.м.: ',data.query('kitchen_area < 2')['living_area'].count())\n",
    "print('Площадь кухни больше 2 кв.м., но меньше 5 кв.м.: ',data.query('kitchen_area > 2 and kitchen_area < 5')['living_area'].count())\n",
    "print('Площадь кухни 5 кв.м.: ',data.query('kitchen_area == 5')['living_area'].count())\n",
    "print('Площадь кухни больше 50 кв.м.: ',data.query('kitchen_area > 50')['living_area'].count())\n",
    "print('Площадь кухни больше общей: ',data.query('kitchen_area > total_area')['living_area'].count())"
   ]
  },
  {
   "cell_type": "markdown",
   "metadata": {},
   "source": [
    "Избавимся от счастливчиков с кухней в 1 кв.м. и тех, у кого она больше 50 кв.м."
   ]
  },
  {
   "cell_type": "code",
   "execution_count": 35,
   "metadata": {},
   "outputs": [],
   "source": [
    "data.drop(index=data.query('kitchen_area < 2').index,inplace=True)\n",
    "data.drop(index=data.query('kitchen_area > 50').index,inplace=True)"
   ]
  },
  {
   "cell_type": "markdown",
   "metadata": {},
   "source": [
    "По балконам претензий нет, так как даже 5 штук на одну квартиру (учитывая то, что это СПб) - даже и не странно"
   ]
  },
  {
   "cell_type": "code",
   "execution_count": 36,
   "metadata": {},
   "outputs": [
    {
     "data": {
      "text/plain": [
       "array([[<AxesSubplot:title={'center':'days_exposition'}>]], dtype=object)"
      ]
     },
     "execution_count": 36,
     "metadata": {},
     "output_type": "execute_result"
    },
    {
     "data": {
      "image/png": "[encoded data removed]",
      "text/plain": [
       "<Figure size 432x288 with 1 Axes>"
      ]
     },
     "metadata": {
      "needs_background": "light"
     },
     "output_type": "display_data"
    }
   ],
   "source": [
    "data.hist('days_exposition', bins=100)"
   ]
  },
  {
   "cell_type": "code",
   "execution_count": 37,
   "metadata": {},
   "outputs": [
    {
     "name": "stdout",
     "output_type": "stream",
     "text": [
      "Объявление не было опубликовано:  0\n",
      "Объявлению больше 3 лет :  163\n",
      "Объявлению больше 2 лет :  19416\n"
     ]
    }
   ],
   "source": [
    "print('Объявление не было опубликовано: ',data.query('days_exposition == 0')['days_exposition'].count())\n",
    "print('Объявлению больше 3 лет : ',data.query('days_exposition > 365*3')['days_exposition'].count())\n",
    "print('Объявлению больше 2 лет : ',data.query('days_exposition > 0 and days_exposition < 365*2')['days_exposition'].count())"
   ]
  },
  {
   "cell_type": "markdown",
   "metadata": {},
   "source": [
    "Стоит удалить те  объявления, которые находятся на площадке по продаже более 3 лет"
   ]
  },
  {
   "cell_type": "code",
   "execution_count": 38,
   "metadata": {},
   "outputs": [],
   "source": [
    "data.drop(index=data.query('days_exposition > 365*3').index,inplace=True)"
   ]
  },
  {
   "cell_type": "code",
   "execution_count": 39,
   "metadata": {},
   "outputs": [
    {
     "data": {
      "text/plain": [
       "array([[<AxesSubplot:title={'center':'airports_nearest'}>]], dtype=object)"
      ]
     },
     "execution_count": 39,
     "metadata": {},
     "output_type": "execute_result"
    },
    {
     "data": {
      "image/png": "[encoded data removed]",
      "text/plain": [
       "<Figure size 432x288 with 1 Axes>"
      ]
     },
     "metadata": {
      "needs_background": "light"
     },
     "output_type": "display_data"
    },
    {
     "data": {
      "image/png": "[encoded data removed]",
      "text/plain": [
       "<Figure size 432x288 with 1 Axes>"
      ]
     },
     "metadata": {
      "needs_background": "light"
     },
     "output_type": "display_data"
    }
   ],
   "source": [
    "data.hist('airports_nearest', bins=100, range=(0,20000))\n",
    "data.hist('airports_nearest', bins=100, range=(0,7500))"
   ]
  },
  {
   "cell_type": "code",
   "execution_count": 40,
   "metadata": {},
   "outputs": [
    {
     "name": "stdout",
     "output_type": "stream",
     "text": [
      "Подозрительно близко к аэропорту: 1\n"
     ]
    }
   ],
   "source": [
    "print('Подозрительно близко к аэропорту:',data.query('airports_nearest < 5000')['airports_nearest'].count())"
   ]
  },
  {
   "cell_type": "markdown",
   "metadata": {},
   "source": [
    "Счастливчика, живущего в квартире прямо на территиории аэропорта Пулково, придется убрать"
   ]
  },
  {
   "cell_type": "code",
   "execution_count": 41,
   "metadata": {},
   "outputs": [],
   "source": [
    "data.drop(index=data.query('airports_nearest < 5000').index,inplace=True)"
   ]
  },
  {
   "cell_type": "code",
   "execution_count": 42,
   "metadata": {},
   "outputs": [],
   "source": [
    "data.reset_index(drop=True,inplace=True)"
   ]
  },
  {
   "cell_type": "markdown",
   "metadata": {},
   "source": [
    "<div class=\"alert alert-success\">\n",
    "<b>✔️ Комментарий ревьюера v1:</b>\n",
    "<br>Диапазоны для аномальных значений подобраны и удалены верно!\n",
    "</div>"
   ]
  },
  {
   "cell_type": "markdown",
   "metadata": {},
   "source": [
    "### Посчитайте и добавьте в таблицу новые столбцы"
   ]
  },
  {
   "cell_type": "code",
   "execution_count": 43,
   "metadata": {},
   "outputs": [
    {
     "data": {
      "text/html": [
       "<div>\n",
       "<style scoped>\n",
       "    .dataframe tbody tr th:only-of-type {\n",
       "        vertical-align: middle;\n",
       "    }\n",
       "\n",
       "    .dataframe tbody tr th {\n",
       "        vertical-align: top;\n",
       "    }\n",
       "\n",
       "    .dataframe thead th {\n",
       "        text-align: right;\n",
       "    }\n",
       "</style>\n",
       "<table border=\"1\" class=\"dataframe\">\n",
       "  <thead>\n",
       "    <tr style=\"text-align: right;\">\n",
       "      <th></th>\n",
       "      <th>total_images</th>\n",
       "      <th>last_price</th>\n",
       "      <th>total_area</th>\n",
       "      <th>first_day_exposition</th>\n",
       "      <th>rooms</th>\n",
       "      <th>ceiling_height</th>\n",
       "      <th>floors_total</th>\n",
       "      <th>living_area</th>\n",
       "      <th>floor</th>\n",
       "      <th>is_apartment</th>\n",
       "      <th>studio</th>\n",
       "      <th>open_plan</th>\n",
       "      <th>kitchen_area</th>\n",
       "      <th>balcony</th>\n",
       "      <th>locality_name</th>\n",
       "      <th>airports_nearest</th>\n",
       "      <th>city_centers_nearest</th>\n",
       "      <th>parks_around3000</th>\n",
       "      <th>parks_nearest</th>\n",
       "      <th>ponds_around3000</th>\n",
       "      <th>ponds_nearest</th>\n",
       "      <th>days_exposition</th>\n",
       "      <th>sqm_price</th>\n",
       "      <th>day</th>\n",
       "      <th>month</th>\n",
       "      <th>year</th>\n",
       "      <th>type_floor</th>\n",
       "      <th>city_center_km</th>\n",
       "    </tr>\n",
       "  </thead>\n",
       "  <tbody>\n",
       "    <tr>\n",
       "      <th>0</th>\n",
       "      <td>20</td>\n",
       "      <td>13000000</td>\n",
       "      <td>108.0</td>\n",
       "      <td>2019-03-07</td>\n",
       "      <td>3</td>\n",
       "      <td>2.70</td>\n",
       "      <td>16</td>\n",
       "      <td>51.0</td>\n",
       "      <td>8</td>\n",
       "      <td>False</td>\n",
       "      <td>False</td>\n",
       "      <td>False</td>\n",
       "      <td>25.0</td>\n",
       "      <td>0</td>\n",
       "      <td>санкт-петербург</td>\n",
       "      <td>18863.0</td>\n",
       "      <td>16028.0</td>\n",
       "      <td>1</td>\n",
       "      <td>482</td>\n",
       "      <td>2</td>\n",
       "      <td>755</td>\n",
       "      <td>NaN</td>\n",
       "      <td>120370</td>\n",
       "      <td>3</td>\n",
       "      <td>3</td>\n",
       "      <td>2019</td>\n",
       "      <td>другой</td>\n",
       "      <td>16</td>\n",
       "    </tr>\n",
       "    <tr>\n",
       "      <th>1</th>\n",
       "      <td>7</td>\n",
       "      <td>3350000</td>\n",
       "      <td>40.4</td>\n",
       "      <td>2018-12-04</td>\n",
       "      <td>1</td>\n",
       "      <td>2.65</td>\n",
       "      <td>11</td>\n",
       "      <td>18.6</td>\n",
       "      <td>1</td>\n",
       "      <td>False</td>\n",
       "      <td>False</td>\n",
       "      <td>False</td>\n",
       "      <td>11.0</td>\n",
       "      <td>2</td>\n",
       "      <td>поселок шушары</td>\n",
       "      <td>12817.0</td>\n",
       "      <td>18603.0</td>\n",
       "      <td>0</td>\n",
       "      <td>0</td>\n",
       "      <td>0</td>\n",
       "      <td>0</td>\n",
       "      <td>81.0</td>\n",
       "      <td>82920</td>\n",
       "      <td>1</td>\n",
       "      <td>12</td>\n",
       "      <td>2018</td>\n",
       "      <td>первый</td>\n",
       "      <td>19</td>\n",
       "    </tr>\n",
       "    <tr>\n",
       "      <th>2</th>\n",
       "      <td>10</td>\n",
       "      <td>5196000</td>\n",
       "      <td>56.0</td>\n",
       "      <td>2015-08-20</td>\n",
       "      <td>2</td>\n",
       "      <td>2.65</td>\n",
       "      <td>5</td>\n",
       "      <td>34.3</td>\n",
       "      <td>4</td>\n",
       "      <td>False</td>\n",
       "      <td>False</td>\n",
       "      <td>False</td>\n",
       "      <td>8.3</td>\n",
       "      <td>0</td>\n",
       "      <td>санкт-петербург</td>\n",
       "      <td>21741.0</td>\n",
       "      <td>13933.0</td>\n",
       "      <td>1</td>\n",
       "      <td>90</td>\n",
       "      <td>2</td>\n",
       "      <td>574</td>\n",
       "      <td>558.0</td>\n",
       "      <td>92785</td>\n",
       "      <td>3</td>\n",
       "      <td>8</td>\n",
       "      <td>2015</td>\n",
       "      <td>другой</td>\n",
       "      <td>14</td>\n",
       "    </tr>\n",
       "    <tr>\n",
       "      <th>3</th>\n",
       "      <td>0</td>\n",
       "      <td>64900000</td>\n",
       "      <td>159.0</td>\n",
       "      <td>2015-07-24</td>\n",
       "      <td>3</td>\n",
       "      <td>2.65</td>\n",
       "      <td>14</td>\n",
       "      <td>NaN</td>\n",
       "      <td>9</td>\n",
       "      <td>False</td>\n",
       "      <td>False</td>\n",
       "      <td>False</td>\n",
       "      <td>NaN</td>\n",
       "      <td>0</td>\n",
       "      <td>санкт-петербург</td>\n",
       "      <td>28098.0</td>\n",
       "      <td>6800.0</td>\n",
       "      <td>2</td>\n",
       "      <td>84</td>\n",
       "      <td>3</td>\n",
       "      <td>234</td>\n",
       "      <td>424.0</td>\n",
       "      <td>408176</td>\n",
       "      <td>4</td>\n",
       "      <td>7</td>\n",
       "      <td>2015</td>\n",
       "      <td>другой</td>\n",
       "      <td>7</td>\n",
       "    </tr>\n",
       "    <tr>\n",
       "      <th>4</th>\n",
       "      <td>2</td>\n",
       "      <td>10000000</td>\n",
       "      <td>100.0</td>\n",
       "      <td>2018-06-19</td>\n",
       "      <td>2</td>\n",
       "      <td>3.03</td>\n",
       "      <td>14</td>\n",
       "      <td>32.0</td>\n",
       "      <td>13</td>\n",
       "      <td>False</td>\n",
       "      <td>False</td>\n",
       "      <td>False</td>\n",
       "      <td>41.0</td>\n",
       "      <td>0</td>\n",
       "      <td>санкт-петербург</td>\n",
       "      <td>31856.0</td>\n",
       "      <td>8098.0</td>\n",
       "      <td>2</td>\n",
       "      <td>112</td>\n",
       "      <td>1</td>\n",
       "      <td>48</td>\n",
       "      <td>121.0</td>\n",
       "      <td>100000</td>\n",
       "      <td>1</td>\n",
       "      <td>6</td>\n",
       "      <td>2018</td>\n",
       "      <td>другой</td>\n",
       "      <td>8</td>\n",
       "    </tr>\n",
       "  </tbody>\n",
       "</table>\n",
       "</div>"
      ],
      "text/plain": [
       "   total_images  last_price  total_area first_day_exposition  rooms  \\\n",
       "0            20    13000000       108.0           2019-03-07      3   \n",
       "1             7     3350000        40.4           2018-12-04      1   \n",
       "2            10     5196000        56.0           2015-08-20      2   \n",
       "3             0    64900000       159.0           2015-07-24      3   \n",
       "4             2    10000000       100.0           2018-06-19      2   \n",
       "\n",
       "   ceiling_height  floors_total  living_area  floor is_apartment  studio  \\\n",
       "0            2.70            16         51.0      8        False   False   \n",
       "1            2.65            11         18.6      1        False   False   \n",
       "2            2.65             5         34.3      4        False   False   \n",
       "3            2.65            14          NaN      9        False   False   \n",
       "4            3.03            14         32.0     13        False   False   \n",
       "\n",
       "   open_plan  kitchen_area  balcony    locality_name  airports_nearest  \\\n",
       "0      False          25.0        0  санкт-петербург           18863.0   \n",
       "1      False          11.0        2   поселок шушары           12817.0   \n",
       "2      False           8.3        0  санкт-петербург           21741.0   \n",
       "3      False           NaN        0  санкт-петербург           28098.0   \n",
       "4      False          41.0        0  санкт-петербург           31856.0   \n",
       "\n",
       "   city_centers_nearest  parks_around3000  parks_nearest  ponds_around3000  \\\n",
       "0               16028.0                 1            482                 2   \n",
       "1               18603.0                 0              0                 0   \n",
       "2               13933.0                 1             90                 2   \n",
       "3                6800.0                 2             84                 3   \n",
       "4                8098.0                 2            112                 1   \n",
       "\n",
       "   ponds_nearest  days_exposition  sqm_price  day  month  year type_floor  \\\n",
       "0            755              NaN     120370    3      3  2019     другой   \n",
       "1              0             81.0      82920    1     12  2018     первый   \n",
       "2            574            558.0      92785    3      8  2015     другой   \n",
       "3            234            424.0     408176    4      7  2015     другой   \n",
       "4             48            121.0     100000    1      6  2018     другой   \n",
       "\n",
       "   city_center_km  \n",
       "0              16  \n",
       "1              19  \n",
       "2              14  \n",
       "3               7  \n",
       "4               8  "
      ]
     },
     "execution_count": 43,
     "metadata": {},
     "output_type": "execute_result"
    }
   ],
   "source": [
    "data['sqm_price'] = data['last_price'] / data['total_area']\n",
    "data['sqm_price'] = data['sqm_price'].astype(int)\n",
    "\n",
    "data['day'] = data['first_day_exposition'].dt.weekday\n",
    "data['month'] = data['first_day_exposition'].dt.month\n",
    "data['year'] = data['first_day_exposition'].dt.year\n",
    "\n",
    "def floor(row):\n",
    "    if row['floor'] == 1:\n",
    "        return 'первый'\n",
    "    elif row['floor'] == row['floors_total']:\n",
    "        return 'последний'\n",
    "    else:\n",
    "        return 'другой'\n",
    "\n",
    "data['type_floor'] = data.apply(floor, axis=1) \n",
    "\n",
    "data['city_center_km'] = round(data['city_centers_nearest'] / 1000)\n",
    "data['city_center_km'] = data['city_center_km'].fillna(0).astype(int) #пришлось заполнить проупски в этом столбце нулем, чтобы округлить до целого\n",
    "\n",
    "data.head(5)\n",
    "\n"
   ]
  },
  {
   "cell_type": "markdown",
   "metadata": {},
   "source": [
    "<div class=\"alert alert-success\">\n",
    "<b>✔️ Комментарий ревьюера v1:</b> \n",
    "<br>Все необходимые колонки добавлены. Идём дальше)\n",
    "</div>"
   ]
  },
  {
   "cell_type": "markdown",
   "metadata": {},
   "source": [
    "### Проведите исследовательский анализ данных"
   ]
  },
  {
   "cell_type": "markdown",
   "metadata": {},
   "source": [
    "Взглянем на гистограммы основных показателей:"
   ]
  },
  {
   "cell_type": "code",
   "execution_count": 44,
   "metadata": {},
   "outputs": [
    {
     "data": {
      "image/png": "[encoded data removed]",
      "text/plain": [
       "<Figure size 432x288 with 1 Axes>"
      ]
     },
     "metadata": {
      "needs_background": "light"
     },
     "output_type": "display_data"
    }
   ],
   "source": [
    "plt.hist(data['total_area'], bins=30, edgecolor = 'black', range=(10, 200))\n",
    "plt.title('Площадь квартиры')\n",
    "plt.xlabel('Квадратные метры')\n",
    "plt.ylabel('Количество квартир')\n",
    "plt.show()"
   ]
  },
  {
   "cell_type": "code",
   "execution_count": 45,
   "metadata": {},
   "outputs": [
    {
     "name": "stdout",
     "output_type": "stream",
     "text": [
      "Топ-10 квартир по общей площади:\n",
      "9587     494.10\n",
      "3581     441.98\n",
      "21579    422.20\n",
      "14621    413.50\n",
      "5726     400.00\n",
      "4915     380.00\n",
      "18915    371.00\n",
      "564      365.00\n",
      "19475    365.00\n",
      "10422    364.70\n",
      "Name: total_area, dtype: float64\n"
     ]
    }
   ],
   "source": [
    "print('Топ-10 квартир по общей площади:')\n",
    "print(data['total_area'].sort_values(ascending=False).head(10))"
   ]
  },
  {
   "cell_type": "markdown",
   "metadata": {},
   "source": [
    "**Площадь:**\n",
    "\n",
    "- площадь большинства квартир менее 100 кв.м., хотя, безусловно, есть и те, у которых площадь превышает значение в 100 кв.м., но таких очень мало"
   ]
  },
  {
   "cell_type": "code",
   "execution_count": 46,
   "metadata": {},
   "outputs": [
    {
     "data": {
      "image/png": "[encoded data removed]",
      "text/plain": [
       "<Figure size 432x288 with 1 Axes>"
      ]
     },
     "metadata": {
      "needs_background": "light"
     },
     "output_type": "display_data"
    }
   ],
   "source": [
    "plt.hist(data['last_price'], edgecolor = 'black', bins=30, range=(0, 2e+07))\n",
    "plt.title('Цена квартир')\n",
    "plt.xlabel('Цена')\n",
    "plt.ylabel('Количество квартир')\n",
    "plt.show()"
   ]
  },
  {
   "cell_type": "code",
   "execution_count": 47,
   "metadata": {},
   "outputs": [
    {
     "name": "stdout",
     "output_type": "stream",
     "text": [
      "Топ-10 квартир по цене:\n",
      "5495     99000000\n",
      "16188    98000000\n",
      "153      96000000\n",
      "11051    95000000\n",
      "495      90000000\n",
      "5399     87000000\n",
      "11749    86738800\n",
      "11148    85000000\n",
      "6025     84382000\n",
      "10108    83820000\n",
      "Name: last_price, dtype: int64\n"
     ]
    }
   ],
   "source": [
    "print('Топ-10 квартир по цене:')\n",
    "print(data['last_price'].sort_values(ascending=False).head(10))"
   ]
  },
  {
   "cell_type": "markdown",
   "metadata": {},
   "source": [
    "**Цена**\n",
    "- цена большинства квартир около 5 млн (диапазон от 3 до 5 млн), хотя значения доходят и до 20 млн (недвижимость премиум-класса)"
   ]
  },
  {
   "cell_type": "code",
   "execution_count": 48,
   "metadata": {},
   "outputs": [
    {
     "data": {
      "image/png": "[encoded data removed]",
      "text/plain": [
       "<Figure size 432x288 with 1 Axes>"
      ]
     },
     "metadata": {
      "needs_background": "light"
     },
     "output_type": "display_data"
    }
   ],
   "source": [
    "plt.hist(data['rooms'], edgecolor = 'black', bins=7, range=(1, 8))\n",
    "plt.title('Комнаты')\n",
    "plt.xlabel('Количество комнат')\n",
    "plt.ylabel('Количество квартир')\n",
    "plt.show()"
   ]
  },
  {
   "cell_type": "code",
   "execution_count": 49,
   "metadata": {},
   "outputs": [
    {
     "name": "stdout",
     "output_type": "stream",
     "text": [
      "Топ-10 квартир по кол-ву комнат:\n",
      "725      7\n",
      "5726     7\n",
      "564      7\n",
      "21154    7\n",
      "658      7\n",
      "6296     7\n",
      "5317     7\n",
      "13438    7\n",
      "21683    7\n",
      "7531     7\n",
      "Name: rooms, dtype: int64\n"
     ]
    }
   ],
   "source": [
    "print('Топ-10 квартир по кол-ву комнат:')\n",
    "print(data['rooms'].sort_values(ascending=False).head(10))"
   ]
  },
  {
   "cell_type": "markdown",
   "metadata": {},
   "source": [
    "**Кол-во комнат**\n",
    "- в основном их 1, 2 и 3. Есть также те квартиры, в которых 4 комнаты (их значительно меньше); все те, в которых больше 4 комнат, скорее всего тоже относятся к премиум сегменту (на графике после значения 3 и 4 наблюдаются заметные просадки) "
   ]
  },
  {
   "cell_type": "code",
   "execution_count": 50,
   "metadata": {},
   "outputs": [
    {
     "data": {
      "image/png": "[encoded data removed]",
      "text/plain": [
       "<Figure size 432x288 with 1 Axes>"
      ]
     },
     "metadata": {
      "needs_background": "light"
     },
     "output_type": "display_data"
    }
   ],
   "source": [
    "plt.hist(data['ceiling_height'], edgecolor = 'black', bins=30, range=(2.5, 5))\n",
    "plt.title('Высота потолков')\n",
    "plt.xlabel('Высота')\n",
    "plt.ylabel('Количество квартир')\n",
    "plt.show()"
   ]
  },
  {
   "cell_type": "code",
   "execution_count": 51,
   "metadata": {},
   "outputs": [
    {
     "name": "stdout",
     "output_type": "stream",
     "text": [
      "Топ-10 квартир по высоте потолка:\n",
      "21779    32.0\n",
      "3061     32.0\n",
      "20849    27.5\n",
      "5115     27.0\n",
      "4753     27.0\n",
      "22363    27.0\n",
      "17418    27.0\n",
      "19978    27.0\n",
      "10509    27.0\n",
      "21284    27.0\n",
      "Name: ceiling_height, dtype: float64\n"
     ]
    }
   ],
   "source": [
    "print('Топ-10 квартир по высоте потолка:')\n",
    "print(data['ceiling_height'].sort_values(ascending=False).head(10))"
   ]
  },
  {
   "cell_type": "markdown",
   "metadata": {},
   "source": [
    "**Высота потолков**\n",
    "- высота большинства квартир укладывается в диапазон от 2.5  до 3 метров. Даже есть те, у которых высота составляет 4 метра. Всех остальных (больше 4) - единицы."
   ]
  },
  {
   "cell_type": "code",
   "execution_count": 52,
   "metadata": {},
   "outputs": [
    {
     "data": {
      "image/png": "[encoded data removed]",
      "text/plain": [
       "<Figure size 432x288 with 1 Axes>"
      ]
     },
     "metadata": {
      "needs_background": "light"
     },
     "output_type": "display_data"
    }
   ],
   "source": [
    "plt.hist(data['kitchen_area'], edgecolor = 'black', bins=30, range=(0, 50))\n",
    "plt.title('Площадь кухни')\n",
    "plt.xlabel('Квадратные метры')\n",
    "plt.ylabel('Количество квартир')\n",
    "plt.show()"
   ]
  },
  {
   "cell_type": "code",
   "execution_count": 53,
   "metadata": {},
   "outputs": [
    {
     "name": "stdout",
     "output_type": "stream",
     "text": [
      "Топ-10 квартир по площади кухни:\n",
      "18795    50.0\n",
      "51       50.0\n",
      "637      50.0\n",
      "9760     50.0\n",
      "5006     50.0\n",
      "497      50.0\n",
      "4915     50.0\n",
      "2288     50.0\n",
      "20805    49.4\n",
      "257      49.2\n",
      "Name: kitchen_area, dtype: float64\n"
     ]
    }
   ],
   "source": [
    "print('Топ-10 квартир по площади кухни:')\n",
    "print(data['kitchen_area'].sort_values(ascending=False).head(10))"
   ]
  },
  {
   "cell_type": "markdown",
   "metadata": {},
   "source": [
    "**Площадь кухни**\n",
    "- площадь кухни у большинства представленных квартир укладывается в диапазон от 5 до 20 метров. Однако, в нашем списке целых 8 квартир, в которых кухня занимает площадь в 50 кв.м. (больше, чем целая квартира)\n"
   ]
  },
  {
   "cell_type": "code",
   "execution_count": 54,
   "metadata": {},
   "outputs": [
    {
     "data": {
      "image/png": "[encoded data removed]",
      "text/plain": [
       "<Figure size 432x288 with 1 Axes>"
      ]
     },
     "metadata": {
      "needs_background": "light"
     },
     "output_type": "display_data"
    }
   ],
   "source": [
    "plt.hist(data['living_area'], edgecolor = 'black', bins=70, range=(10, 100))\n",
    "plt.title('Жилая площадь')\n",
    "plt.xlabel('Квадратные метры')\n",
    "plt.ylabel('Количество квартир')\n",
    "plt.show()"
   ]
  },
  {
   "cell_type": "code",
   "execution_count": 55,
   "metadata": {},
   "outputs": [
    {
     "name": "stdout",
     "output_type": "stream",
     "text": [
      "Топ-10 квартир по жилой площади:\n",
      "22333    200.0\n",
      "9995     200.0\n",
      "4915     198.0\n",
      "7735     194.0\n",
      "4092     193.5\n",
      "7496     193.0\n",
      "10816    190.0\n",
      "20309    187.0\n",
      "8527     184.9\n",
      "2958     184.0\n",
      "Name: living_area, dtype: float64\n"
     ]
    }
   ],
   "source": [
    "print('Топ-10 квартир по жилой площади:')\n",
    "print(data['living_area'].sort_values(ascending=False).head(10))"
   ]
  },
  {
   "cell_type": "markdown",
   "metadata": {},
   "source": [
    "**Жилая площадь**\n",
    "- преимущество здесь это квартиры с площадью от 10 до 50 кв.метров, после же 80 кв. метров встречаются единицы. Также на графике 3 характерных пика (может быть это связано с количеством комнат) "
   ]
  },
  {
   "cell_type": "code",
   "execution_count": 56,
   "metadata": {},
   "outputs": [
    {
     "data": {
      "image/png": "[encoded data removed]",
      "text/plain": [
       "<Figure size 432x288 with 1 Axes>"
      ]
     },
     "metadata": {
      "needs_background": "light"
     },
     "output_type": "display_data"
    }
   ],
   "source": [
    "plt.hist(data['sqm_price'], edgecolor = 'black', bins=50, range=(0, 250e+03))\n",
    "plt.title('Цена за квадратный метр')\n",
    "plt.xlabel('Цена')\n",
    "plt.ylabel('Количество квартир')\n",
    "plt.show()"
   ]
  },
  {
   "cell_type": "code",
   "execution_count": 57,
   "metadata": {},
   "outputs": [
    {
     "name": "stdout",
     "output_type": "stream",
     "text": [
      "Топ-10 квартир по цене за квадратный метр:\n",
      "4736     848484\n",
      "16753    848484\n",
      "8114     721518\n",
      "6298     719298\n",
      "20714    640422\n",
      "16188    632258\n",
      "12596    590694\n",
      "9769     588888\n",
      "11148    583390\n",
      "15344    570000\n",
      "Name: sqm_price, dtype: int64\n"
     ]
    }
   ],
   "source": [
    "print('Топ-10 квартир по цене за квадратный метр:')\n",
    "print(data['sqm_price'].sort_values(ascending=False).head(10))"
   ]
  },
  {
   "cell_type": "markdown",
   "metadata": {},
   "source": [
    "**Цена за кв. метр**\n",
    "- график очень сильно схож с графиком нормального распределения, имеющего колоколообразную форму. У большинства квартир цена за кв. метр составляет 100 000. Очень мало варинтов с ценой более 200 000."
   ]
  },
  {
   "cell_type": "code",
   "execution_count": 58,
   "metadata": {},
   "outputs": [
    {
     "data": {
      "image/png": "[encoded data removed]",
      "text/plain": [
       "<Figure size 432x288 with 1 Axes>"
      ]
     },
     "metadata": {
      "needs_background": "light"
     },
     "output_type": "display_data"
    }
   ],
   "source": [
    "plt.hist(data['floor'], edgecolor = 'black', bins=30, range=(0, 30))\n",
    "plt.title('Этаж квартиры')\n",
    "plt.xlabel('Этаж')\n",
    "plt.ylabel('Количество квартир')\n",
    "plt.show()"
   ]
  },
  {
   "cell_type": "code",
   "execution_count": 59,
   "metadata": {},
   "outputs": [
    {
     "name": "stdout",
     "output_type": "stream",
     "text": [
      "Топ-10 квартир по этажу:\n",
      "22706    27\n",
      "12946    27\n",
      "3990     27\n",
      "6000     27\n",
      "2555     27\n",
      "7513     27\n",
      "16240    27\n",
      "113      27\n",
      "14682    26\n",
      "9286     26\n",
      "Name: floor, dtype: int64\n"
     ]
    }
   ],
   "source": [
    "print('Топ-10 квартир по этажу:')\n",
    "print(data['floor'].sort_values(ascending=False).head(10))"
   ]
  },
  {
   "cell_type": "markdown",
   "metadata": {},
   "source": [
    "**Этаж**\n",
    "- большинство квартир располагается с первого по пятый этажи (неудивительно, так как застройка многих районов СПб и ЛО - низкоэтажная)"
   ]
  },
  {
   "cell_type": "code",
   "execution_count": 60,
   "metadata": {},
   "outputs": [
    {
     "data": {
      "image/png": "[encoded data removed]",
      "text/plain": [
       "<Figure size 432x288 with 1 Axes>"
      ]
     },
     "metadata": {
      "needs_background": "light"
     },
     "output_type": "display_data"
    }
   ],
   "source": [
    "plt.hist(data['type_floor'], edgecolor = 'black', bins=4, range=(0, 4))\n",
    "plt.title('Тип этажа квартиры')\n",
    "plt.xlabel('Тип этажа')\n",
    "plt.ylabel('Количество квартир')\n",
    "plt.show()"
   ]
  },
  {
   "cell_type": "code",
   "execution_count": 61,
   "metadata": {},
   "outputs": [
    {
     "name": "stdout",
     "output_type": "stream",
     "text": [
      "Топ-10 квартир по типу этажа:\n",
      "6641     последний\n",
      "2961     последний\n",
      "16848    последний\n",
      "16849    последний\n",
      "2966     последний\n",
      "8461     последний\n",
      "2969     последний\n",
      "8455     последний\n",
      "16855    последний\n",
      "16857    последний\n",
      "Name: type_floor, dtype: object\n"
     ]
    }
   ],
   "source": [
    "print('Топ-10 квартир по типу этажа:')\n",
    "print(data['type_floor'].sort_values(ascending=False).head(10))"
   ]
  },
  {
   "cell_type": "markdown",
   "metadata": {},
   "source": [
    "**Тип этажа**\n",
    "- большинство квартир располагается со второго по предпоследний этажи "
   ]
  },
  {
   "cell_type": "code",
   "execution_count": 62,
   "metadata": {},
   "outputs": [
    {
     "data": {
      "image/png": "[encoded data removed]",
      "text/plain": [
       "<Figure size 432x288 with 1 Axes>"
      ]
     },
     "metadata": {
      "needs_background": "light"
     },
     "output_type": "display_data"
    }
   ],
   "source": [
    "plt.hist(data['floors_total'], edgecolor = 'black', bins=30, range=(0, 30))\n",
    "plt.title('Всего этажей')\n",
    "plt.xlabel('Этажи')\n",
    "plt.ylabel('Количество квартир')\n",
    "plt.show()"
   ]
  },
  {
   "cell_type": "code",
   "execution_count": 63,
   "metadata": {},
   "outputs": [
    {
     "name": "stdout",
     "output_type": "stream",
     "text": [
      "Топ-10 квартир по количеству этажей:\n",
      "3700     29\n",
      "18670    28\n",
      "13835    28\n",
      "779      28\n",
      "13688    28\n",
      "8408     28\n",
      "16569    28\n",
      "12629    28\n",
      "22954    28\n",
      "20362    28\n",
      "Name: floors_total, dtype: int64\n"
     ]
    }
   ],
   "source": [
    "print('Топ-10 квартир по количеству этажей:')\n",
    "print(data['floors_total'].sort_values(ascending=False).head(10))"
   ]
  },
  {
   "cell_type": "markdown",
   "metadata": {},
   "source": [
    "**Всего этажей**\n",
    "- большинство квартир расположены в пятиэтажный домах; на втором месте - девятиэтажные; на третьем - 12-ти этажные и 16-ти этажные; на четвертом - современные новостройки с 25 этажами"
   ]
  },
  {
   "cell_type": "code",
   "execution_count": 64,
   "metadata": {},
   "outputs": [
    {
     "data": {
      "image/png": "[encoded data removed]",
      "text/plain": [
       "<Figure size 432x288 with 1 Axes>"
      ]
     },
     "metadata": {
      "needs_background": "light"
     },
     "output_type": "display_data"
    }
   ],
   "source": [
    "plt.hist(data['city_centers_nearest'], edgecolor = 'black', bins=50, range=(0, 50000))\n",
    "plt.title('Расстояние до центра города')\n",
    "plt.xlabel('Расстояние, метры')\n",
    "plt.ylabel('Количество квартир')\n",
    "plt.show()"
   ]
  },
  {
   "cell_type": "markdown",
   "metadata": {},
   "source": [
    "**Расстояние до центра города:**\n",
    "- большинство квартир удалены от центра города на 10 500 и более метров (до 20 000 метров); также достаточно много квартир с удаленностью от центра в 2 500 - 6 000 метров"
   ]
  },
  {
   "cell_type": "code",
   "execution_count": 65,
   "metadata": {},
   "outputs": [
    {
     "data": {
      "image/png": "[encoded data removed]",
      "text/plain": [
       "<Figure size 432x288 with 1 Axes>"
      ]
     },
     "metadata": {
      "needs_background": "light"
     },
     "output_type": "display_data"
    }
   ],
   "source": [
    "plt.hist(data['airports_nearest'], edgecolor = 'black', bins=40, range=(0, 80000))\n",
    "plt.title('Расстояние до аэропорта')\n",
    "plt.xlabel('Расстояние, метры')\n",
    "plt.ylabel('Количество квартир')\n",
    "plt.show()"
   ]
  },
  {
   "cell_type": "markdown",
   "metadata": {},
   "source": [
    "**Расстояние до ближайшего аэропорта**\n",
    "- большшинство квартир расположены в 10 000 - 25 000 м от аэропорта;  характерные пики на графиках - это крупные областные города, расположенные вдалеке от аэропорта"
   ]
  },
  {
   "cell_type": "code",
   "execution_count": 66,
   "metadata": {},
   "outputs": [
    {
     "data": {
      "image/png": "[encoded data removed]",
      "text/plain": [
       "<Figure size 432x288 with 1 Axes>"
      ]
     },
     "metadata": {
      "needs_background": "light"
     },
     "output_type": "display_data"
    }
   ],
   "source": [
    "plt.hist(data['parks_nearest'], edgecolor = 'black', bins=10, range=(0, 2500))\n",
    "plt.title('Расстояние до ближайшего парка')\n",
    "plt.xlabel('Расстояние, метры')\n",
    "plt.ylabel('Количество квартир')\n",
    "plt.show()"
   ]
  },
  {
   "cell_type": "markdown",
   "metadata": {},
   "source": [
    "**Расстояние до ближайшего парка**\n",
    "- большшинство квартир расположены в шаговой доступности: до парка идти не более 250 метров; следущая категория - свыше 250, но меньше 750 "
   ]
  },
  {
   "cell_type": "code",
   "execution_count": 67,
   "metadata": {},
   "outputs": [
    {
     "data": {
      "image/png": "[encoded data removed]",
      "text/plain": [
       "<Figure size 432x288 with 1 Axes>"
      ]
     },
     "metadata": {
      "needs_background": "light"
     },
     "output_type": "display_data"
    }
   ],
   "source": [
    "plt.hist(data['day'], edgecolor = 'black', bins=7, range=(0, 7))\n",
    "plt.title('День публикации')\n",
    "plt.xlabel('День')\n",
    "plt.ylabel('Количество квартир')\n",
    "plt.show()"
   ]
  },
  {
   "cell_type": "markdown",
   "metadata": {},
   "source": [
    "**День публикации:**\n",
    "- больше всего квартир было выставлено на продажу в Четверг; на втором месте - вторник"
   ]
  },
  {
   "cell_type": "code",
   "execution_count": 68,
   "metadata": {},
   "outputs": [
    {
     "data": {
      "image/png": "[encoded data removed]",
      "text/plain": [
       "<Figure size 432x288 with 1 Axes>"
      ]
     },
     "metadata": {
      "needs_background": "light"
     },
     "output_type": "display_data"
    }
   ],
   "source": [
    "plt.hist(data['month'], edgecolor = 'black', bins=13, range=(0, 13))\n",
    "plt.title('Месяц публикации')\n",
    "plt.xlabel('Месяц')\n",
    "plt.ylabel('Количество квартир')\n",
    "plt.show()"
   ]
  },
  {
   "cell_type": "markdown",
   "metadata": {},
   "source": [
    "**Месяц публикации:**\n",
    "- больше всего квартир было выставлено на продажу в феврале; на втором месте - март; на третьем - апрель"
   ]
  },
  {
   "cell_type": "markdown",
   "metadata": {},
   "source": [
    "#### Вывод по гистограммам:\n",
    "**Площадь**\n",
    "- площадь большинства квартир менее 100 кв.м., хотя, безусловно, есть и те, у которых площадь превышает значение в 100 кв.м., но таких очень мало\n",
    "\n",
    "**Цена**\n",
    "- цена большинства квартир около 5 млн (диапазон от 3 до 5 млн), хотя значения доходят и до 20 млн (недвижимость премиум-класса)\n",
    "\n",
    "**Кол-во комнат**\n",
    "- в основном их 1, 2 и 3. Есть также те квартиры, в которых 4 комнаты (их значительно меньше); все те, в которых больше 4 комнат, скорее всего тоже относятся к премиум сегменту (на графике после значения 3 и 4 наблюдаются заметные просадки) \n",
    "\n",
    "**Высота потолков**\n",
    "- высота большинства квартир укладывается в диапазон от 2.5  до 3 метров. Даже есть те, у которых высота составляет 4 метра. Всех остальных (больше 4) - единицы.\n",
    "\n",
    "**Площадь кухни**\n",
    "- площадь кухни у большинства представленных квартир укладывается в диапазон от 5 до 20 метров. Однако, в нашем списке целых 8 квартир, в которых кухня занимает площадь в 50 кв.м. (больше, чем целая квартира)\n",
    "\n",
    "**Жилая площадь**\n",
    "- преимущество здесь это квартиры с площадью от 10 до 50 кв.метров, после же 80 кв. метров встречаются единицы. Также на графике 3 характерных пика (может быть это связано с количеством комнат) \n",
    "\n",
    "**Цена за кв. метр**\n",
    "- график очень сильно схож с графиком нормального распределения, имеющего колоколообразную форму. У большинства квартир цена за кв. метр составляет 100 000. Очень мало варинтов с ценой более 200 000.\n",
    "\n",
    "**Этаж**\n",
    "- большинство квартир располагается с первого по пятый этажи (неудивительно, так как застройка многих районов СПб и ЛО - низкоэтажная)\n",
    "\n",
    "**Тип этажа**\n",
    "- большинство квартир располагается со второго по предпоследний этажи \n",
    "\n",
    "**Всего этажей**\n",
    "- большинство квартир расположены в пятиэтажный домах; на втором месте - девятиэтажные; на третьем - 12-ти этажные и 16-ти этажные; на четвертом - современные новостройки с 25 этажами\n",
    "\n",
    "**Расстояние до центра города:**\n",
    "- большинство квартир удалены от центра города на 10 500 и более метров (до 20 000 метров); также достаточно много квартир с удаленностью от центра в 2 500 - 6 000 метров\n",
    "\n",
    "**Расстояние до ближайшего аэропорта**\n",
    "- большшинство квартир расположены в 10 000 - 25 000 м от аэропорта;  характерные пики на графиках - это крупные областные города, расположенные вдалеке от аэропорта\n",
    "\n",
    "**Расстояние до ближайшего парка**\n",
    "- большшинство квартир расположены в шаговой доступности: до парка идти не более 250 метров; следущая категория - свыше 250, но меньше 750 \n",
    "\n",
    "**День публикации:**\n",
    "- больше всего квартир было выставлено на продажу в Четверг; на втором месте - вторник\n",
    "\n",
    "**Месяц публикации:**\n",
    "- больше всего квартир было выставлено на продажу в феврале; на втором месте - март; на третьем - апрель"
   ]
  },
  {
   "cell_type": "markdown",
   "metadata": {},
   "source": [
    "<div class=\"alert alert-danger\">\n",
    "<b>❌ Комментарий ревьюера v1:</b> \n",
    "<br>Прочитай, пожалуйста, внимательно шаг 4.1 и построй все необходимые графики. Под каждым графиком необходимо написать выводы\n",
    "</div>"
   ]
  },
  {
   "cell_type": "markdown",
   "metadata": {},
   "source": [
    "<div class=\"alert alert-info\">\n",
    "<b>Комментарий студента:</b>\n",
    "<br>исправил и добавил все нужные графики\n",
    "</div>"
   ]
  },
  {
   "cell_type": "markdown",
   "metadata": {},
   "source": [
    "<div class=\"alert alert-success\">\n",
    "<b>✔️ Комментарий ревьюера v2:</b> \n",
    "<br>Ты корректно подбираешь основные диапазоны, а также верно читаешь графики! Отдельный плюс за то, что ты подписываешь графики и их оси\n",
    "</div>"
   ]
  },
  {
   "cell_type": "markdown",
   "metadata": {},
   "source": [
    "_"
   ]
  },
  {
   "cell_type": "markdown",
   "metadata": {},
   "source": [
    "Посмотрим на время продажи квартир"
   ]
  },
  {
   "cell_type": "code",
   "execution_count": 69,
   "metadata": {},
   "outputs": [
    {
     "name": "stdout",
     "output_type": "stream",
     "text": [
      "Время продажи (медианное): 93\n",
      "Время продажи (среднее): 171\n"
     ]
    }
   ],
   "source": [
    "print('Время продажи (медианное):', round(data['days_exposition'].median()))\n",
    "print('Время продажи (среднее):', round(data['days_exposition'].mean()))"
   ]
  },
  {
   "cell_type": "code",
   "execution_count": 70,
   "metadata": {},
   "outputs": [
    {
     "data": {
      "image/png": "[encoded data removed]",
      "text/plain": [
       "<Figure size 432x288 with 1 Axes>"
      ]
     },
     "metadata": {
      "needs_background": "light"
     },
     "output_type": "display_data"
    }
   ],
   "source": [
    "plt.hist(data['days_exposition'], edgecolor = 'black', bins=50, range=(0,250))\n",
    "plt.title('Время продажи квартиры')\n",
    "plt.xlabel('Дни')\n",
    "plt.ylabel('Количество квартир')\n",
    "plt.show()"
   ]
  },
  {
   "cell_type": "code",
   "execution_count": 71,
   "metadata": {},
   "outputs": [
    {
     "data": {
      "text/plain": [
       "count    19983.000000\n",
       "mean       171.322924\n",
       "std        197.353296\n",
       "min          1.000000\n",
       "25%         44.000000\n",
       "50%         93.000000\n",
       "75%        224.000000\n",
       "max       1095.000000\n",
       "Name: days_exposition, dtype: float64"
      ]
     },
     "execution_count": 71,
     "metadata": {},
     "output_type": "execute_result"
    }
   ],
   "source": [
    "data['days_exposition'].describe()"
   ]
  },
  {
   "cell_type": "markdown",
   "metadata": {},
   "source": [
    "**Вывод**: медианное время продажи квартиры - 93 дня, среднее - 171 день. Быстрой продажей можно назвать продажу за 44 дня и меньше, долгой - 224 дня и больше"
   ]
  },
  {
   "cell_type": "markdown",
   "metadata": {},
   "source": [
    "<div class=\"alert alert-success\">\n",
    "<b>✔️ Комментарий ревьюера v1:</b> \n",
    "<br>А как бы ты объяснила эти пики в районе 45 и 60 дней?\n",
    "</div>"
   ]
  },
  {
   "cell_type": "markdown",
   "metadata": {},
   "source": [
    "<div class=\"alert alert-info\">\n",
    "<b>Комментарий студента:</b>\n",
    "<br>Возможно, это из-за каких-то платных подписок на сервисы по продаже, которые позвоялют существенно снизить время продажи  квартиры\n",
    "</div>"
   ]
  },
  {
   "cell_type": "markdown",
   "metadata": {},
   "source": [
    "<div class=\"alert alert-success\">\n",
    "<b>✔️ Комментарий ревьюера v2:</b> \n",
    "<br>Близко! Это особенность функционирования системы размещения объявлений) Убедиться в этом можно по ссылке ниже\n",
    "\n",
    "\thttps://yandex.ru/support/realty/owner/home/add-ads-housing.html\n",
    "</div>"
   ]
  },
  {
   "cell_type": "markdown",
   "metadata": {},
   "source": [
    "Факторы, влияющие на стоимость квартиры:"
   ]
  },
  {
   "cell_type": "code",
   "execution_count": 72,
   "metadata": {},
   "outputs": [
    {
     "name": "stdout",
     "output_type": "stream",
     "text": [
      "Корреляция цены и площади:\n",
      "            last_price  total_area\n",
      "last_price    1.000000    0.815592\n",
      "total_area    0.815592    1.000000\n",
      "\n",
      "\n",
      "Корреляция цены и кол-ва комнат:\n",
      "            last_price     rooms\n",
      "last_price    1.000000  0.247219\n",
      "rooms         0.247219  1.000000\n",
      "\n",
      "\n",
      "Корреляция цены и удалённости от центра:\n",
      "                      city_centers_nearest  last_price\n",
      "city_centers_nearest              1.000000   -0.830909\n",
      "last_price                       -0.830909    1.000000\n",
      "\n",
      "\n",
      "Корреляция цены за квадратный метр и площади:\n",
      "            sqm_price  total_area\n",
      "sqm_price    1.000000    0.252064\n",
      "total_area   0.252064    1.000000\n",
      "\n",
      "\n",
      "Корреляция цены за квадратный метр и кол-ва комнат:\n",
      "              rooms  sqm_price\n",
      "rooms      1.000000  -0.388662\n",
      "sqm_price -0.388662   1.000000\n"
     ]
    }
   ],
   "source": [
    "print('Корреляция цены и площади:')\n",
    "print(data.pivot_table(index='floor', values=['total_area', 'last_price']).corr())\n",
    "print('\\n')\n",
    "print('Корреляция цены и кол-ва комнат:')\n",
    "print(data.query('rooms > 0').pivot_table(index='floor', values=['rooms', 'last_price']).corr())\n",
    "print('\\n')\n",
    "print('Корреляция цены и удалённости от центра:')\n",
    "print(data.pivot_table(index='floor', values=['city_centers_nearest', 'last_price']).corr())\n",
    "print('\\n')\n",
    "print('Корреляция цены за квадратный метр и площади:')\n",
    "print(data.pivot_table(index='floor', values=['total_area', 'sqm_price']).corr())\n",
    "print('\\n')\n",
    "print('Корреляция цены за квадратный метр и кол-ва комнат:')\n",
    "print(data.query('rooms > 0').pivot_table(index='floor', values=['rooms', 'sqm_price']).corr())\n",
    "\n",
    "\n"
   ]
  },
  {
   "cell_type": "markdown",
   "metadata": {},
   "source": [
    "*Построим графики:*"
   ]
  },
  {
   "cell_type": "code",
   "execution_count": 73,
   "metadata": {},
   "outputs": [
    {
     "data": {
      "image/png": "[encoded data removed]",
      "text/plain": [
       "<Figure size 360x360 with 1 Axes>"
      ]
     },
     "metadata": {
      "needs_background": "light"
     },
     "output_type": "display_data"
    },
    {
     "data": {
      "image/png": "[encoded data removed]",
      "text/plain": [
       "<Figure size 360x360 with 1 Axes>"
      ]
     },
     "metadata": {
      "needs_background": "light"
     },
     "output_type": "display_data"
    },
    {
     "data": {
      "image/png": "[encoded data removed]",
      "text/plain": [
       "<Figure size 360x360 with 1 Axes>"
      ]
     },
     "metadata": {
      "needs_background": "light"
     },
     "output_type": "display_data"
    },
    {
     "data": {
      "image/png": "[encoded data removed]",
      "text/plain": [
       "<Figure size 360x360 with 1 Axes>"
      ]
     },
     "metadata": {
      "needs_background": "light"
     },
     "output_type": "display_data"
    },
    {
     "data": {
      "image/png": "[encoded data removed]",
      "text/plain": [
       "<Figure size 360x360 with 1 Axes>"
      ]
     },
     "metadata": {
      "needs_background": "light"
     },
     "output_type": "display_data"
    },
    {
     "data": {
      "image/png": "[encoded data removed]",
      "text/plain": [
       "<Figure size 360x360 with 1 Axes>"
      ]
     },
     "metadata": {
      "needs_background": "light"
     },
     "output_type": "display_data"
    },
    {
     "data": {
      "image/png": "[encoded data removed]",
      "text/plain": [
       "<Figure size 360x360 with 1 Axes>"
      ]
     },
     "metadata": {
      "needs_background": "light"
     },
     "output_type": "display_data"
    },
    {
     "data": {
      "image/png": "[encoded data removed]",
      "text/plain": [
       "<Figure size 360x360 with 1 Axes>"
      ]
     },
     "metadata": {
      "needs_background": "light"
     },
     "output_type": "display_data"
    }
   ],
   "source": [
    "(\n",
    "    data\n",
    "    .pivot_table(index='total_area', values='last_price')\n",
    "    .plot(grid=True, style='o', figsize=(5, 5))\n",
    ")\n",
    "plt.show()\n",
    "\n",
    "(\n",
    "    data.query('rooms > 0')\n",
    "    .pivot_table(index='rooms', values='last_price')\n",
    "    .plot(grid=True, style='o-', figsize=(5, 5))\n",
    ")\n",
    "plt.show()\n",
    "\n",
    "(\n",
    "    data\n",
    "    .pivot_table(index='city_centers_nearest', values='last_price')\n",
    "    .plot(grid=True, style='o', figsize=(5, 5))\n",
    ")\n",
    "plt.show()\n",
    "\n",
    "(\n",
    "    data\n",
    "    .pivot_table(index='type_floor', values='last_price', aggfunc='median')\n",
    "    .plot(grid=True, style='o-', figsize=(5, 5))\n",
    ")\n",
    "plt.show()\n",
    "\n",
    "(\n",
    "    data\n",
    "    .pivot_table(index='total_area', values='sqm_price')\n",
    "    .plot(grid=True, style='o', figsize=(5, 5))\n",
    ")\n",
    "plt.show()\n",
    "\n",
    "(\n",
    "    data\n",
    "    .query('rooms > 0')\n",
    "    .pivot_table(index='rooms', values='sqm_price')\n",
    "    .plot(grid=True, style='o-', figsize=(5, 5))\n",
    ")\n",
    "plt.show()\n",
    "\n",
    "(\n",
    "    data\n",
    "    .pivot_table(index='living_area', values='last_price')\n",
    "    .plot(grid=True, style='o', figsize=(5, 5))\n",
    ")\n",
    "plt.show()\n",
    "\n",
    "(\n",
    "    data\n",
    "    .pivot_table(index='kitchen_area', values='last_price')\n",
    "    .plot(grid=True, style='o', figsize=(5, 5))\n",
    ")\n",
    "plt.show()"
   ]
  },
  {
   "cell_type": "markdown",
   "metadata": {},
   "source": [
    "**Выводы**:\n",
    "- чем больше площадь, тем больше цена квартиры (и, соответственно, чем больше жилая площадь, тем цена квартиры больше)\n",
    "- число комнат наоборот не слишком сильно влияет на цену (возможно из-за того, что квартиры с 1 комнатой или же вообще студии находятся в очень дорогих центральных районах; у таких квартир может быть очень большая площадь, несмотря на маленькое кол-во комнат)\n",
    "- чем ближе к центру, тем дороже квартира (однако на графике есть пики на 30 000 и 50 000: вероятно это элитные поселки/территории/ЖК)\n",
    "- цена за квадрта мало влияет на количество комнат и на общую площадь (неудивительно, так как это может быть маленькая, но зато в самом центре квартира)\n",
    "- цена квартир на первом этаже самая маленькая, на последнем - чуть больше, а на других - самая большая\n",
    "- цена за квадрратный метр у квартир с 4 и более комнатами самая большая (однако и однушки тоже \"в цене\")\n",
    "- площадь кухни не так сильно влияет на цену квартиры, как общая площадь (возможно, это связано с тем, что в квартирах со свободной планировкой (и не только) есть возможность \"играть\" с этой кухней: объединять с комнатой, уменьшать площадь в пользу комнаты, делать из кухни чисто рабочую зону, перенося столовую в другое место и т.п.); однако кухни площадью более 25 кв.м. существеннее влияют на цену квартиры\n"
   ]
  },
  {
   "cell_type": "markdown",
   "metadata": {},
   "source": [
    "<div class=\"alert alert-danger\">\n",
    "<b>❌ Комментарий ревьюера v1:</b> \n",
    "<br>Не изучено влияние жилой площади и площади кухни на стоимость квартиры\n",
    "</div>"
   ]
  },
  {
   "cell_type": "markdown",
   "metadata": {},
   "source": [
    "<div class=\"alert alert-info\">\n",
    "<b>Комментарий студента:</b>\n",
    "<br>исправил и изучил влияние еще 2-х факторов\n",
    "</div>"
   ]
  },
  {
   "cell_type": "markdown",
   "metadata": {},
   "source": [
    "<div class=\"alert alert-success\">\n",
    "<b>✔️ Комментарий ревьюера v2:</b>\n",
    "<br>Правка выполнена 👍\n",
    "</div>"
   ]
  },
  {
   "cell_type": "markdown",
   "metadata": {},
   "source": [
    "*Как влияют дни, месяцы, годы*:"
   ]
  },
  {
   "cell_type": "code",
   "execution_count": 74,
   "metadata": {},
   "outputs": [
    {
     "data": {
      "image/png": "[encoded data removed]",
      "text/plain": [
       "<Figure size 360x360 with 1 Axes>"
      ]
     },
     "metadata": {
      "needs_background": "light"
     },
     "output_type": "display_data"
    },
    {
     "data": {
      "image/png": "[encoded data removed]",
      "text/plain": [
       "<Figure size 720x360 with 1 Axes>"
      ]
     },
     "metadata": {
      "needs_background": "light"
     },
     "output_type": "display_data"
    },
    {
     "data": {
      "image/png": "[encoded data removed]",
      "text/plain": [
       "<Figure size 360x360 with 1 Axes>"
      ]
     },
     "metadata": {
      "needs_background": "light"
     },
     "output_type": "display_data"
    }
   ],
   "source": [
    "(\n",
    "    data\n",
    "    .pivot_table(index='day', values='last_price')\n",
    "    .plot(grid=True, style='o-', figsize=(5, 5))\n",
    ")\n",
    "plt.show()\n",
    "\n",
    "(\n",
    "    data\n",
    "    .pivot_table(index='month', values='last_price')\n",
    "    .plot(grid=True, style='o-', xlim=(1,12), figsize=(10, 5))\n",
    ")\n",
    "plt.show()\n",
    "\n",
    "(\n",
    "    data\n",
    "    .pivot_table(index='year', values='last_price')\n",
    "    .plot(grid=True, style='o-', figsize=(5, 5))\n",
    ")\n",
    "plt.show()"
   ]
  },
  {
   "cell_type": "markdown",
   "metadata": {},
   "source": [
    "**Выводы**:\n",
    "- дороже всего квартиры, выставленные на продажу в Чт, дешевле всего - в Вс\n",
    "- самые дорогие квартиры были опубликованы в сентябре, самые дешевые - в октябре (видимо Питер в октябре настолько непривлекательный)\n",
    "- с 2014 года наблюдается резкий спад цен на квартиры: кризис дал о себе знать. После 2018 года цены пошли вверх"
   ]
  },
  {
   "cell_type": "markdown",
   "metadata": {},
   "source": [
    "Топ-10 городов по цене за квадратный метр:"
   ]
  },
  {
   "cell_type": "code",
   "execution_count": 75,
   "metadata": {},
   "outputs": [
    {
     "data": {
      "text/html": [
       "<div>\n",
       "<style scoped>\n",
       "    .dataframe tbody tr th:only-of-type {\n",
       "        vertical-align: middle;\n",
       "    }\n",
       "\n",
       "    .dataframe tbody tr th {\n",
       "        vertical-align: top;\n",
       "    }\n",
       "\n",
       "    .dataframe thead th {\n",
       "        text-align: right;\n",
       "    }\n",
       "</style>\n",
       "<table border=\"1\" class=\"dataframe\">\n",
       "  <thead>\n",
       "    <tr style=\"text-align: right;\">\n",
       "      <th></th>\n",
       "      <th>sqm_price</th>\n",
       "    </tr>\n",
       "    <tr>\n",
       "      <th>locality_name</th>\n",
       "      <th></th>\n",
       "    </tr>\n",
       "  </thead>\n",
       "  <tbody>\n",
       "    <tr>\n",
       "      <th>санкт-петербург</th>\n",
       "      <td>113150</td>\n",
       "    </tr>\n",
       "    <tr>\n",
       "      <th>пушкин</th>\n",
       "      <td>102898</td>\n",
       "    </tr>\n",
       "    <tr>\n",
       "      <th>деревня кудрово</th>\n",
       "      <td>92453</td>\n",
       "    </tr>\n",
       "    <tr>\n",
       "      <th>поселок парголово</th>\n",
       "      <td>90132</td>\n",
       "    </tr>\n",
       "    <tr>\n",
       "      <th>поселок мурино</th>\n",
       "      <td>85658</td>\n",
       "    </tr>\n",
       "    <tr>\n",
       "      <th>поселок шушары</th>\n",
       "      <td>78534</td>\n",
       "    </tr>\n",
       "    <tr>\n",
       "      <th>колпино</th>\n",
       "      <td>75329</td>\n",
       "    </tr>\n",
       "    <tr>\n",
       "      <th>гатчина</th>\n",
       "      <td>68745</td>\n",
       "    </tr>\n",
       "    <tr>\n",
       "      <th>всеволожск</th>\n",
       "      <td>68690</td>\n",
       "    </tr>\n",
       "    <tr>\n",
       "      <th>выборг</th>\n",
       "      <td>58189</td>\n",
       "    </tr>\n",
       "  </tbody>\n",
       "</table>\n",
       "</div>"
      ],
      "text/plain": [
       "                   sqm_price\n",
       "locality_name               \n",
       "санкт-петербург       113150\n",
       "пушкин                102898\n",
       "деревня кудрово        92453\n",
       "поселок парголово      90132\n",
       "поселок мурино         85658\n",
       "поселок шушары         78534\n",
       "колпино                75329\n",
       "гатчина                68745\n",
       "всеволожск             68690\n",
       "выборг                 58189"
      ]
     },
     "execution_count": 75,
     "metadata": {},
     "output_type": "execute_result"
    }
   ],
   "source": [
    "top_ten = data['locality_name'].value_counts().head(10)\n",
    "top_ten_price = data.query('locality_name in (@top_ten.index)').pivot_table(values='sqm_price', index='locality_name')\n",
    "top_ten_price = top_ten_price.astype(int)\n",
    "top_ten_price.sort_values('sqm_price', ascending=False)"
   ]
  },
  {
   "cell_type": "markdown",
   "metadata": {},
   "source": [
    "Уверенное лидерство на Санкт-Петербургом, затем идет Пушкин (со своим Царским Селом). Из топ-10 городов по цене за квадратный метр последнюю строчку занял Выборг"
   ]
  },
  {
   "cell_type": "markdown",
   "metadata": {},
   "source": [
    "<div class=\"alert alert-success\">\n",
    "<b>✔️ Комментарий ревьюера v1:</b> \n",
    "<br>Всё верно! Как вариант, тут можно построить барплот для топ10 по средней цене, так будет более наглядно)\n",
    "</div>"
   ]
  },
  {
   "cell_type": "markdown",
   "metadata": {},
   "source": [
    "Как стоимость объектов зависит от расстояния до центра города:"
   ]
  },
  {
   "cell_type": "code",
   "execution_count": 76,
   "metadata": {},
   "outputs": [
    {
     "data": {
      "image/png": "[encoded data removed]",
      "text/plain": [
       "<Figure size 648x360 with 1 Axes>"
      ]
     },
     "metadata": {
      "needs_background": "light"
     },
     "output_type": "display_data"
    }
   ],
   "source": [
    "(\n",
    "    data[data['locality_name']=='санкт-петербург']\n",
    "    .pivot_table(\n",
    "        index='city_center_km',\n",
    "        values='last_price',\n",
    "        aggfunc='mean')\n",
    "    .plot(kind='bar', figsize=(9, 5))\n",
    ");\n",
    "\n"
   ]
  },
  {
   "cell_type": "markdown",
   "metadata": {},
   "source": [
    "Квартиры, расположенные в радиусе 7 км - это центр. Заметно характерное снижение на графике после 7 км."
   ]
  },
  {
   "cell_type": "markdown",
   "metadata": {},
   "source": [
    "<div class=\"alert alert-success\">\n",
    "<b>✔️ Комментарий ревьюера v1:</b>\n",
    "<br>Верно 👍\n",
    "</div>"
   ]
  },
  {
   "cell_type": "markdown",
   "metadata": {},
   "source": [
    "### Общий вывод"
   ]
  },
  {
   "cell_type": "markdown",
   "metadata": {},
   "source": [
    "#### Влияние факторов на цену недвижимости:\n",
    "- чем больше общая и жилая площадь, тем больше цена квартиры\n",
    "- число комнат наоборот не слишком сильно влияет на цену \n",
    "- чем ближе к центру, тем дороже квартира, однако это не актуально для элитных загородных ЖК/поселков\n",
    "- цена за квадрта мало влияет на количество комнат и на общую площадь: неудивительно, так как это может быть хоть и маленькая, но зато в самом центре квартира\n",
    "- цена квартир на первом этаже самая маленькая, на последнем - чуть больше, а на других - самая большая\n",
    "- площадь кухни не является самым влиятельным показателем в отношении цены квартиры\n",
    "\n",
    "#### Сроки продаж:\n",
    "- в основном кварртиру удается продать за 93 дня\n",
    "- есть случаи, когда это удавалось сделать быстро: в нашем случае это 44 дня и меньше; а иногда даже сверхбыстро: буквально за считанные дни\n",
    "- но и без долгих случаев не обходится: достаточное количество квартир продавалось 224 дня и более\n",
    "\n",
    "#### Цена за квадратный метр в топ-10 населенных пунктах СПб и Ленинградской области:\n",
    "- по этому показателю лидирует Санкт-Петербург - 113 150 за 1 кв.м.\n",
    "- почетное десятое место занимает Выборг - 58 189 за 1 кв.м.\n",
    "- также, недвижимость в радиусе 7 км в Санкт-Петербурге значительно дороже более отдаленных вариантов \n",
    "\n",
    "*После проделанной работы можно взглянуть на уже знакомый Петербург с другой стороны*\n"
   ]
  },
  {
   "cell_type": "markdown",
   "metadata": {},
   "source": [
    "<div class=\"alert alert-danger\">\n",
    "<b>❌ Комментарий ревьюера v1:</b> \n",
    "<br>После всех внесённых правок, обязательно перепроверь общий вывод и промежуточные выводы и поправь их по необходимости\n",
    "</div>"
   ]
  },
  {
   "cell_type": "markdown",
   "metadata": {},
   "source": [
    "<div class=\"alert alert-danger\">\n",
    "<b>❌ Итоговый комментарий ревьюера v1:</b> \n",
    "<br>Ты хорошо потрудилась, большая часть работы сделана, но остаётся внести следующие правки:\n",
    "<br>- написать короткий вывод после первичного просмотра данных\n",
    "<br>- заполнить пропуски в столбце ceiling_height\n",
    "<br>- корректно выполнить задание 4.1\t\n",
    "<br>- изучить зависимость цены от жилой площади и площади кухни\n",
    "<br>- поправить выводы там, где это необходимо\n",
    "</div>"
   ]
  },
  {
   "cell_type": "markdown",
   "metadata": {},
   "source": [
    "<div class=\"alert alert-success\">\n",
    "<b>✔️ Итоговый комментарий ревьюера v2:</b>\n",
    "<br>Все правки выполнены. Молодец!\n",
    "<br>Проделана огромная работа! У тебя подробные, понятные и логичные выводы, которые ты подкрепляешь фактами. Были использованы разные графики и способы, чтобы как можно более тщательно изучить данные и у тебя это получилось! \n",
    "<br>Я рад был поработать над проверкой твоей работы) В качестве дополнительного материала для изучения могу порекомендовать следующий ресурс:\n",
    "\n",
    "\thttps://www.python-graph-gallery.com/\n",
    "<br>В нем содержится большая библиотека графиков с готовым кодом, который можно использовать при работе.\n",
    "<br>Поздравляю со сдачей проекта и желаю удачи в дальнейшем обучении! 😉    \n",
    "</div>"
   ]
  },
  {
   "cell_type": "markdown",
   "metadata": {},
   "source": [
    "**Чек-лист готовности проекта**\n",
    "\n",
    "Поставьте 'x' в выполненных пунктах. Далее нажмите Shift+Enter."
   ]
  },
  {
   "cell_type": "markdown",
   "metadata": {},
   "source": [
    "- [x]  открыт файл\n",
    "- [x]  файлы изучены (выведены первые строки, метод `info()`, гистограммы и т.д.)\n",
    "- [x]  определены пропущенные значения\n",
    "- [x]  заполнены пропущенные значения там, где это возможно\n",
    "- [x]  есть пояснение, какие пропущенные значения обнаружены\n",
    "- [x]  изменены типы данных\n",
    "- [x]  есть пояснение, в каких столбцах изменены типы и почему\n",
    "- [x]  устранены неявные дубликаты в названиях населённых пунктов\n",
    "- [x]  устранены редкие и выбивающиеся значения (аномалии) во всех столбцах\n",
    "- [x]  посчитано и добавлено в таблицу: цена одного квадратного метра\n",
    "- [x]  посчитано и добавлено в таблицу: день публикации объявления (0 - понедельник, 1 - вторник и т.д.)\n",
    "- [x]  посчитано и добавлено в таблицу: месяц публикации объявления\n",
    "- [x]  посчитано и добавлено в таблицу: год публикации объявления\n",
    "- [x]  посчитано и добавлено в таблицу: тип этажа квартиры (значения — «первый», «последний», «другой»)\n",
    "- [x]  посчитано и добавлено в таблицу: расстояние в км до центра города\n",
    "- [x]  изучены и описаны следующие параметры:\n",
    "        - общая площадь;\n",
    "        - жилая площадь;\n",
    "        - площадь кухни;\n",
    "        - цена объекта;\n",
    "        - количество комнат;\n",
    "        - высота потолков;\n",
    "        - этаж квартиры;\n",
    "        - тип этажа квартиры («первый», «последний», «другой»);\n",
    "        - общее количество этажей в доме;\n",
    "        - расстояние до центра города в метрах;\n",
    "        - расстояние до ближайшего аэропорта;\n",
    "        - расстояние до ближайшего парка;\n",
    "        - день и месяц публикации объявления\n",
    "- [x]  построены гистограммы для каждого параметра\n",
    "- [x]  выполнено задание: \"Изучите, как быстро продавались квартиры (столбец days_exposition). Этот параметр показывает, сколько дней «висело» каждое объявление.\n",
    "    - Постройте гистограмму.\n",
    "    - Посчитайте среднее и медиану.\n",
    "    - В ячейке типа markdown опишите, сколько обычно занимает продажа. Какие продажи можно считать быстрыми, а какие — необычно долгими?\"\n",
    "- [x]  выполнено задание: \"Какие факторы больше всего влияют на общую (полную) стоимость объекта? Постройте графики, которые покажут зависимость цены от указанных ниже параметров. Для подготовки данных перед визуализацией вы можете использовать сводные таблицы.\"\n",
    "        - общей площади;\n",
    "        - жилой площади;\n",
    "        - площади кухни;\n",
    "        - количество комнат;\n",
    "        - типа этажа, на котором расположена квартира (первый, последний, другой);\n",
    "        - даты размещения (день недели, месяц, год);\n",
    "- [x]  выполнено задание: \"Посчитайте среднюю цену одного квадратного метра в 10 населённых пунктах с наибольшим числом объявлений. Выделите населённые пункты с самой высокой и низкой стоимостью квадратного метра. Эти данные можно найти по имени в столбце `locality_name`.\"\n",
    "- [x]  выполнено задание: \"Ранее вы посчитали расстояние до центра в километрах. Теперь выделите квартиры в Санкт-Петербурге с помощью столбца `locality_name` и вычислите среднюю цену каждого километра. Опишите, как стоимость объектов зависит от расстояния до центра города.\"\n",
    "- [x]  в каждом этапе есть промежуточные выводы\n",
    "- [x]  есть общий вывод"
   ]
  },
  {
   "cell_type": "code",
   "execution_count": null,
   "metadata": {},
   "outputs": [],
   "source": []
  }
 ],
 "metadata": {
  "ExecuteTimeLog": [
   {
    "duration": 42,
    "start_time": "2023-03-21T20:52:12.113Z"
   },
   {
    "duration": 364,
    "start_time": "2023-03-21T20:52:19.239Z"
   },
   {
    "duration": 200,
    "start_time": "2023-03-21T20:52:19.773Z"
   },
   {
    "duration": 106,
    "start_time": "2023-03-21T20:55:38.318Z"
   },
   {
    "duration": 98,
    "start_time": "2023-03-21T20:55:50.709Z"
   },
   {
    "duration": 112,
    "start_time": "2023-03-21T20:56:12.855Z"
   },
   {
    "duration": 9,
    "start_time": "2023-03-21T20:56:27.507Z"
   },
   {
    "duration": 177,
    "start_time": "2023-03-21T20:59:34.932Z"
   },
   {
    "duration": 128,
    "start_time": "2023-03-21T21:00:57.542Z"
   },
   {
    "duration": 2545,
    "start_time": "2023-03-21T21:03:43.624Z"
   },
   {
    "duration": 399,
    "start_time": "2023-03-22T19:02:15.433Z"
   },
   {
    "duration": 413,
    "start_time": "2023-03-22T19:02:15.836Z"
   },
   {
    "duration": 2468,
    "start_time": "2023-03-22T19:02:16.251Z"
   },
   {
    "duration": 30,
    "start_time": "2023-03-22T19:16:03.436Z"
   },
   {
    "duration": 27,
    "start_time": "2023-03-22T19:16:54.229Z"
   },
   {
    "duration": 3,
    "start_time": "2023-03-22T19:17:10.831Z"
   },
   {
    "duration": 52,
    "start_time": "2023-03-22T19:17:27.429Z"
   },
   {
    "duration": 104,
    "start_time": "2023-03-22T19:17:42.160Z"
   },
   {
    "duration": 6,
    "start_time": "2023-03-22T19:26:18.839Z"
   },
   {
    "duration": 6,
    "start_time": "2023-03-22T19:27:02.168Z"
   },
   {
    "duration": 13,
    "start_time": "2023-03-22T19:28:26.378Z"
   },
   {
    "duration": 32,
    "start_time": "2023-03-22T20:07:31.312Z"
   },
   {
    "duration": 40,
    "start_time": "2023-03-22T20:08:47.694Z"
   },
   {
    "duration": 36,
    "start_time": "2023-03-22T20:12:30.758Z"
   },
   {
    "duration": 39,
    "start_time": "2023-03-22T20:12:45.148Z"
   },
   {
    "duration": 53,
    "start_time": "2023-03-22T20:13:04.394Z"
   },
   {
    "duration": 95,
    "start_time": "2023-03-22T20:13:13.373Z"
   },
   {
    "duration": 70,
    "start_time": "2023-03-22T20:14:02.679Z"
   },
   {
    "duration": 73,
    "start_time": "2023-03-22T20:14:56.854Z"
   },
   {
    "duration": 17,
    "start_time": "2023-03-22T20:16:55.141Z"
   },
   {
    "duration": 429,
    "start_time": "2023-03-22T20:22:26.966Z"
   },
   {
    "duration": 394,
    "start_time": "2023-03-22T20:22:27.397Z"
   },
   {
    "duration": 2434,
    "start_time": "2023-03-22T20:22:27.793Z"
   },
   {
    "duration": 5,
    "start_time": "2023-03-22T20:22:30.230Z"
   },
   {
    "duration": 33,
    "start_time": "2023-03-22T20:22:30.237Z"
   },
   {
    "duration": 60,
    "start_time": "2023-03-22T20:22:30.272Z"
   },
   {
    "duration": 647,
    "start_time": "2023-03-22T20:38:44.249Z"
   },
   {
    "duration": 144,
    "start_time": "2023-03-22T20:38:44.898Z"
   },
   {
    "duration": 2081,
    "start_time": "2023-03-22T20:38:45.043Z"
   },
   {
    "duration": 6,
    "start_time": "2023-03-22T20:38:47.127Z"
   },
   {
    "duration": 46,
    "start_time": "2023-03-22T20:38:47.135Z"
   },
   {
    "duration": 42,
    "start_time": "2023-03-22T20:38:47.185Z"
   },
   {
    "duration": 28,
    "start_time": "2023-03-22T20:46:30.524Z"
   },
   {
    "duration": 24,
    "start_time": "2023-03-22T20:47:06.456Z"
   },
   {
    "duration": 28,
    "start_time": "2023-03-22T20:54:27.238Z"
   },
   {
    "duration": 26,
    "start_time": "2023-03-22T20:54:43.774Z"
   },
   {
    "duration": 19,
    "start_time": "2023-03-22T20:54:55.019Z"
   },
   {
    "duration": 15,
    "start_time": "2023-03-22T20:55:03.519Z"
   },
   {
    "duration": 124,
    "start_time": "2023-03-22T21:01:07.156Z"
   },
   {
    "duration": 20,
    "start_time": "2023-03-22T21:05:10.373Z"
   },
   {
    "duration": 30,
    "start_time": "2023-03-22T21:05:17.816Z"
   },
   {
    "duration": 11,
    "start_time": "2023-03-22T21:08:01.668Z"
   },
   {
    "duration": 22,
    "start_time": "2023-03-22T21:10:59.337Z"
   },
   {
    "duration": 28,
    "start_time": "2023-03-22T21:11:58.526Z"
   },
   {
    "duration": 50,
    "start_time": "2023-03-22T21:12:47.021Z"
   },
   {
    "duration": 10,
    "start_time": "2023-03-22T21:13:14.773Z"
   },
   {
    "duration": 30,
    "start_time": "2023-03-22T21:15:34.546Z"
   },
   {
    "duration": 7,
    "start_time": "2023-03-22T21:15:37.394Z"
   },
   {
    "duration": 39,
    "start_time": "2023-03-22T21:16:34.308Z"
   },
   {
    "duration": 32,
    "start_time": "2023-03-22T21:18:50.253Z"
   },
   {
    "duration": 46,
    "start_time": "2023-03-22T21:18:55.975Z"
   },
   {
    "duration": 70,
    "start_time": "2023-03-22T21:20:20.978Z"
   },
   {
    "duration": 9,
    "start_time": "2023-03-22T21:20:27.060Z"
   },
   {
    "duration": 8,
    "start_time": "2023-03-22T21:20:28.411Z"
   },
   {
    "duration": 76,
    "start_time": "2023-03-22T21:20:29.643Z"
   },
   {
    "duration": 620,
    "start_time": "2023-03-22T21:21:11.305Z"
   },
   {
    "duration": 144,
    "start_time": "2023-03-22T21:21:11.927Z"
   },
   {
    "duration": 1978,
    "start_time": "2023-03-22T21:21:12.075Z"
   },
   {
    "duration": 6,
    "start_time": "2023-03-22T21:21:14.058Z"
   },
   {
    "duration": 37,
    "start_time": "2023-03-22T21:21:14.071Z"
   },
   {
    "duration": 75,
    "start_time": "2023-03-22T21:21:14.110Z"
   },
   {
    "duration": 36,
    "start_time": "2023-03-22T21:21:14.188Z"
   },
   {
    "duration": 38,
    "start_time": "2023-03-22T21:21:14.226Z"
   },
   {
    "duration": 26,
    "start_time": "2023-03-22T21:21:14.268Z"
   },
   {
    "duration": 29,
    "start_time": "2023-03-22T21:21:14.295Z"
   },
   {
    "duration": 88,
    "start_time": "2023-03-22T21:21:14.326Z"
   },
   {
    "duration": 90,
    "start_time": "2023-03-22T21:21:14.416Z"
   },
   {
    "duration": 74,
    "start_time": "2023-03-22T22:13:43.121Z"
   },
   {
    "duration": 26,
    "start_time": "2023-03-22T22:35:04.204Z"
   },
   {
    "duration": 77,
    "start_time": "2023-03-22T22:36:10.671Z"
   },
   {
    "duration": 28,
    "start_time": "2023-03-22T22:36:28.874Z"
   },
   {
    "duration": 33,
    "start_time": "2023-03-22T22:39:07.705Z"
   },
   {
    "duration": 21,
    "start_time": "2023-03-22T22:43:25.707Z"
   },
   {
    "duration": 21,
    "start_time": "2023-03-22T22:44:54.807Z"
   },
   {
    "duration": 181,
    "start_time": "2023-03-22T22:45:48.043Z"
   },
   {
    "duration": 184,
    "start_time": "2023-03-22T22:45:57.615Z"
   },
   {
    "duration": 181,
    "start_time": "2023-03-22T22:47:39.575Z"
   },
   {
    "duration": 215,
    "start_time": "2023-03-22T22:47:51.847Z"
   },
   {
    "duration": 246,
    "start_time": "2023-03-22T22:49:06.307Z"
   },
   {
    "duration": 275,
    "start_time": "2023-03-22T22:49:12.167Z"
   },
   {
    "duration": 197,
    "start_time": "2023-03-22T22:49:33.537Z"
   },
   {
    "duration": 211,
    "start_time": "2023-03-22T22:49:54.905Z"
   },
   {
    "duration": 222,
    "start_time": "2023-03-22T22:50:00.675Z"
   },
   {
    "duration": 186,
    "start_time": "2023-03-22T22:50:21.752Z"
   },
   {
    "duration": 223,
    "start_time": "2023-03-22T22:51:03.128Z"
   },
   {
    "duration": 378,
    "start_time": "2023-03-22T22:52:17.571Z"
   },
   {
    "duration": 494,
    "start_time": "2023-03-22T22:52:35.541Z"
   },
   {
    "duration": 9,
    "start_time": "2023-03-22T22:53:16.604Z"
   },
   {
    "duration": 13,
    "start_time": "2023-03-22T22:57:53.475Z"
   },
   {
    "duration": 15,
    "start_time": "2023-03-22T22:58:04.557Z"
   },
   {
    "duration": 12,
    "start_time": "2023-03-22T23:00:22.386Z"
   },
   {
    "duration": 80,
    "start_time": "2023-03-22T23:04:47.133Z"
   },
   {
    "duration": 146,
    "start_time": "2023-03-22T23:05:02.876Z"
   },
   {
    "duration": 80,
    "start_time": "2023-03-22T23:05:37.738Z"
   },
   {
    "duration": 83,
    "start_time": "2023-03-22T23:05:43.156Z"
   },
   {
    "duration": 24,
    "start_time": "2023-03-22T23:05:49.955Z"
   },
   {
    "duration": 23,
    "start_time": "2023-03-22T23:06:01.787Z"
   },
   {
    "duration": 141,
    "start_time": "2023-03-22T23:06:49.505Z"
   },
   {
    "duration": 192,
    "start_time": "2023-03-22T23:07:00.946Z"
   },
   {
    "duration": 123,
    "start_time": "2023-03-22T23:07:09.489Z"
   },
   {
    "duration": 142,
    "start_time": "2023-03-22T23:07:15.836Z"
   },
   {
    "duration": 128,
    "start_time": "2023-03-22T23:07:20.193Z"
   },
   {
    "duration": 126,
    "start_time": "2023-03-22T23:07:26.785Z"
   },
   {
    "duration": 627,
    "start_time": "2023-03-22T23:08:22.591Z"
   },
   {
    "duration": 134,
    "start_time": "2023-03-22T23:08:23.222Z"
   },
   {
    "duration": 1961,
    "start_time": "2023-03-22T23:08:23.358Z"
   },
   {
    "duration": 5,
    "start_time": "2023-03-22T23:08:25.321Z"
   },
   {
    "duration": 17,
    "start_time": "2023-03-22T23:08:25.328Z"
   },
   {
    "duration": 31,
    "start_time": "2023-03-22T23:08:25.347Z"
   },
   {
    "duration": 16,
    "start_time": "2023-03-22T23:08:25.380Z"
   },
   {
    "duration": 29,
    "start_time": "2023-03-22T23:08:25.397Z"
   },
   {
    "duration": 38,
    "start_time": "2023-03-22T23:08:25.428Z"
   },
   {
    "duration": 6,
    "start_time": "2023-03-22T23:08:25.473Z"
   },
   {
    "duration": 61,
    "start_time": "2023-03-22T23:08:25.481Z"
   },
   {
    "duration": 83,
    "start_time": "2023-03-22T23:08:25.544Z"
   },
   {
    "duration": 221,
    "start_time": "2023-03-22T23:08:25.629Z"
   },
   {
    "duration": 45,
    "start_time": "2023-03-22T23:08:25.851Z"
   },
   {
    "duration": 18,
    "start_time": "2023-03-22T23:08:25.898Z"
   },
   {
    "duration": 418,
    "start_time": "2023-03-22T23:08:25.918Z"
   },
   {
    "duration": 36,
    "start_time": "2023-03-22T23:08:26.338Z"
   },
   {
    "duration": 9,
    "start_time": "2023-03-22T23:08:26.376Z"
   },
   {
    "duration": 25,
    "start_time": "2023-03-22T23:08:26.387Z"
   },
   {
    "duration": 152,
    "start_time": "2023-03-22T23:08:26.414Z"
   },
   {
    "duration": 228,
    "start_time": "2023-03-22T23:08:33.015Z"
   },
   {
    "duration": 171,
    "start_time": "2023-03-22T23:08:54.583Z"
   },
   {
    "duration": 152,
    "start_time": "2023-03-22T23:09:17.823Z"
   },
   {
    "duration": 11,
    "start_time": "2023-03-22T23:11:29.579Z"
   },
   {
    "duration": 150,
    "start_time": "2023-03-22T23:17:35.276Z"
   },
   {
    "duration": 160,
    "start_time": "2023-03-22T23:17:48.827Z"
   },
   {
    "duration": 152,
    "start_time": "2023-03-22T23:17:59.027Z"
   },
   {
    "duration": 172,
    "start_time": "2023-03-22T23:18:10.779Z"
   },
   {
    "duration": 197,
    "start_time": "2023-03-22T23:18:22.843Z"
   },
   {
    "duration": 166,
    "start_time": "2023-03-22T23:18:30.291Z"
   },
   {
    "duration": 152,
    "start_time": "2023-03-22T23:18:41.671Z"
   },
   {
    "duration": 227,
    "start_time": "2023-03-22T23:20:01.874Z"
   },
   {
    "duration": 291,
    "start_time": "2023-03-22T23:20:15.880Z"
   },
   {
    "duration": 173,
    "start_time": "2023-03-22T23:20:29.475Z"
   },
   {
    "duration": 18,
    "start_time": "2023-03-22T23:21:03.856Z"
   },
   {
    "duration": 140,
    "start_time": "2023-03-22T23:21:04.215Z"
   },
   {
    "duration": 27,
    "start_time": "2023-03-22T23:21:48.187Z"
   },
   {
    "duration": 30,
    "start_time": "2023-03-22T23:22:48.541Z"
   },
   {
    "duration": 26,
    "start_time": "2023-03-22T23:24:13.775Z"
   },
   {
    "duration": 25,
    "start_time": "2023-03-22T23:25:35.929Z"
   },
   {
    "duration": 27,
    "start_time": "2023-03-22T23:25:42.577Z"
   },
   {
    "duration": 30,
    "start_time": "2023-03-22T23:27:32.551Z"
   },
   {
    "duration": 35,
    "start_time": "2023-03-22T23:35:53.387Z"
   },
   {
    "duration": 40,
    "start_time": "2023-03-22T23:36:13.250Z"
   },
   {
    "duration": 36,
    "start_time": "2023-03-22T23:36:58.281Z"
   },
   {
    "duration": 37,
    "start_time": "2023-03-22T23:37:48.128Z"
   },
   {
    "duration": 616,
    "start_time": "2023-03-22T23:38:11.718Z"
   },
   {
    "duration": 146,
    "start_time": "2023-03-22T23:38:12.336Z"
   },
   {
    "duration": 1951,
    "start_time": "2023-03-22T23:38:12.484Z"
   },
   {
    "duration": 5,
    "start_time": "2023-03-22T23:38:14.437Z"
   },
   {
    "duration": 16,
    "start_time": "2023-03-22T23:38:14.443Z"
   },
   {
    "duration": 36,
    "start_time": "2023-03-22T23:38:14.466Z"
   },
   {
    "duration": 17,
    "start_time": "2023-03-22T23:38:14.504Z"
   },
   {
    "duration": 26,
    "start_time": "2023-03-22T23:38:14.522Z"
   },
   {
    "duration": 14,
    "start_time": "2023-03-22T23:38:14.561Z"
   },
   {
    "duration": 15,
    "start_time": "2023-03-22T23:38:14.577Z"
   },
   {
    "duration": 76,
    "start_time": "2023-03-22T23:38:14.593Z"
   },
   {
    "duration": 63,
    "start_time": "2023-03-22T23:38:14.676Z"
   },
   {
    "duration": 229,
    "start_time": "2023-03-22T23:38:14.741Z"
   },
   {
    "duration": 36,
    "start_time": "2023-03-22T23:38:14.972Z"
   },
   {
    "duration": 27,
    "start_time": "2023-03-22T23:38:15.010Z"
   },
   {
    "duration": 373,
    "start_time": "2023-03-22T23:38:15.066Z"
   },
   {
    "duration": 25,
    "start_time": "2023-03-22T23:38:15.441Z"
   },
   {
    "duration": 10,
    "start_time": "2023-03-22T23:38:15.470Z"
   },
   {
    "duration": 24,
    "start_time": "2023-03-22T23:38:15.482Z"
   },
   {
    "duration": 165,
    "start_time": "2023-03-22T23:38:15.508Z"
   },
   {
    "duration": 11,
    "start_time": "2023-03-22T23:38:15.674Z"
   },
   {
    "duration": 243,
    "start_time": "2023-03-22T23:38:15.687Z"
   },
   {
    "duration": 42,
    "start_time": "2023-03-22T23:38:15.932Z"
   },
   {
    "duration": 36,
    "start_time": "2023-03-22T23:38:15.978Z"
   },
   {
    "duration": 49,
    "start_time": "2023-03-22T23:39:00.447Z"
   },
   {
    "duration": 29,
    "start_time": "2023-03-22T23:40:00.389Z"
   },
   {
    "duration": 158,
    "start_time": "2023-03-22T23:40:46.070Z"
   },
   {
    "duration": 182,
    "start_time": "2023-03-22T23:41:40.395Z"
   },
   {
    "duration": 172,
    "start_time": "2023-03-22T23:41:48.107Z"
   },
   {
    "duration": 174,
    "start_time": "2023-03-22T23:41:57.468Z"
   },
   {
    "duration": 203,
    "start_time": "2023-03-22T23:42:05.186Z"
   },
   {
    "duration": 157,
    "start_time": "2023-03-22T23:42:12.218Z"
   },
   {
    "duration": 174,
    "start_time": "2023-03-22T23:42:16.722Z"
   },
   {
    "duration": 9,
    "start_time": "2023-03-22T23:43:05.705Z"
   },
   {
    "duration": 11,
    "start_time": "2023-03-22T23:45:25.342Z"
   },
   {
    "duration": 372,
    "start_time": "2023-03-22T23:45:58.205Z"
   },
   {
    "duration": 654,
    "start_time": "2023-03-22T23:47:59.330Z"
   },
   {
    "duration": 629,
    "start_time": "2023-03-22T23:51:05.078Z"
   },
   {
    "duration": 668,
    "start_time": "2023-03-22T23:51:21.957Z"
   },
   {
    "duration": 78,
    "start_time": "2023-03-22T23:53:45.451Z"
   },
   {
    "duration": 16,
    "start_time": "2023-03-22T23:53:51.658Z"
   },
   {
    "duration": 17,
    "start_time": "2023-03-22T23:54:56.101Z"
   },
   {
    "duration": 27,
    "start_time": "2023-03-22T23:56:13.846Z"
   },
   {
    "duration": 172,
    "start_time": "2023-03-22T23:56:22.791Z"
   },
   {
    "duration": 149,
    "start_time": "2023-03-22T23:56:30.525Z"
   },
   {
    "duration": 146,
    "start_time": "2023-03-22T23:56:40.718Z"
   },
   {
    "duration": 19,
    "start_time": "2023-03-22T23:57:05.302Z"
   },
   {
    "duration": 299,
    "start_time": "2023-03-22T23:57:05.575Z"
   },
   {
    "duration": 13,
    "start_time": "2023-03-22T23:58:33.670Z"
   },
   {
    "duration": 17,
    "start_time": "2023-03-22T23:58:46.724Z"
   },
   {
    "duration": 83,
    "start_time": "2023-03-22T23:59:14.556Z"
   },
   {
    "duration": 346,
    "start_time": "2023-03-22T23:59:49.426Z"
   },
   {
    "duration": 22,
    "start_time": "2023-03-23T00:01:51.352Z"
   },
   {
    "duration": 351,
    "start_time": "2023-03-23T00:02:19.431Z"
   },
   {
    "duration": 373,
    "start_time": "2023-03-23T00:02:39.838Z"
   },
   {
    "duration": 16,
    "start_time": "2023-03-23T00:04:13.812Z"
   },
   {
    "duration": 248,
    "start_time": "2023-03-23T00:07:10.480Z"
   },
   {
    "duration": 18,
    "start_time": "2023-03-23T00:13:04.096Z"
   },
   {
    "duration": 13,
    "start_time": "2023-03-23T00:13:27.895Z"
   },
   {
    "duration": 21,
    "start_time": "2023-03-23T00:14:09.774Z"
   },
   {
    "duration": 10,
    "start_time": "2023-03-23T00:15:00.700Z"
   },
   {
    "duration": 652,
    "start_time": "2023-03-23T00:16:25.395Z"
   },
   {
    "duration": 7,
    "start_time": "2023-03-23T00:17:08.123Z"
   },
   {
    "duration": 7,
    "start_time": "2023-03-23T00:17:35.472Z"
   },
   {
    "duration": 10,
    "start_time": "2023-03-23T00:18:24.625Z"
   },
   {
    "duration": 3,
    "start_time": "2023-03-23T00:18:44.840Z"
   },
   {
    "duration": 737,
    "start_time": "2023-03-23T11:54:10.889Z"
   },
   {
    "duration": 196,
    "start_time": "2023-03-23T11:54:11.629Z"
   },
   {
    "duration": 1843,
    "start_time": "2023-03-23T11:54:11.827Z"
   },
   {
    "duration": 5,
    "start_time": "2023-03-23T11:54:13.673Z"
   },
   {
    "duration": 10,
    "start_time": "2023-03-23T11:54:13.679Z"
   },
   {
    "duration": 22,
    "start_time": "2023-03-23T11:54:13.691Z"
   },
   {
    "duration": 12,
    "start_time": "2023-03-23T11:54:13.714Z"
   },
   {
    "duration": 29,
    "start_time": "2023-03-23T11:54:13.728Z"
   },
   {
    "duration": 5,
    "start_time": "2023-03-23T11:54:13.758Z"
   },
   {
    "duration": 6,
    "start_time": "2023-03-23T11:54:13.765Z"
   },
   {
    "duration": 92,
    "start_time": "2023-03-23T11:54:13.772Z"
   },
   {
    "duration": 64,
    "start_time": "2023-03-23T11:54:13.866Z"
   },
   {
    "duration": 194,
    "start_time": "2023-03-23T11:54:13.931Z"
   },
   {
    "duration": 34,
    "start_time": "2023-03-23T11:54:14.127Z"
   },
   {
    "duration": 18,
    "start_time": "2023-03-23T11:54:14.163Z"
   },
   {
    "duration": 360,
    "start_time": "2023-03-23T11:54:14.182Z"
   },
   {
    "duration": 15,
    "start_time": "2023-03-23T11:54:14.546Z"
   },
   {
    "duration": 10,
    "start_time": "2023-03-23T11:54:14.562Z"
   },
   {
    "duration": 17,
    "start_time": "2023-03-23T11:54:14.574Z"
   },
   {
    "duration": 162,
    "start_time": "2023-03-23T11:54:14.593Z"
   },
   {
    "duration": 10,
    "start_time": "2023-03-23T11:54:14.756Z"
   },
   {
    "duration": 210,
    "start_time": "2023-03-23T11:54:14.767Z"
   },
   {
    "duration": 24,
    "start_time": "2023-03-23T11:54:14.978Z"
   },
   {
    "duration": 55,
    "start_time": "2023-03-23T11:54:15.004Z"
   },
   {
    "duration": 169,
    "start_time": "2023-03-23T11:54:15.061Z"
   },
   {
    "duration": 16,
    "start_time": "2023-03-23T11:54:15.231Z"
   },
   {
    "duration": 8,
    "start_time": "2023-03-23T11:54:15.249Z"
   },
   {
    "duration": 525,
    "start_time": "2023-03-23T11:54:15.260Z"
   },
   {
    "duration": 12,
    "start_time": "2023-03-23T11:54:15.786Z"
   },
   {
    "duration": 13,
    "start_time": "2023-03-23T11:54:15.800Z"
   },
   {
    "duration": 155,
    "start_time": "2023-03-23T11:54:15.814Z"
   },
   {
    "duration": 11,
    "start_time": "2023-03-23T11:54:15.971Z"
   },
   {
    "duration": 342,
    "start_time": "2023-03-23T11:54:15.983Z"
   },
   {
    "duration": 26,
    "start_time": "2023-03-23T11:54:16.327Z"
   },
   {
    "duration": 14,
    "start_time": "2023-03-23T11:54:16.355Z"
   },
   {
    "duration": 249,
    "start_time": "2023-03-23T11:54:16.370Z"
   },
   {
    "duration": 25,
    "start_time": "2023-03-23T11:54:16.621Z"
   },
   {
    "duration": 9,
    "start_time": "2023-03-23T11:54:16.648Z"
   },
   {
    "duration": 613,
    "start_time": "2023-03-23T11:54:16.658Z"
   },
   {
    "duration": 7,
    "start_time": "2023-03-23T11:54:17.273Z"
   },
   {
    "duration": 10,
    "start_time": "2023-03-23T11:54:17.281Z"
   },
   {
    "duration": 3,
    "start_time": "2023-03-23T11:54:17.292Z"
   },
   {
    "duration": 6,
    "start_time": "2023-03-23T11:57:10.543Z"
   },
   {
    "duration": 452,
    "start_time": "2023-03-23T12:13:38.624Z"
   },
   {
    "duration": 324,
    "start_time": "2023-03-23T12:15:20.360Z"
   },
   {
    "duration": 345,
    "start_time": "2023-03-23T12:15:37.103Z"
   },
   {
    "duration": 530,
    "start_time": "2023-03-23T12:17:56.315Z"
   },
   {
    "duration": 13,
    "start_time": "2023-03-23T12:19:49.801Z"
   },
   {
    "duration": 422,
    "start_time": "2023-03-23T12:20:36.649Z"
   },
   {
    "duration": 387,
    "start_time": "2023-03-23T12:20:49.592Z"
   },
   {
    "duration": 378,
    "start_time": "2023-03-23T12:21:30.408Z"
   },
   {
    "duration": 235,
    "start_time": "2023-03-23T12:26:10.448Z"
   },
   {
    "duration": 3,
    "start_time": "2023-03-23T12:26:51.231Z"
   },
   {
    "duration": 643,
    "start_time": "2023-03-23T12:26:57.219Z"
   },
   {
    "duration": 143,
    "start_time": "2023-03-23T12:26:57.867Z"
   },
   {
    "duration": 1862,
    "start_time": "2023-03-23T12:26:58.012Z"
   },
   {
    "duration": 6,
    "start_time": "2023-03-23T12:26:59.876Z"
   },
   {
    "duration": 10,
    "start_time": "2023-03-23T12:26:59.883Z"
   },
   {
    "duration": 29,
    "start_time": "2023-03-23T12:26:59.894Z"
   },
   {
    "duration": 25,
    "start_time": "2023-03-23T12:26:59.924Z"
   },
   {
    "duration": 32,
    "start_time": "2023-03-23T12:26:59.950Z"
   },
   {
    "duration": 4,
    "start_time": "2023-03-23T12:26:59.984Z"
   },
   {
    "duration": 10,
    "start_time": "2023-03-23T12:26:59.991Z"
   },
   {
    "duration": 99,
    "start_time": "2023-03-23T12:27:00.003Z"
   },
   {
    "duration": 79,
    "start_time": "2023-03-23T12:27:00.104Z"
   },
   {
    "duration": 211,
    "start_time": "2023-03-23T12:27:00.184Z"
   },
   {
    "duration": 61,
    "start_time": "2023-03-23T12:27:00.397Z"
   },
   {
    "duration": 24,
    "start_time": "2023-03-23T12:27:00.465Z"
   },
   {
    "duration": 445,
    "start_time": "2023-03-23T12:27:00.491Z"
   },
   {
    "duration": 17,
    "start_time": "2023-03-23T12:27:00.941Z"
   },
   {
    "duration": 64,
    "start_time": "2023-03-23T12:27:00.962Z"
   },
   {
    "duration": 65,
    "start_time": "2023-03-23T12:27:01.027Z"
   },
   {
    "duration": 150,
    "start_time": "2023-03-23T12:27:01.093Z"
   },
   {
    "duration": 13,
    "start_time": "2023-03-23T12:27:01.246Z"
   },
   {
    "duration": 258,
    "start_time": "2023-03-23T12:27:01.261Z"
   },
   {
    "duration": 45,
    "start_time": "2023-03-23T12:27:01.520Z"
   },
   {
    "duration": 50,
    "start_time": "2023-03-23T12:27:01.567Z"
   },
   {
    "duration": 196,
    "start_time": "2023-03-23T12:27:01.619Z"
   },
   {
    "duration": 10,
    "start_time": "2023-03-23T12:27:01.817Z"
   },
   {
    "duration": 39,
    "start_time": "2023-03-23T12:27:01.828Z"
   },
   {
    "duration": 537,
    "start_time": "2023-03-23T12:27:01.871Z"
   },
   {
    "duration": 12,
    "start_time": "2023-03-23T12:27:02.410Z"
   },
   {
    "duration": 25,
    "start_time": "2023-03-23T12:27:02.424Z"
   },
   {
    "duration": 159,
    "start_time": "2023-03-23T12:27:02.451Z"
   },
   {
    "duration": 13,
    "start_time": "2023-03-23T12:27:02.612Z"
   },
   {
    "duration": 357,
    "start_time": "2023-03-23T12:27:02.627Z"
   },
   {
    "duration": 18,
    "start_time": "2023-03-23T12:27:02.986Z"
   },
   {
    "duration": 35,
    "start_time": "2023-03-23T12:27:03.005Z"
   },
   {
    "duration": 244,
    "start_time": "2023-03-23T12:27:03.041Z"
   },
   {
    "duration": 15,
    "start_time": "2023-03-23T12:27:03.286Z"
   },
   {
    "duration": 8,
    "start_time": "2023-03-23T12:27:03.303Z"
   },
   {
    "duration": 635,
    "start_time": "2023-03-23T12:27:03.312Z"
   },
   {
    "duration": 14,
    "start_time": "2023-03-23T12:27:03.952Z"
   },
   {
    "duration": 10,
    "start_time": "2023-03-23T12:27:03.968Z"
   },
   {
    "duration": 7,
    "start_time": "2023-03-23T12:27:03.980Z"
   },
   {
    "duration": 488,
    "start_time": "2023-03-23T12:27:03.989Z"
   },
   {
    "duration": 181,
    "start_time": "2023-03-23T12:27:04.479Z"
   },
   {
    "duration": 231,
    "start_time": "2023-03-23T12:27:25.575Z"
   },
   {
    "duration": 155,
    "start_time": "2023-03-23T12:28:32.574Z"
   },
   {
    "duration": 167,
    "start_time": "2023-03-23T12:34:24.446Z"
   },
   {
    "duration": 6,
    "start_time": "2023-03-23T12:35:49.091Z"
   },
   {
    "duration": 6,
    "start_time": "2023-03-23T12:36:38.603Z"
   },
   {
    "duration": 76,
    "start_time": "2023-03-23T12:38:08.529Z"
   },
   {
    "duration": 73,
    "start_time": "2023-03-23T12:38:35.393Z"
   },
   {
    "duration": 7,
    "start_time": "2023-03-23T12:40:17.318Z"
   },
   {
    "duration": 7,
    "start_time": "2023-03-23T12:42:55.402Z"
   },
   {
    "duration": 7,
    "start_time": "2023-03-23T12:43:09.682Z"
   },
   {
    "duration": 8,
    "start_time": "2023-03-23T12:44:06.904Z"
   },
   {
    "duration": 151,
    "start_time": "2023-03-23T12:45:35.806Z"
   },
   {
    "duration": 9,
    "start_time": "2023-03-23T12:45:56.242Z"
   },
   {
    "duration": 8,
    "start_time": "2023-03-23T12:46:01.966Z"
   },
   {
    "duration": 8,
    "start_time": "2023-03-23T12:46:15.110Z"
   },
   {
    "duration": 190,
    "start_time": "2023-03-23T12:46:15.806Z"
   },
   {
    "duration": 264,
    "start_time": "2023-03-23T12:46:41.357Z"
   },
   {
    "duration": 8,
    "start_time": "2023-03-23T12:47:06.172Z"
   },
   {
    "duration": 156,
    "start_time": "2023-03-23T12:48:45.011Z"
   },
   {
    "duration": 6,
    "start_time": "2023-03-23T12:49:28.514Z"
   },
   {
    "duration": 144,
    "start_time": "2023-03-23T12:52:26.974Z"
   },
   {
    "duration": 83,
    "start_time": "2023-03-23T12:53:04.709Z"
   },
   {
    "duration": 70,
    "start_time": "2023-03-23T12:53:12.422Z"
   },
   {
    "duration": 56,
    "start_time": "2023-03-23T12:53:21.712Z"
   },
   {
    "duration": 169,
    "start_time": "2023-03-23T12:53:51.908Z"
   },
   {
    "duration": 170,
    "start_time": "2023-03-23T12:54:15.764Z"
   },
   {
    "duration": 140,
    "start_time": "2023-03-23T12:54:43.066Z"
   },
   {
    "duration": 173,
    "start_time": "2023-03-23T12:54:47.978Z"
   },
   {
    "duration": 148,
    "start_time": "2023-03-23T12:55:01.154Z"
   },
   {
    "duration": 170,
    "start_time": "2023-03-23T12:55:45.433Z"
   },
   {
    "duration": 151,
    "start_time": "2023-03-23T12:55:50.777Z"
   },
   {
    "duration": 199,
    "start_time": "2023-03-23T12:55:56.895Z"
   },
   {
    "duration": 177,
    "start_time": "2023-03-23T12:56:01.425Z"
   },
   {
    "duration": 172,
    "start_time": "2023-03-23T12:56:17.136Z"
   },
   {
    "duration": 288,
    "start_time": "2023-03-23T12:56:31.552Z"
   },
   {
    "duration": 157,
    "start_time": "2023-03-23T12:56:42.263Z"
   },
   {
    "duration": 9,
    "start_time": "2023-03-23T12:57:24.128Z"
   },
   {
    "duration": 158,
    "start_time": "2023-03-23T13:00:04.179Z"
   },
   {
    "duration": 8,
    "start_time": "2023-03-23T13:00:09.710Z"
   },
   {
    "duration": 153,
    "start_time": "2023-03-23T13:01:04.234Z"
   },
   {
    "duration": 9,
    "start_time": "2023-03-23T13:01:33.945Z"
   },
   {
    "duration": 267,
    "start_time": "2023-03-23T13:02:05.139Z"
   },
   {
    "duration": 240,
    "start_time": "2023-03-23T13:02:18.097Z"
   },
   {
    "duration": 7,
    "start_time": "2023-03-23T13:02:51.424Z"
   },
   {
    "duration": 206,
    "start_time": "2023-03-23T13:03:50.761Z"
   },
   {
    "duration": 186,
    "start_time": "2023-03-23T13:04:04.790Z"
   },
   {
    "duration": 185,
    "start_time": "2023-03-23T13:04:18.966Z"
   },
   {
    "duration": 6,
    "start_time": "2023-03-23T13:05:41.476Z"
   },
   {
    "duration": 7,
    "start_time": "2023-03-23T13:34:48.957Z"
   },
   {
    "duration": 336,
    "start_time": "2023-03-23T13:37:05.690Z"
   },
   {
    "duration": 775,
    "start_time": "2023-03-23T13:37:21.154Z"
   },
   {
    "duration": 171,
    "start_time": "2023-03-23T13:37:28.721Z"
   },
   {
    "duration": 11,
    "start_time": "2023-03-23T13:38:08.737Z"
   },
   {
    "duration": 5,
    "start_time": "2023-03-23T13:38:53.048Z"
   },
   {
    "duration": 40,
    "start_time": "2023-03-23T13:42:50.362Z"
   },
   {
    "duration": 697,
    "start_time": "2023-03-23T13:49:42.345Z"
   },
   {
    "duration": 311,
    "start_time": "2023-03-23T13:50:10.664Z"
   },
   {
    "duration": 251,
    "start_time": "2023-03-23T13:50:32.416Z"
   },
   {
    "duration": 840,
    "start_time": "2023-03-23T13:52:33.414Z"
   },
   {
    "duration": 520,
    "start_time": "2023-03-23T13:53:05.325Z"
   },
   {
    "duration": 38,
    "start_time": "2023-03-23T13:56:08.116Z"
   },
   {
    "duration": 62,
    "start_time": "2023-03-23T13:57:38.927Z"
   },
   {
    "duration": 87,
    "start_time": "2023-03-23T13:58:07.942Z"
   },
   {
    "duration": 59,
    "start_time": "2023-03-23T13:58:18.349Z"
   },
   {
    "duration": 51,
    "start_time": "2023-03-23T13:58:42.997Z"
   },
   {
    "duration": 72,
    "start_time": "2023-03-23T13:58:52.621Z"
   },
   {
    "duration": 57,
    "start_time": "2023-03-23T13:59:01.717Z"
   },
   {
    "duration": 279,
    "start_time": "2023-03-23T14:04:23.701Z"
   },
   {
    "duration": 873,
    "start_time": "2023-03-23T14:05:22.056Z"
   },
   {
    "duration": 56,
    "start_time": "2023-03-23T14:12:42.359Z"
   },
   {
    "duration": 425,
    "start_time": "2023-03-23T14:19:51.120Z"
   },
   {
    "duration": 30,
    "start_time": "2023-03-23T14:31:46.561Z"
   },
   {
    "duration": 20,
    "start_time": "2023-03-23T14:36:35.979Z"
   },
   {
    "duration": 21,
    "start_time": "2023-03-23T14:37:50.312Z"
   },
   {
    "duration": 30,
    "start_time": "2023-03-23T14:38:30.336Z"
   },
   {
    "duration": 205,
    "start_time": "2023-03-23T14:38:44.576Z"
   },
   {
    "duration": 191,
    "start_time": "2023-03-23T14:39:58.066Z"
   },
   {
    "duration": 26,
    "start_time": "2023-03-23T14:40:28.351Z"
   },
   {
    "duration": 27,
    "start_time": "2023-03-23T14:42:51.828Z"
   },
   {
    "duration": 26,
    "start_time": "2023-03-23T14:43:00.937Z"
   },
   {
    "duration": 25,
    "start_time": "2023-03-23T14:43:45.001Z"
   },
   {
    "duration": 21,
    "start_time": "2023-03-23T14:44:22.075Z"
   },
   {
    "duration": 14,
    "start_time": "2023-03-23T14:45:19.259Z"
   },
   {
    "duration": 12,
    "start_time": "2023-03-23T14:45:21.859Z"
   },
   {
    "duration": 24,
    "start_time": "2023-03-23T14:45:55.182Z"
   },
   {
    "duration": 64,
    "start_time": "2023-03-23T14:47:43.933Z"
   },
   {
    "duration": 18,
    "start_time": "2023-03-23T14:47:54.410Z"
   },
   {
    "duration": 32,
    "start_time": "2023-03-23T14:48:39.130Z"
   },
   {
    "duration": 5,
    "start_time": "2023-03-23T14:48:58.377Z"
   },
   {
    "duration": 6,
    "start_time": "2023-03-23T14:49:45.010Z"
   },
   {
    "duration": 3,
    "start_time": "2023-03-23T14:50:11.192Z"
   },
   {
    "duration": 5,
    "start_time": "2023-03-23T14:50:24.020Z"
   },
   {
    "duration": 5,
    "start_time": "2023-03-23T14:51:16.058Z"
   },
   {
    "duration": 27,
    "start_time": "2023-03-23T14:52:07.133Z"
   },
   {
    "duration": 19,
    "start_time": "2023-03-23T14:53:17.604Z"
   },
   {
    "duration": 20,
    "start_time": "2023-03-23T14:53:43.588Z"
   },
   {
    "duration": 24,
    "start_time": "2023-03-23T14:54:12.730Z"
   },
   {
    "duration": 19,
    "start_time": "2023-03-23T14:55:32.288Z"
   },
   {
    "duration": 20,
    "start_time": "2023-03-23T14:55:47.752Z"
   },
   {
    "duration": 16,
    "start_time": "2023-03-23T14:57:50.718Z"
   },
   {
    "duration": 19,
    "start_time": "2023-03-23T14:58:10.749Z"
   },
   {
    "duration": 18,
    "start_time": "2023-03-23T14:58:28.765Z"
   },
   {
    "duration": 402,
    "start_time": "2023-03-23T14:59:38.435Z"
   },
   {
    "duration": 20,
    "start_time": "2023-03-23T15:00:08.762Z"
   },
   {
    "duration": 19,
    "start_time": "2023-03-23T15:00:36.025Z"
   },
   {
    "duration": 20,
    "start_time": "2023-03-23T15:01:28.560Z"
   },
   {
    "duration": 15,
    "start_time": "2023-03-23T15:01:55.824Z"
   },
   {
    "duration": 15,
    "start_time": "2023-03-23T15:02:02.736Z"
   },
   {
    "duration": 14,
    "start_time": "2023-03-23T15:02:10.048Z"
   },
   {
    "duration": 167,
    "start_time": "2023-03-23T15:02:37.375Z"
   },
   {
    "duration": 19,
    "start_time": "2023-03-23T15:02:48.359Z"
   },
   {
    "duration": 19,
    "start_time": "2023-03-23T15:03:39.318Z"
   },
   {
    "duration": 23,
    "start_time": "2023-03-23T15:03:50.470Z"
   },
   {
    "duration": 17,
    "start_time": "2023-03-23T15:03:57.413Z"
   },
   {
    "duration": 23,
    "start_time": "2023-03-23T15:04:13.548Z"
   },
   {
    "duration": 15,
    "start_time": "2023-03-23T15:04:38.812Z"
   },
   {
    "duration": 15,
    "start_time": "2023-03-23T15:04:46.861Z"
   },
   {
    "duration": 12,
    "start_time": "2023-03-23T15:04:57.363Z"
   },
   {
    "duration": 25,
    "start_time": "2023-03-23T15:06:32.874Z"
   },
   {
    "duration": 24,
    "start_time": "2023-03-23T15:06:46.610Z"
   },
   {
    "duration": 25,
    "start_time": "2023-03-23T15:07:17.769Z"
   },
   {
    "duration": 21,
    "start_time": "2023-03-23T15:07:28.889Z"
   },
   {
    "duration": 296,
    "start_time": "2023-03-23T15:07:36.745Z"
   },
   {
    "duration": 271,
    "start_time": "2023-03-23T15:08:23.047Z"
   },
   {
    "duration": 754,
    "start_time": "2023-03-23T17:17:40.547Z"
   },
   {
    "duration": 365,
    "start_time": "2023-03-23T17:17:41.303Z"
   },
   {
    "duration": 1654,
    "start_time": "2023-03-23T17:17:41.669Z"
   },
   {
    "duration": 5,
    "start_time": "2023-03-23T17:17:43.324Z"
   },
   {
    "duration": 10,
    "start_time": "2023-03-23T17:17:43.331Z"
   },
   {
    "duration": 20,
    "start_time": "2023-03-23T17:17:43.342Z"
   },
   {
    "duration": 12,
    "start_time": "2023-03-23T17:17:43.363Z"
   },
   {
    "duration": 22,
    "start_time": "2023-03-23T17:17:43.376Z"
   },
   {
    "duration": 4,
    "start_time": "2023-03-23T17:17:43.400Z"
   },
   {
    "duration": 9,
    "start_time": "2023-03-23T17:17:43.406Z"
   },
   {
    "duration": 70,
    "start_time": "2023-03-23T17:17:43.416Z"
   },
   {
    "duration": 55,
    "start_time": "2023-03-23T17:17:43.488Z"
   },
   {
    "duration": 180,
    "start_time": "2023-03-23T17:17:43.544Z"
   },
   {
    "duration": 30,
    "start_time": "2023-03-23T17:17:43.727Z"
   },
   {
    "duration": 27,
    "start_time": "2023-03-23T17:17:43.759Z"
   },
   {
    "duration": 339,
    "start_time": "2023-03-23T17:17:43.787Z"
   },
   {
    "duration": 11,
    "start_time": "2023-03-23T17:17:44.128Z"
   },
   {
    "duration": 17,
    "start_time": "2023-03-23T17:17:44.140Z"
   },
   {
    "duration": 32,
    "start_time": "2023-03-23T17:17:44.159Z"
   },
   {
    "duration": 189,
    "start_time": "2023-03-23T17:17:44.192Z"
   },
   {
    "duration": 9,
    "start_time": "2023-03-23T17:17:44.383Z"
   },
   {
    "duration": 142,
    "start_time": "2023-03-23T17:17:44.393Z"
   },
   {
    "duration": 23,
    "start_time": "2023-03-23T17:17:44.536Z"
   },
   {
    "duration": 33,
    "start_time": "2023-03-23T17:17:44.560Z"
   },
   {
    "duration": 141,
    "start_time": "2023-03-23T17:17:44.595Z"
   },
   {
    "duration": 8,
    "start_time": "2023-03-23T17:17:44.737Z"
   },
   {
    "duration": 7,
    "start_time": "2023-03-23T17:17:44.746Z"
   },
   {
    "duration": 487,
    "start_time": "2023-03-23T17:17:44.755Z"
   },
   {
    "duration": 11,
    "start_time": "2023-03-23T17:17:45.244Z"
   },
   {
    "duration": 22,
    "start_time": "2023-03-23T17:17:45.257Z"
   },
   {
    "duration": 130,
    "start_time": "2023-03-23T17:17:45.281Z"
   },
   {
    "duration": 11,
    "start_time": "2023-03-23T17:17:45.413Z"
   },
   {
    "duration": 288,
    "start_time": "2023-03-23T17:17:45.425Z"
   },
   {
    "duration": 22,
    "start_time": "2023-03-23T17:17:45.715Z"
   },
   {
    "duration": 34,
    "start_time": "2023-03-23T17:17:45.738Z"
   },
   {
    "duration": 272,
    "start_time": "2023-03-23T17:17:45.774Z"
   },
   {
    "duration": 24,
    "start_time": "2023-03-23T17:17:46.048Z"
   },
   {
    "duration": 10,
    "start_time": "2023-03-23T17:17:46.074Z"
   },
   {
    "duration": 551,
    "start_time": "2023-03-23T17:17:46.086Z"
   },
   {
    "duration": 8,
    "start_time": "2023-03-23T17:17:46.639Z"
   },
   {
    "duration": 22,
    "start_time": "2023-03-23T17:17:46.650Z"
   },
   {
    "duration": 10,
    "start_time": "2023-03-23T17:17:46.674Z"
   },
   {
    "duration": 356,
    "start_time": "2023-03-23T17:17:46.685Z"
   },
   {
    "duration": 179,
    "start_time": "2023-03-23T17:17:47.043Z"
   },
   {
    "duration": 7,
    "start_time": "2023-03-23T17:17:47.224Z"
   },
   {
    "duration": 166,
    "start_time": "2023-03-23T17:17:47.233Z"
   },
   {
    "duration": 6,
    "start_time": "2023-03-23T17:17:47.401Z"
   },
   {
    "duration": 146,
    "start_time": "2023-03-23T17:17:47.408Z"
   },
   {
    "duration": 5,
    "start_time": "2023-03-23T17:17:47.556Z"
   },
   {
    "duration": 144,
    "start_time": "2023-03-23T17:17:47.572Z"
   },
   {
    "duration": 7,
    "start_time": "2023-03-23T17:17:47.718Z"
   },
   {
    "duration": 261,
    "start_time": "2023-03-23T17:17:47.727Z"
   },
   {
    "duration": 7,
    "start_time": "2023-03-23T17:17:47.990Z"
   },
   {
    "duration": 201,
    "start_time": "2023-03-23T17:17:47.999Z"
   },
   {
    "duration": 7,
    "start_time": "2023-03-23T17:17:48.201Z"
   },
   {
    "duration": 190,
    "start_time": "2023-03-23T17:17:48.210Z"
   },
   {
    "duration": 8,
    "start_time": "2023-03-23T17:17:48.402Z"
   },
   {
    "duration": 6,
    "start_time": "2023-03-23T17:17:48.411Z"
   },
   {
    "duration": 183,
    "start_time": "2023-03-23T17:17:48.418Z"
   },
   {
    "duration": 10,
    "start_time": "2023-03-23T17:17:48.603Z"
   },
   {
    "duration": 78,
    "start_time": "2023-03-23T17:17:48.614Z"
   },
   {
    "duration": 804,
    "start_time": "2023-03-23T17:17:48.693Z"
   },
   {
    "duration": 413,
    "start_time": "2023-03-23T17:17:49.499Z"
   },
   {
    "duration": 25,
    "start_time": "2023-03-23T17:17:49.914Z"
   },
   {
    "duration": 266,
    "start_time": "2023-03-23T17:17:49.940Z"
   },
   {
    "duration": 853,
    "start_time": "2023-03-23T17:42:08.261Z"
   },
   {
    "duration": 247,
    "start_time": "2023-03-23T17:42:09.117Z"
   },
   {
    "duration": 2393,
    "start_time": "2023-03-23T17:42:09.367Z"
   },
   {
    "duration": 7,
    "start_time": "2023-03-23T17:42:11.764Z"
   },
   {
    "duration": 14,
    "start_time": "2023-03-23T17:42:11.774Z"
   },
   {
    "duration": 67,
    "start_time": "2023-03-23T17:42:11.790Z"
   },
   {
    "duration": 20,
    "start_time": "2023-03-23T17:42:11.862Z"
   },
   {
    "duration": 32,
    "start_time": "2023-03-23T17:42:11.885Z"
   },
   {
    "duration": 23,
    "start_time": "2023-03-23T17:42:11.920Z"
   },
   {
    "duration": 14,
    "start_time": "2023-03-23T17:42:11.947Z"
   },
   {
    "duration": 105,
    "start_time": "2023-03-23T17:42:11.963Z"
   },
   {
    "duration": 94,
    "start_time": "2023-03-23T17:42:12.070Z"
   },
   {
    "duration": 279,
    "start_time": "2023-03-23T17:42:12.166Z"
   },
   {
    "duration": 47,
    "start_time": "2023-03-23T17:42:12.447Z"
   },
   {
    "duration": 46,
    "start_time": "2023-03-23T17:42:12.496Z"
   },
   {
    "duration": 557,
    "start_time": "2023-03-23T17:42:12.545Z"
   },
   {
    "duration": 17,
    "start_time": "2023-03-23T17:42:13.105Z"
   },
   {
    "duration": 31,
    "start_time": "2023-03-23T17:42:13.124Z"
   },
   {
    "duration": 30,
    "start_time": "2023-03-23T17:42:13.158Z"
   },
   {
    "duration": 226,
    "start_time": "2023-03-23T17:42:13.190Z"
   },
   {
    "duration": 14,
    "start_time": "2023-03-23T17:42:13.420Z"
   },
   {
    "duration": 238,
    "start_time": "2023-03-23T17:42:13.444Z"
   },
   {
    "duration": 139,
    "start_time": "2023-03-23T17:42:13.684Z"
   },
   {
    "duration": 56,
    "start_time": "2023-03-23T17:42:13.825Z"
   },
   {
    "duration": 320,
    "start_time": "2023-03-23T17:42:13.884Z"
   },
   {
    "duration": 15,
    "start_time": "2023-03-23T17:42:14.206Z"
   },
   {
    "duration": 14,
    "start_time": "2023-03-23T17:42:14.240Z"
   },
   {
    "duration": 806,
    "start_time": "2023-03-23T17:42:14.259Z"
   },
   {
    "duration": 22,
    "start_time": "2023-03-23T17:42:15.068Z"
   },
   {
    "duration": 24,
    "start_time": "2023-03-23T17:42:15.092Z"
   },
   {
    "duration": 219,
    "start_time": "2023-03-23T17:42:15.119Z"
   },
   {
    "duration": 33,
    "start_time": "2023-03-23T17:42:15.339Z"
   },
   {
    "duration": 515,
    "start_time": "2023-03-23T17:42:15.374Z"
   },
   {
    "duration": 29,
    "start_time": "2023-03-23T17:42:15.891Z"
   },
   {
    "duration": 43,
    "start_time": "2023-03-23T17:42:15.923Z"
   },
   {
    "duration": 353,
    "start_time": "2023-03-23T17:42:15.969Z"
   },
   {
    "duration": 28,
    "start_time": "2023-03-23T17:42:16.324Z"
   },
   {
    "duration": 12,
    "start_time": "2023-03-23T17:42:16.354Z"
   },
   {
    "duration": 901,
    "start_time": "2023-03-23T17:42:16.368Z"
   },
   {
    "duration": 9,
    "start_time": "2023-03-23T17:42:17.271Z"
   },
   {
    "duration": 13,
    "start_time": "2023-03-23T17:42:17.282Z"
   },
   {
    "duration": 3,
    "start_time": "2023-03-23T17:42:17.297Z"
   },
   {
    "duration": 550,
    "start_time": "2023-03-23T17:42:17.302Z"
   },
   {
    "duration": 273,
    "start_time": "2023-03-23T17:42:17.855Z"
   },
   {
    "duration": 17,
    "start_time": "2023-03-23T17:42:18.131Z"
   },
   {
    "duration": 270,
    "start_time": "2023-03-23T17:42:18.151Z"
   },
   {
    "duration": 18,
    "start_time": "2023-03-23T17:42:18.424Z"
   },
   {
    "duration": 181,
    "start_time": "2023-03-23T17:42:18.445Z"
   },
   {
    "duration": 18,
    "start_time": "2023-03-23T17:42:18.627Z"
   },
   {
    "duration": 197,
    "start_time": "2023-03-23T17:42:18.647Z"
   },
   {
    "duration": 8,
    "start_time": "2023-03-23T17:42:18.847Z"
   },
   {
    "duration": 324,
    "start_time": "2023-03-23T17:42:18.858Z"
   },
   {
    "duration": 9,
    "start_time": "2023-03-23T17:42:19.185Z"
   },
   {
    "duration": 372,
    "start_time": "2023-03-23T17:42:19.196Z"
   },
   {
    "duration": 8,
    "start_time": "2023-03-23T17:42:19.571Z"
   },
   {
    "duration": 389,
    "start_time": "2023-03-23T17:42:19.581Z"
   },
   {
    "duration": 7,
    "start_time": "2023-03-23T17:42:19.972Z"
   },
   {
    "duration": 6,
    "start_time": "2023-03-23T17:42:19.981Z"
   },
   {
    "duration": 238,
    "start_time": "2023-03-23T17:42:19.989Z"
   },
   {
    "duration": 33,
    "start_time": "2023-03-23T17:42:20.230Z"
   },
   {
    "duration": 94,
    "start_time": "2023-03-23T17:42:20.265Z"
   },
   {
    "duration": 1046,
    "start_time": "2023-03-23T17:42:20.362Z"
   },
   {
    "duration": 560,
    "start_time": "2023-03-23T17:42:21.410Z"
   },
   {
    "duration": 50,
    "start_time": "2023-03-23T17:42:21.973Z"
   },
   {
    "duration": 369,
    "start_time": "2023-03-23T17:42:22.042Z"
   },
   {
    "duration": 22,
    "start_time": "2023-03-23T18:47:13.067Z"
   },
   {
    "duration": 8,
    "start_time": "2023-03-23T18:48:18.586Z"
   },
   {
    "duration": 145,
    "start_time": "2023-03-23T19:05:40.844Z"
   },
   {
    "duration": 23,
    "start_time": "2023-03-23T19:05:44.269Z"
   },
   {
    "duration": 139,
    "start_time": "2023-03-23T19:07:18.638Z"
   },
   {
    "duration": 12,
    "start_time": "2023-03-23T19:07:33.690Z"
   },
   {
    "duration": 10,
    "start_time": "2023-03-23T19:07:37.991Z"
   },
   {
    "duration": 60,
    "start_time": "2023-03-24T17:28:16.814Z"
   },
   {
    "duration": 766,
    "start_time": "2023-03-24T17:28:24.548Z"
   },
   {
    "duration": 192,
    "start_time": "2023-03-24T17:28:25.349Z"
   },
   {
    "duration": 2207,
    "start_time": "2023-03-24T17:29:01.036Z"
   },
   {
    "duration": 53,
    "start_time": "2023-03-24T20:40:10.661Z"
   },
   {
    "duration": 934,
    "start_time": "2023-03-24T20:40:15.564Z"
   },
   {
    "duration": 215,
    "start_time": "2023-03-24T20:40:16.500Z"
   },
   {
    "duration": 114,
    "start_time": "2023-03-24T20:44:24.734Z"
   },
   {
    "duration": 115,
    "start_time": "2023-03-24T20:44:53.181Z"
   },
   {
    "duration": 118,
    "start_time": "2023-03-24T20:45:08.060Z"
   },
   {
    "duration": 26,
    "start_time": "2023-03-24T20:53:21.570Z"
   },
   {
    "duration": 21,
    "start_time": "2023-03-24T20:53:42.058Z"
   },
   {
    "duration": 28,
    "start_time": "2023-03-24T20:55:58.103Z"
   },
   {
    "duration": 26,
    "start_time": "2023-03-24T20:56:29.053Z"
   },
   {
    "duration": 31,
    "start_time": "2023-03-24T20:57:36.204Z"
   },
   {
    "duration": 23,
    "start_time": "2023-03-24T20:57:52.876Z"
   },
   {
    "duration": 49,
    "start_time": "2023-03-24T20:59:17.914Z"
   },
   {
    "duration": 26,
    "start_time": "2023-03-24T20:59:26.955Z"
   },
   {
    "duration": 746,
    "start_time": "2023-03-24T20:59:53.874Z"
   },
   {
    "duration": 29,
    "start_time": "2023-03-24T21:00:16.225Z"
   },
   {
    "duration": 23,
    "start_time": "2023-03-24T21:01:19.279Z"
   },
   {
    "duration": 22,
    "start_time": "2023-03-24T21:01:35.599Z"
   },
   {
    "duration": 24,
    "start_time": "2023-03-24T21:01:51.399Z"
   },
   {
    "duration": 21,
    "start_time": "2023-03-24T21:02:02.591Z"
   },
   {
    "duration": 22,
    "start_time": "2023-03-24T21:05:41.482Z"
   },
   {
    "duration": 169,
    "start_time": "2023-03-24T21:06:05.897Z"
   },
   {
    "duration": 169,
    "start_time": "2023-03-24T21:06:27.065Z"
   },
   {
    "duration": 161,
    "start_time": "2023-03-24T21:06:40.832Z"
   },
   {
    "duration": 3,
    "start_time": "2023-03-24T21:07:23.079Z"
   },
   {
    "duration": 112,
    "start_time": "2023-03-24T21:07:23.686Z"
   },
   {
    "duration": 122,
    "start_time": "2023-03-24T21:07:28.215Z"
   },
   {
    "duration": 176,
    "start_time": "2023-03-24T21:07:51.239Z"
   },
   {
    "duration": 179,
    "start_time": "2023-03-24T21:08:06.902Z"
   },
   {
    "duration": 171,
    "start_time": "2023-03-24T21:08:39.782Z"
   },
   {
    "duration": 201,
    "start_time": "2023-03-24T21:09:01.150Z"
   },
   {
    "duration": 27,
    "start_time": "2023-03-24T21:09:57.740Z"
   },
   {
    "duration": 8,
    "start_time": "2023-03-24T21:21:11.229Z"
   },
   {
    "duration": 166,
    "start_time": "2023-03-24T21:27:09.749Z"
   },
   {
    "duration": 209,
    "start_time": "2023-03-24T21:27:52.628Z"
   },
   {
    "duration": 151,
    "start_time": "2023-03-24T21:28:09.907Z"
   },
   {
    "duration": 166,
    "start_time": "2023-03-24T21:28:15.516Z"
   },
   {
    "duration": 139,
    "start_time": "2023-03-24T21:28:25.629Z"
   },
   {
    "duration": 171,
    "start_time": "2023-03-24T21:28:54.186Z"
   },
   {
    "duration": 167,
    "start_time": "2023-03-24T21:29:05.676Z"
   },
   {
    "duration": 160,
    "start_time": "2023-03-24T21:29:16.298Z"
   },
   {
    "duration": 158,
    "start_time": "2023-03-24T21:29:22.753Z"
   },
   {
    "duration": 152,
    "start_time": "2023-03-24T21:29:29.226Z"
   },
   {
    "duration": 58,
    "start_time": "2023-03-24T21:30:05.569Z"
   },
   {
    "duration": 6,
    "start_time": "2023-03-24T21:30:12.793Z"
   },
   {
    "duration": 43,
    "start_time": "2023-03-24T21:32:39.574Z"
   },
   {
    "duration": 690,
    "start_time": "2023-03-24T21:33:50.908Z"
   },
   {
    "duration": 695,
    "start_time": "2023-03-24T21:35:31.074Z"
   },
   {
    "duration": 656,
    "start_time": "2023-03-24T21:36:07.097Z"
   },
   {
    "duration": 680,
    "start_time": "2023-03-24T21:36:57.992Z"
   },
   {
    "duration": 12,
    "start_time": "2023-03-24T21:39:25.236Z"
   },
   {
    "duration": 10,
    "start_time": "2023-03-24T21:39:40.908Z"
   },
   {
    "duration": 15,
    "start_time": "2023-03-24T21:40:00.284Z"
   },
   {
    "duration": 608,
    "start_time": "2023-03-24T21:40:15.096Z"
   },
   {
    "duration": 219,
    "start_time": "2023-03-24T21:40:15.706Z"
   },
   {
    "duration": 1932,
    "start_time": "2023-03-24T21:40:15.927Z"
   },
   {
    "duration": 5,
    "start_time": "2023-03-24T21:40:17.861Z"
   },
   {
    "duration": 10,
    "start_time": "2023-03-24T21:40:17.868Z"
   },
   {
    "duration": 29,
    "start_time": "2023-03-24T21:40:17.880Z"
   },
   {
    "duration": 14,
    "start_time": "2023-03-24T21:40:17.911Z"
   },
   {
    "duration": 36,
    "start_time": "2023-03-24T21:40:17.927Z"
   },
   {
    "duration": 5,
    "start_time": "2023-03-24T21:40:17.964Z"
   },
   {
    "duration": 8,
    "start_time": "2023-03-24T21:40:17.971Z"
   },
   {
    "duration": 83,
    "start_time": "2023-03-24T21:40:17.980Z"
   },
   {
    "duration": 61,
    "start_time": "2023-03-24T21:40:18.064Z"
   },
   {
    "duration": 222,
    "start_time": "2023-03-24T21:40:18.141Z"
   },
   {
    "duration": 33,
    "start_time": "2023-03-24T21:40:18.365Z"
   },
   {
    "duration": 18,
    "start_time": "2023-03-24T21:40:18.399Z"
   },
   {
    "duration": 378,
    "start_time": "2023-03-24T21:40:18.419Z"
   },
   {
    "duration": 12,
    "start_time": "2023-03-24T21:40:18.798Z"
   },
   {
    "duration": 8,
    "start_time": "2023-03-24T21:40:18.812Z"
   },
   {
    "duration": 37,
    "start_time": "2023-03-24T21:40:18.821Z"
   },
   {
    "duration": 153,
    "start_time": "2023-03-24T21:40:18.860Z"
   },
   {
    "duration": 9,
    "start_time": "2023-03-24T21:40:19.015Z"
   },
   {
    "duration": 98,
    "start_time": "2023-03-24T21:40:19.025Z"
   },
   {
    "duration": 0,
    "start_time": "2023-03-24T21:40:19.125Z"
   },
   {
    "duration": 0,
    "start_time": "2023-03-24T21:40:19.207Z"
   },
   {
    "duration": 0,
    "start_time": "2023-03-24T21:40:19.208Z"
   },
   {
    "duration": 0,
    "start_time": "2023-03-24T21:40:19.209Z"
   },
   {
    "duration": 0,
    "start_time": "2023-03-24T21:40:19.210Z"
   },
   {
    "duration": 1,
    "start_time": "2023-03-24T21:40:19.210Z"
   },
   {
    "duration": 0,
    "start_time": "2023-03-24T21:40:19.211Z"
   },
   {
    "duration": 0,
    "start_time": "2023-03-24T21:40:19.212Z"
   },
   {
    "duration": 0,
    "start_time": "2023-03-24T21:40:19.213Z"
   },
   {
    "duration": 0,
    "start_time": "2023-03-24T21:40:19.214Z"
   },
   {
    "duration": 0,
    "start_time": "2023-03-24T21:40:19.215Z"
   },
   {
    "duration": 0,
    "start_time": "2023-03-24T21:40:19.216Z"
   },
   {
    "duration": 0,
    "start_time": "2023-03-24T21:40:19.217Z"
   },
   {
    "duration": 0,
    "start_time": "2023-03-24T21:40:19.218Z"
   },
   {
    "duration": 0,
    "start_time": "2023-03-24T21:40:19.219Z"
   },
   {
    "duration": 0,
    "start_time": "2023-03-24T21:40:19.240Z"
   },
   {
    "duration": 1,
    "start_time": "2023-03-24T21:40:19.240Z"
   },
   {
    "duration": 0,
    "start_time": "2023-03-24T21:40:19.242Z"
   },
   {
    "duration": 0,
    "start_time": "2023-03-24T21:40:19.243Z"
   },
   {
    "duration": 0,
    "start_time": "2023-03-24T21:40:19.244Z"
   },
   {
    "duration": 0,
    "start_time": "2023-03-24T21:40:19.245Z"
   },
   {
    "duration": 0,
    "start_time": "2023-03-24T21:40:19.246Z"
   },
   {
    "duration": 0,
    "start_time": "2023-03-24T21:40:19.247Z"
   },
   {
    "duration": 0,
    "start_time": "2023-03-24T21:40:19.248Z"
   },
   {
    "duration": 0,
    "start_time": "2023-03-24T21:40:19.249Z"
   },
   {
    "duration": 0,
    "start_time": "2023-03-24T21:40:19.250Z"
   },
   {
    "duration": 0,
    "start_time": "2023-03-24T21:40:19.251Z"
   },
   {
    "duration": 0,
    "start_time": "2023-03-24T21:40:19.252Z"
   },
   {
    "duration": 0,
    "start_time": "2023-03-24T21:40:19.253Z"
   },
   {
    "duration": 0,
    "start_time": "2023-03-24T21:40:19.254Z"
   },
   {
    "duration": 0,
    "start_time": "2023-03-24T21:40:19.255Z"
   },
   {
    "duration": 0,
    "start_time": "2023-03-24T21:40:19.256Z"
   },
   {
    "duration": 0,
    "start_time": "2023-03-24T21:40:19.256Z"
   },
   {
    "duration": 0,
    "start_time": "2023-03-24T21:40:19.258Z"
   },
   {
    "duration": 0,
    "start_time": "2023-03-24T21:40:19.259Z"
   },
   {
    "duration": 0,
    "start_time": "2023-03-24T21:40:19.260Z"
   },
   {
    "duration": 0,
    "start_time": "2023-03-24T21:40:19.261Z"
   },
   {
    "duration": 0,
    "start_time": "2023-03-24T21:40:19.262Z"
   },
   {
    "duration": 0,
    "start_time": "2023-03-24T21:40:19.263Z"
   },
   {
    "duration": 0,
    "start_time": "2023-03-24T21:40:19.264Z"
   },
   {
    "duration": 0,
    "start_time": "2023-03-24T21:40:19.265Z"
   },
   {
    "duration": 0,
    "start_time": "2023-03-24T21:40:19.265Z"
   },
   {
    "duration": 0,
    "start_time": "2023-03-24T21:40:19.267Z"
   },
   {
    "duration": 0,
    "start_time": "2023-03-24T21:40:19.269Z"
   },
   {
    "duration": 0,
    "start_time": "2023-03-24T21:40:19.270Z"
   },
   {
    "duration": 0,
    "start_time": "2023-03-24T21:40:19.271Z"
   },
   {
    "duration": 189,
    "start_time": "2023-03-24T21:43:01.024Z"
   },
   {
    "duration": 21,
    "start_time": "2023-03-24T21:45:31.348Z"
   },
   {
    "duration": 28,
    "start_time": "2023-03-24T21:45:41.988Z"
   },
   {
    "duration": 192,
    "start_time": "2023-03-24T21:46:11.172Z"
   },
   {
    "duration": 22,
    "start_time": "2023-03-24T21:46:33.883Z"
   },
   {
    "duration": 23,
    "start_time": "2023-03-24T21:46:44.091Z"
   },
   {
    "duration": 21,
    "start_time": "2023-03-24T21:46:49.251Z"
   },
   {
    "duration": 27,
    "start_time": "2023-03-24T21:49:37.848Z"
   },
   {
    "duration": 140,
    "start_time": "2023-03-24T21:49:53.262Z"
   },
   {
    "duration": 666,
    "start_time": "2023-03-24T21:50:02.087Z"
   },
   {
    "duration": 206,
    "start_time": "2023-03-24T21:50:02.755Z"
   },
   {
    "duration": 1818,
    "start_time": "2023-03-24T21:50:02.963Z"
   },
   {
    "duration": 5,
    "start_time": "2023-03-24T21:50:04.783Z"
   },
   {
    "duration": 29,
    "start_time": "2023-03-24T21:50:04.789Z"
   },
   {
    "duration": 28,
    "start_time": "2023-03-24T21:50:04.819Z"
   },
   {
    "duration": 16,
    "start_time": "2023-03-24T21:50:04.848Z"
   },
   {
    "duration": 28,
    "start_time": "2023-03-24T21:50:04.866Z"
   },
   {
    "duration": 5,
    "start_time": "2023-03-24T21:50:04.895Z"
   },
   {
    "duration": 17,
    "start_time": "2023-03-24T21:50:04.903Z"
   },
   {
    "duration": 83,
    "start_time": "2023-03-24T21:50:04.921Z"
   },
   {
    "duration": 89,
    "start_time": "2023-03-24T21:50:05.006Z"
   },
   {
    "duration": 221,
    "start_time": "2023-03-24T21:50:05.097Z"
   },
   {
    "duration": 54,
    "start_time": "2023-03-24T21:50:05.320Z"
   },
   {
    "duration": 27,
    "start_time": "2023-03-24T21:50:05.376Z"
   },
   {
    "duration": 393,
    "start_time": "2023-03-24T21:50:05.405Z"
   },
   {
    "duration": 11,
    "start_time": "2023-03-24T21:50:05.800Z"
   },
   {
    "duration": 13,
    "start_time": "2023-03-24T21:50:05.813Z"
   },
   {
    "duration": 31,
    "start_time": "2023-03-24T21:50:05.827Z"
   },
   {
    "duration": 147,
    "start_time": "2023-03-24T21:50:05.859Z"
   },
   {
    "duration": 11,
    "start_time": "2023-03-24T21:50:06.007Z"
   },
   {
    "duration": 266,
    "start_time": "2023-03-24T21:50:06.019Z"
   },
   {
    "duration": 30,
    "start_time": "2023-03-24T21:50:06.287Z"
   },
   {
    "duration": 55,
    "start_time": "2023-03-24T21:50:06.320Z"
   },
   {
    "duration": 204,
    "start_time": "2023-03-24T21:50:06.377Z"
   },
   {
    "duration": 12,
    "start_time": "2023-03-24T21:50:06.583Z"
   },
   {
    "duration": 13,
    "start_time": "2023-03-24T21:50:06.597Z"
   },
   {
    "duration": 690,
    "start_time": "2023-03-24T21:50:06.615Z"
   },
   {
    "duration": 11,
    "start_time": "2023-03-24T21:50:07.306Z"
   },
   {
    "duration": 37,
    "start_time": "2023-03-24T21:50:07.319Z"
   },
   {
    "duration": 144,
    "start_time": "2023-03-24T21:50:07.358Z"
   },
   {
    "duration": 16,
    "start_time": "2023-03-24T21:50:07.503Z"
   },
   {
    "duration": 349,
    "start_time": "2023-03-24T21:50:07.520Z"
   },
   {
    "duration": 19,
    "start_time": "2023-03-24T21:50:07.871Z"
   },
   {
    "duration": 13,
    "start_time": "2023-03-24T21:50:07.892Z"
   },
   {
    "duration": 251,
    "start_time": "2023-03-24T21:50:07.906Z"
   },
   {
    "duration": 16,
    "start_time": "2023-03-24T21:50:08.159Z"
   },
   {
    "duration": 11,
    "start_time": "2023-03-24T21:50:08.176Z"
   },
   {
    "duration": 584,
    "start_time": "2023-03-24T21:50:08.188Z"
   },
   {
    "duration": 7,
    "start_time": "2023-03-24T21:50:08.774Z"
   },
   {
    "duration": 23,
    "start_time": "2023-03-24T21:50:08.783Z"
   },
   {
    "duration": 6,
    "start_time": "2023-03-24T21:50:08.807Z"
   },
   {
    "duration": 368,
    "start_time": "2023-03-24T21:50:08.815Z"
   },
   {
    "duration": 175,
    "start_time": "2023-03-24T21:50:09.185Z"
   },
   {
    "duration": 9,
    "start_time": "2023-03-24T21:50:09.362Z"
   },
   {
    "duration": 162,
    "start_time": "2023-03-24T21:50:09.372Z"
   },
   {
    "duration": 8,
    "start_time": "2023-03-24T21:50:09.540Z"
   },
   {
    "duration": 180,
    "start_time": "2023-03-24T21:50:09.550Z"
   },
   {
    "duration": 12,
    "start_time": "2023-03-24T21:50:09.732Z"
   },
   {
    "duration": 224,
    "start_time": "2023-03-24T21:50:09.746Z"
   },
   {
    "duration": 6,
    "start_time": "2023-03-24T21:50:09.972Z"
   },
   {
    "duration": 236,
    "start_time": "2023-03-24T21:50:09.979Z"
   },
   {
    "duration": 7,
    "start_time": "2023-03-24T21:50:10.216Z"
   },
   {
    "duration": 201,
    "start_time": "2023-03-24T21:50:10.224Z"
   },
   {
    "duration": 14,
    "start_time": "2023-03-24T21:50:10.426Z"
   },
   {
    "duration": 179,
    "start_time": "2023-03-24T21:50:10.441Z"
   },
   {
    "duration": 7,
    "start_time": "2023-03-24T21:50:10.621Z"
   },
   {
    "duration": 180,
    "start_time": "2023-03-24T21:50:10.639Z"
   },
   {
    "duration": 7,
    "start_time": "2023-03-24T21:50:10.820Z"
   },
   {
    "duration": 138,
    "start_time": "2023-03-24T21:50:10.829Z"
   },
   {
    "duration": 6,
    "start_time": "2023-03-24T21:50:10.969Z"
   },
   {
    "duration": 178,
    "start_time": "2023-03-24T21:50:10.977Z"
   },
   {
    "duration": 9,
    "start_time": "2023-03-24T21:50:11.156Z"
   },
   {
    "duration": 73,
    "start_time": "2023-03-24T21:50:11.167Z"
   },
   {
    "duration": 924,
    "start_time": "2023-03-24T21:50:11.242Z"
   },
   {
    "duration": 423,
    "start_time": "2023-03-24T21:50:12.167Z"
   },
   {
    "duration": 24,
    "start_time": "2023-03-24T21:50:12.592Z"
   },
   {
    "duration": 303,
    "start_time": "2023-03-24T21:50:12.618Z"
   },
   {
    "duration": 62,
    "start_time": "2023-03-24T21:50:26.599Z"
   },
   {
    "duration": 46,
    "start_time": "2023-03-24T21:50:32.862Z"
   },
   {
    "duration": 256,
    "start_time": "2023-03-24T21:50:43.269Z"
   },
   {
    "duration": 139,
    "start_time": "2023-03-24T21:51:43.276Z"
   },
   {
    "duration": 155,
    "start_time": "2023-03-24T21:51:49.044Z"
   },
   {
    "duration": 120,
    "start_time": "2023-03-24T21:51:56.307Z"
   },
   {
    "duration": 190,
    "start_time": "2023-03-24T21:52:00.883Z"
   },
   {
    "duration": 115,
    "start_time": "2023-03-24T21:52:07.284Z"
   },
   {
    "duration": 115,
    "start_time": "2023-03-24T21:52:18.755Z"
   },
   {
    "duration": 17,
    "start_time": "2023-03-24T21:52:46.434Z"
   },
   {
    "duration": 36,
    "start_time": "2023-03-24T21:54:21.331Z"
   },
   {
    "duration": 131,
    "start_time": "2023-03-24T21:55:40.703Z"
   },
   {
    "duration": 127,
    "start_time": "2023-03-24T21:55:55.238Z"
   },
   {
    "duration": 142,
    "start_time": "2023-03-24T21:56:02.853Z"
   },
   {
    "duration": 178,
    "start_time": "2023-03-24T21:56:12.278Z"
   },
   {
    "duration": 121,
    "start_time": "2023-03-24T21:56:37.390Z"
   },
   {
    "duration": 143,
    "start_time": "2023-03-24T21:56:47.445Z"
   },
   {
    "duration": 61,
    "start_time": "2023-03-24T21:58:50.442Z"
   },
   {
    "duration": 188,
    "start_time": "2023-03-24T22:01:38.959Z"
   },
   {
    "duration": 336,
    "start_time": "2023-03-24T22:01:56.358Z"
   },
   {
    "duration": 153,
    "start_time": "2023-03-24T22:02:02.998Z"
   },
   {
    "duration": 5,
    "start_time": "2023-03-24T22:04:27.187Z"
   },
   {
    "duration": 7,
    "start_time": "2023-03-24T22:05:25.338Z"
   },
   {
    "duration": 167,
    "start_time": "2023-03-24T22:08:18.006Z"
   },
   {
    "duration": 144,
    "start_time": "2023-03-24T22:08:22.262Z"
   },
   {
    "duration": 139,
    "start_time": "2023-03-24T22:08:27.661Z"
   },
   {
    "duration": 152,
    "start_time": "2023-03-24T22:08:32.381Z"
   },
   {
    "duration": 149,
    "start_time": "2023-03-24T22:08:39.277Z"
   },
   {
    "duration": 155,
    "start_time": "2023-03-24T22:08:43.045Z"
   },
   {
    "duration": 163,
    "start_time": "2023-03-24T22:09:39.692Z"
   },
   {
    "duration": 151,
    "start_time": "2023-03-24T22:09:46.371Z"
   },
   {
    "duration": 154,
    "start_time": "2023-03-24T22:09:51.972Z"
   },
   {
    "duration": 259,
    "start_time": "2023-03-24T22:14:11.078Z"
   },
   {
    "duration": 156,
    "start_time": "2023-03-24T22:14:19.453Z"
   },
   {
    "duration": 173,
    "start_time": "2023-03-24T22:14:26.085Z"
   },
   {
    "duration": 161,
    "start_time": "2023-03-24T22:14:31.852Z"
   },
   {
    "duration": 173,
    "start_time": "2023-03-24T22:14:39.581Z"
   },
   {
    "duration": 168,
    "start_time": "2023-03-24T22:14:49.821Z"
   },
   {
    "duration": 129,
    "start_time": "2023-03-24T22:14:53.268Z"
   },
   {
    "duration": 117,
    "start_time": "2023-03-24T22:16:55.154Z"
   },
   {
    "duration": 143,
    "start_time": "2023-03-24T22:17:12.546Z"
   },
   {
    "duration": 128,
    "start_time": "2023-03-24T22:17:19.217Z"
   },
   {
    "duration": 154,
    "start_time": "2023-03-24T22:17:31.401Z"
   },
   {
    "duration": 221,
    "start_time": "2023-03-24T22:19:27.862Z"
   },
   {
    "duration": 121,
    "start_time": "2023-03-24T22:19:35.526Z"
   },
   {
    "duration": 123,
    "start_time": "2023-03-24T22:21:41.971Z"
   },
   {
    "duration": 138,
    "start_time": "2023-03-24T22:22:45.826Z"
   },
   {
    "duration": 117,
    "start_time": "2023-03-24T22:22:55.554Z"
   },
   {
    "duration": 56,
    "start_time": "2023-03-24T22:25:30.934Z"
   },
   {
    "duration": 883,
    "start_time": "2023-03-24T22:34:31.316Z"
   },
   {
    "duration": 949,
    "start_time": "2023-03-24T22:35:09.681Z"
   },
   {
    "duration": 1108,
    "start_time": "2023-03-24T22:37:05.622Z"
   },
   {
    "duration": 593,
    "start_time": "2023-03-24T22:52:12.167Z"
   },
   {
    "duration": 201,
    "start_time": "2023-03-24T22:52:12.761Z"
   },
   {
    "duration": 1802,
    "start_time": "2023-03-24T22:52:12.964Z"
   },
   {
    "duration": 5,
    "start_time": "2023-03-24T22:52:14.768Z"
   },
   {
    "duration": 9,
    "start_time": "2023-03-24T22:52:14.774Z"
   },
   {
    "duration": 21,
    "start_time": "2023-03-24T22:52:14.785Z"
   },
   {
    "duration": 12,
    "start_time": "2023-03-24T22:52:14.808Z"
   },
   {
    "duration": 25,
    "start_time": "2023-03-24T22:52:14.821Z"
   },
   {
    "duration": 4,
    "start_time": "2023-03-24T22:52:14.847Z"
   },
   {
    "duration": 6,
    "start_time": "2023-03-24T22:52:14.853Z"
   },
   {
    "duration": 55,
    "start_time": "2023-03-24T22:52:14.861Z"
   },
   {
    "duration": 79,
    "start_time": "2023-03-24T22:52:14.917Z"
   },
   {
    "duration": 199,
    "start_time": "2023-03-24T22:52:14.997Z"
   },
   {
    "duration": 32,
    "start_time": "2023-03-24T22:52:15.198Z"
   },
   {
    "duration": 18,
    "start_time": "2023-03-24T22:52:15.240Z"
   },
   {
    "duration": 360,
    "start_time": "2023-03-24T22:52:15.259Z"
   },
   {
    "duration": 19,
    "start_time": "2023-03-24T22:52:15.621Z"
   },
   {
    "duration": 8,
    "start_time": "2023-03-24T22:52:15.641Z"
   },
   {
    "duration": 20,
    "start_time": "2023-03-24T22:52:15.650Z"
   },
   {
    "duration": 150,
    "start_time": "2023-03-24T22:52:15.671Z"
   },
   {
    "duration": 7,
    "start_time": "2023-03-24T22:52:15.823Z"
   },
   {
    "duration": 211,
    "start_time": "2023-03-24T22:52:15.839Z"
   },
   {
    "duration": 25,
    "start_time": "2023-03-24T22:52:16.051Z"
   },
   {
    "duration": 24,
    "start_time": "2023-03-24T22:52:16.078Z"
   },
   {
    "duration": 187,
    "start_time": "2023-03-24T22:52:16.104Z"
   },
   {
    "duration": 8,
    "start_time": "2023-03-24T22:52:16.292Z"
   },
   {
    "duration": 7,
    "start_time": "2023-03-24T22:52:16.302Z"
   },
   {
    "duration": 561,
    "start_time": "2023-03-24T22:52:16.312Z"
   },
   {
    "duration": 12,
    "start_time": "2023-03-24T22:52:16.874Z"
   },
   {
    "duration": 12,
    "start_time": "2023-03-24T22:52:16.888Z"
   },
   {
    "duration": 152,
    "start_time": "2023-03-24T22:52:16.902Z"
   },
   {
    "duration": 13,
    "start_time": "2023-03-24T22:52:17.055Z"
   },
   {
    "duration": 296,
    "start_time": "2023-03-24T22:52:17.070Z"
   },
   {
    "duration": 16,
    "start_time": "2023-03-24T22:52:17.368Z"
   },
   {
    "duration": 12,
    "start_time": "2023-03-24T22:52:17.385Z"
   },
   {
    "duration": 214,
    "start_time": "2023-03-24T22:52:17.399Z"
   },
   {
    "duration": 14,
    "start_time": "2023-03-24T22:52:17.615Z"
   },
   {
    "duration": 7,
    "start_time": "2023-03-24T22:52:17.639Z"
   },
   {
    "duration": 473,
    "start_time": "2023-03-24T22:52:17.648Z"
   },
   {
    "duration": 6,
    "start_time": "2023-03-24T22:52:18.122Z"
   },
   {
    "duration": 14,
    "start_time": "2023-03-24T22:52:18.129Z"
   },
   {
    "duration": 3,
    "start_time": "2023-03-24T22:52:18.144Z"
   },
   {
    "duration": 334,
    "start_time": "2023-03-24T22:52:18.148Z"
   },
   {
    "duration": 149,
    "start_time": "2023-03-24T22:52:18.483Z"
   },
   {
    "duration": 12,
    "start_time": "2023-03-24T22:52:18.633Z"
   },
   {
    "duration": 151,
    "start_time": "2023-03-24T22:52:18.646Z"
   },
   {
    "duration": 5,
    "start_time": "2023-03-24T22:52:18.799Z"
   },
   {
    "duration": 129,
    "start_time": "2023-03-24T22:52:18.806Z"
   },
   {
    "duration": 5,
    "start_time": "2023-03-24T22:52:18.940Z"
   },
   {
    "duration": 143,
    "start_time": "2023-03-24T22:52:18.946Z"
   },
   {
    "duration": 6,
    "start_time": "2023-03-24T22:52:19.090Z"
   },
   {
    "duration": 212,
    "start_time": "2023-03-24T22:52:19.097Z"
   },
   {
    "duration": 5,
    "start_time": "2023-03-24T22:52:19.311Z"
   },
   {
    "duration": 183,
    "start_time": "2023-03-24T22:52:19.318Z"
   },
   {
    "duration": 6,
    "start_time": "2023-03-24T22:52:19.502Z"
   },
   {
    "duration": 175,
    "start_time": "2023-03-24T22:52:19.510Z"
   },
   {
    "duration": 7,
    "start_time": "2023-03-24T22:52:19.687Z"
   },
   {
    "duration": 145,
    "start_time": "2023-03-24T22:52:19.695Z"
   },
   {
    "duration": 5,
    "start_time": "2023-03-24T22:52:19.841Z"
   },
   {
    "duration": 112,
    "start_time": "2023-03-24T22:52:19.848Z"
   },
   {
    "duration": 12,
    "start_time": "2023-03-24T22:52:19.962Z"
   },
   {
    "duration": 148,
    "start_time": "2023-03-24T22:52:19.976Z"
   },
   {
    "duration": 5,
    "start_time": "2023-03-24T22:52:20.125Z"
   },
   {
    "duration": 161,
    "start_time": "2023-03-24T22:52:20.132Z"
   },
   {
    "duration": 161,
    "start_time": "2023-03-24T22:52:20.295Z"
   },
   {
    "duration": 127,
    "start_time": "2023-03-24T22:52:20.457Z"
   },
   {
    "duration": 131,
    "start_time": "2023-03-24T22:52:20.585Z"
   },
   {
    "duration": 199,
    "start_time": "2023-03-24T22:52:20.718Z"
   },
   {
    "duration": 5,
    "start_time": "2023-03-24T22:52:20.918Z"
   },
   {
    "duration": 161,
    "start_time": "2023-03-24T22:52:20.925Z"
   },
   {
    "duration": 7,
    "start_time": "2023-03-24T22:52:21.088Z"
   },
   {
    "duration": 66,
    "start_time": "2023-03-24T22:52:21.096Z"
   },
   {
    "duration": 1002,
    "start_time": "2023-03-24T22:52:21.164Z"
   },
   {
    "duration": 389,
    "start_time": "2023-03-24T22:52:22.167Z"
   },
   {
    "duration": 25,
    "start_time": "2023-03-24T22:52:22.558Z"
   },
   {
    "duration": 331,
    "start_time": "2023-03-24T22:52:22.585Z"
   },
   {
    "duration": 43,
    "start_time": "2023-03-24T22:54:15.262Z"
   },
   {
    "duration": 732,
    "start_time": "2023-03-25T17:06:20.785Z"
   },
   {
    "duration": 231,
    "start_time": "2023-03-25T17:06:21.523Z"
   },
   {
    "duration": 2329,
    "start_time": "2023-03-25T17:06:21.756Z"
   },
   {
    "duration": 4,
    "start_time": "2023-03-25T17:06:24.087Z"
   },
   {
    "duration": 23,
    "start_time": "2023-03-25T17:06:24.094Z"
   },
   {
    "duration": 27,
    "start_time": "2023-03-25T17:06:24.119Z"
   },
   {
    "duration": 34,
    "start_time": "2023-03-25T17:06:24.149Z"
   },
   {
    "duration": 49,
    "start_time": "2023-03-25T17:06:24.191Z"
   },
   {
    "duration": 6,
    "start_time": "2023-03-25T17:06:24.242Z"
   },
   {
    "duration": 7,
    "start_time": "2023-03-25T17:06:24.250Z"
   },
   {
    "duration": 79,
    "start_time": "2023-03-25T17:06:24.258Z"
   },
   {
    "duration": 95,
    "start_time": "2023-03-25T17:06:24.339Z"
   },
   {
    "duration": 249,
    "start_time": "2023-03-25T17:06:24.436Z"
   },
   {
    "duration": 44,
    "start_time": "2023-03-25T17:06:24.698Z"
   },
   {
    "duration": 19,
    "start_time": "2023-03-25T17:06:24.744Z"
   },
   {
    "duration": 428,
    "start_time": "2023-03-25T17:06:24.765Z"
   },
   {
    "duration": 17,
    "start_time": "2023-03-25T17:06:25.200Z"
   },
   {
    "duration": 19,
    "start_time": "2023-03-25T17:06:25.219Z"
   },
   {
    "duration": 22,
    "start_time": "2023-03-25T17:06:25.241Z"
   },
   {
    "duration": 179,
    "start_time": "2023-03-25T17:06:25.265Z"
   },
   {
    "duration": 12,
    "start_time": "2023-03-25T17:06:25.446Z"
   },
   {
    "duration": 280,
    "start_time": "2023-03-25T17:06:25.460Z"
   },
   {
    "duration": 50,
    "start_time": "2023-03-25T17:06:25.742Z"
   },
   {
    "duration": 33,
    "start_time": "2023-03-25T17:06:25.794Z"
   },
   {
    "duration": 196,
    "start_time": "2023-03-25T17:06:25.831Z"
   },
   {
    "duration": 10,
    "start_time": "2023-03-25T17:06:26.029Z"
   },
   {
    "duration": 8,
    "start_time": "2023-03-25T17:06:26.040Z"
   },
   {
    "duration": 723,
    "start_time": "2023-03-25T17:06:26.052Z"
   },
   {
    "duration": 21,
    "start_time": "2023-03-25T17:06:26.776Z"
   },
   {
    "duration": 21,
    "start_time": "2023-03-25T17:06:26.801Z"
   },
   {
    "duration": 156,
    "start_time": "2023-03-25T17:06:26.827Z"
   },
   {
    "duration": 15,
    "start_time": "2023-03-25T17:06:26.985Z"
   },
   {
    "duration": 352,
    "start_time": "2023-03-25T17:06:27.002Z"
   },
   {
    "duration": 30,
    "start_time": "2023-03-25T17:06:27.355Z"
   },
   {
    "duration": 17,
    "start_time": "2023-03-25T17:06:27.388Z"
   },
   {
    "duration": 248,
    "start_time": "2023-03-25T17:06:27.408Z"
   },
   {
    "duration": 26,
    "start_time": "2023-03-25T17:06:27.659Z"
   },
   {
    "duration": 10,
    "start_time": "2023-03-25T17:06:27.687Z"
   },
   {
    "duration": 594,
    "start_time": "2023-03-25T17:06:27.699Z"
   },
   {
    "duration": 10,
    "start_time": "2023-03-25T17:06:28.295Z"
   },
   {
    "duration": 9,
    "start_time": "2023-03-25T17:06:28.307Z"
   },
   {
    "duration": 2,
    "start_time": "2023-03-25T17:06:28.318Z"
   },
   {
    "duration": 386,
    "start_time": "2023-03-25T17:06:28.322Z"
   },
   {
    "duration": 163,
    "start_time": "2023-03-25T17:06:28.709Z"
   },
   {
    "duration": 8,
    "start_time": "2023-03-25T17:06:28.875Z"
   },
   {
    "duration": 199,
    "start_time": "2023-03-25T17:06:28.885Z"
   },
   {
    "duration": 11,
    "start_time": "2023-03-25T17:06:29.090Z"
   },
   {
    "duration": 137,
    "start_time": "2023-03-25T17:06:29.111Z"
   },
   {
    "duration": 5,
    "start_time": "2023-03-25T17:06:29.249Z"
   },
   {
    "duration": 195,
    "start_time": "2023-03-25T17:06:29.255Z"
   },
   {
    "duration": 8,
    "start_time": "2023-03-25T17:06:29.451Z"
   },
   {
    "duration": 246,
    "start_time": "2023-03-25T17:06:29.461Z"
   },
   {
    "duration": 6,
    "start_time": "2023-03-25T17:06:29.709Z"
   },
   {
    "duration": 217,
    "start_time": "2023-03-25T17:06:29.716Z"
   },
   {
    "duration": 7,
    "start_time": "2023-03-25T17:06:29.935Z"
   },
   {
    "duration": 202,
    "start_time": "2023-03-25T17:06:29.944Z"
   },
   {
    "duration": 5,
    "start_time": "2023-03-25T17:06:30.148Z"
   },
   {
    "duration": 182,
    "start_time": "2023-03-25T17:06:30.155Z"
   },
   {
    "duration": 5,
    "start_time": "2023-03-25T17:06:30.339Z"
   },
   {
    "duration": 163,
    "start_time": "2023-03-25T17:06:30.345Z"
   },
   {
    "duration": 16,
    "start_time": "2023-03-25T17:06:30.512Z"
   },
   {
    "duration": 181,
    "start_time": "2023-03-25T17:06:30.530Z"
   },
   {
    "duration": 7,
    "start_time": "2023-03-25T17:06:30.713Z"
   },
   {
    "duration": 231,
    "start_time": "2023-03-25T17:06:30.721Z"
   },
   {
    "duration": 194,
    "start_time": "2023-03-25T17:06:30.953Z"
   },
   {
    "duration": 153,
    "start_time": "2023-03-25T17:06:31.148Z"
   },
   {
    "duration": 136,
    "start_time": "2023-03-25T17:06:31.303Z"
   },
   {
    "duration": 257,
    "start_time": "2023-03-25T17:06:31.440Z"
   },
   {
    "duration": 6,
    "start_time": "2023-03-25T17:06:31.704Z"
   },
   {
    "duration": 200,
    "start_time": "2023-03-25T17:06:31.714Z"
   },
   {
    "duration": 12,
    "start_time": "2023-03-25T17:06:31.916Z"
   },
   {
    "duration": 83,
    "start_time": "2023-03-25T17:06:31.930Z"
   },
   {
    "duration": 1307,
    "start_time": "2023-03-25T17:06:32.015Z"
   },
   {
    "duration": 421,
    "start_time": "2023-03-25T17:06:33.323Z"
   },
   {
    "duration": 56,
    "start_time": "2023-03-25T17:06:33.746Z"
   },
   {
    "duration": 359,
    "start_time": "2023-03-25T17:06:33.804Z"
   }
  ],
  "kernelspec": {
   "display_name": "Python 3 (ipykernel)",
   "language": "python",
   "name": "python3"
  },
  "language_info": {
   "codemirror_mode": {
    "name": "ipython",
    "version": 3
   },
   "file_extension": ".py",
   "mimetype": "text/x-python",
   "name": "python",
   "nbconvert_exporter": "python",
   "pygments_lexer": "ipython3",
   "version": "3.9.5"
  },
  "toc": {
   "base_numbering": 1,
   "nav_menu": {},
   "number_sections": true,
   "sideBar": true,
   "skip_h1_title": true,
   "title_cell": "Table of Contents",
   "title_sidebar": "Contents",
   "toc_cell": false,
   "toc_position": {},
   "toc_section_display": true,
   "toc_window_display": false
  }
 },
 "nbformat": 4,
 "nbformat_minor": 2
}
